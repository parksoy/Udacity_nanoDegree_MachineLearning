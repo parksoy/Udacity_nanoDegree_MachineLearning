{
 "cells": [
  {
   "cell_type": "code",
   "execution_count": 14,
   "metadata": {
    "collapsed": false
   },
   "outputs": [
    {
     "data": {
      "text/plain": [
       "'/Users/parksoy/Desktop/GoogleDrive_Soyoung/Udacity_nanoDegree_MachineLearning/digit_recognition/practice'"
      ]
     },
     "execution_count": 14,
     "metadata": {},
     "output_type": "execute_result"
    }
   ],
   "source": [
    "import os \n",
    "os.getcwd()"
   ]
  },
  {
   "cell_type": "code",
   "execution_count": 29,
   "metadata": {
    "collapsed": false
   },
   "outputs": [],
   "source": [
    "class Song(object):\n",
    "\n",
    "    def __init__(self, lyrics):\n",
    "        self.lyrics = lyrics\n",
    "        print 'hellohello'\n",
    "\n",
    "    def sing_me_a_song(self):\n",
    "        for line in self.lyrics:\n",
    "            print line"
   ]
  },
  {
   "cell_type": "code",
   "execution_count": 30,
   "metadata": {
    "collapsed": false
   },
   "outputs": [
    {
     "name": "stdout",
     "output_type": "stream",
     "text": [
      "hellohello\n",
      "hellohello\n"
     ]
    }
   ],
   "source": [
    "happy_bday = Song([\"Happy birthday to you\",\n",
    "                   \"I don't want to get sued\",\n",
    "                   \"So I'll stop right there\"])\n",
    "\n",
    "bulls_on_parade = Song([\"They rally around tha family\",\n",
    "                        \"With pockets full of shells\"])"
   ]
  },
  {
   "cell_type": "code",
   "execution_count": 31,
   "metadata": {
    "collapsed": false
   },
   "outputs": [
    {
     "name": "stdout",
     "output_type": "stream",
     "text": [
      "Happy birthday to you\n",
      "I don't want to get sued\n",
      "So I'll stop right there\n"
     ]
    }
   ],
   "source": [
    "happy_bday.sing_me_a_song()"
   ]
  },
  {
   "cell_type": "code",
   "execution_count": 32,
   "metadata": {
    "collapsed": false
   },
   "outputs": [
    {
     "name": "stdout",
     "output_type": "stream",
     "text": [
      "They rally around tha family\n",
      "With pockets full of shells\n"
     ]
    }
   ],
   "source": [
    "bulls_on_parade.sing_me_a_song()"
   ]
  },
  {
   "cell_type": "code",
   "execution_count": null,
   "metadata": {
    "collapsed": true
   },
   "outputs": [],
   "source": []
  }
 ],
 "metadata": {
  "anaconda-cloud": {},
  "kernelspec": {
   "display_name": "Python [default]",
   "language": "python",
   "name": "python2"
  },
  "language_info": {
   "codemirror_mode": {
    "name": "ipython",
    "version": 2
   },
   "file_extension": ".py",
   "mimetype": "text/x-python",
   "name": "python",
   "nbconvert_exporter": "python",
   "pygments_lexer": "ipython2",
   "version": "2.7.12"
  }
 },
 "nbformat": 4,
 "nbformat_minor": 1
}
