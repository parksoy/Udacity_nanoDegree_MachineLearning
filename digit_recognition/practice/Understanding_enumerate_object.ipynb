{
 "cells": [
  {
   "cell_type": "code",
   "execution_count": 7,
   "metadata": {
    "collapsed": true
   },
   "outputs": [],
   "source": [
    "#https://www.codecademy.com/en/forum_questions/5087f2d786a27b02000041a9"
   ]
  },
  {
   "cell_type": "code",
   "execution_count": 1,
   "metadata": {
    "collapsed": false
   },
   "outputs": [
    {
     "name": "stdout",
     "output_type": "stream",
     "text": [
      "<enumerate object at 0x104491f50>\n"
     ]
    }
   ],
   "source": [
    "choices = ['pizza', 'pasta', 'salad', 'nachos']\n",
    "print enumerate(choices)"
   ]
  },
  {
   "cell_type": "code",
   "execution_count": 2,
   "metadata": {
    "collapsed": false
   },
   "outputs": [
    {
     "data": {
      "text/plain": [
       "[(0, 'pizza'), (1, 'pasta'), (2, 'salad'), (3, 'nachos')]"
      ]
     },
     "execution_count": 2,
     "metadata": {},
     "output_type": "execute_result"
    }
   ],
   "source": [
    "list(enumerate(choices))"
   ]
  },
  {
   "cell_type": "code",
   "execution_count": 3,
   "metadata": {
    "collapsed": false
   },
   "outputs": [
    {
     "name": "stdout",
     "output_type": "stream",
     "text": [
      "1 pizza\n",
      "2 pasta\n",
      "3 salad\n",
      "4 nachos\n"
     ]
    }
   ],
   "source": [
    "for index, item in enumerate(choices, start = 1):\n",
    "    print index, item"
   ]
  },
  {
   "cell_type": "code",
   "execution_count": 4,
   "metadata": {
    "collapsed": false
   },
   "outputs": [
    {
     "name": "stdout",
     "output_type": "stream",
     "text": [
      "1 pizza\n",
      "2 pasta\n",
      "3 salad\n",
      "4 nachos\n"
     ]
    }
   ],
   "source": [
    "for index, item in enumerate(choices, 1):\n",
    "    print index, item"
   ]
  },
  {
   "cell_type": "code",
   "execution_count": 5,
   "metadata": {
    "collapsed": false
   },
   "outputs": [
    {
     "name": "stdout",
     "output_type": "stream",
     "text": [
      "1 pizza\n",
      "2 pasta\n",
      "3 salad\n",
      "4 nachos\n"
     ]
    }
   ],
   "source": [
    "for index, item in enumerate(choices):\n",
    "    print index + 1, item"
   ]
  },
  {
   "cell_type": "code",
   "execution_count": 6,
   "metadata": {
    "collapsed": false
   },
   "outputs": [
    {
     "name": "stdout",
     "output_type": "stream",
     "text": [
      "0 pizza\n",
      "1 pasta\n",
      "2 salad\n",
      "3 nachos\n"
     ]
    }
   ],
   "source": [
    "for index, item in enumerate(choices):\n",
    "    print index, item"
   ]
  },
  {
   "cell_type": "code",
   "execution_count": null,
   "metadata": {
    "collapsed": true
   },
   "outputs": [],
   "source": []
  }
 ],
 "metadata": {
  "kernelspec": {
   "display_name": "Python [default]",
   "language": "python",
   "name": "python2"
  },
  "language_info": {
   "codemirror_mode": {
    "name": "ipython",
    "version": 2
   },
   "file_extension": ".py",
   "mimetype": "text/x-python",
   "name": "python",
   "nbconvert_exporter": "python",
   "pygments_lexer": "ipython2",
   "version": "2.7.12"
  }
 },
 "nbformat": 4,
 "nbformat_minor": 1
}
