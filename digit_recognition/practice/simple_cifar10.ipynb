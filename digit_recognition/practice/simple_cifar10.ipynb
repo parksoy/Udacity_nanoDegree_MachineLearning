{
 "cells": [
  {
   "cell_type": "code",
   "execution_count": 38,
   "metadata": {
    "collapsed": false
   },
   "outputs": [],
   "source": [
    "import numpy\n",
    "from PIL import Image\n",
    "import matplotlib.pyplot as plt\n",
    "%matplotlib inline\n",
    "from keras.datasets import cifar10\n",
    "from keras.models import Sequential\n",
    "from keras.layers import Dense\n",
    "from keras.layers import Dropout\n",
    "from keras.layers import Flatten\n",
    "from keras.constraints import maxnorm\n",
    "from keras.optimizers import SGD\n",
    "from keras.layers.convolutional import Convolution2D \n",
    "from keras.layers.convolutional import MaxPooling2D \n",
    "from keras.utils import np_utils\n",
    "from keras import backend as K \n",
    "K.set_image_dim_ordering('th')"
   ]
  },
  {
   "cell_type": "code",
   "execution_count": 39,
   "metadata": {
    "collapsed": false
   },
   "outputs": [
    {
     "name": "stdout",
     "output_type": "stream",
     "text": [
      "('X_train.shape--', (50000, 3, 32, 32))\n",
      "('y_train.shape--', (50000, 1))\n",
      "('y_train[0]--', array([6], dtype=uint8))\n",
      "('X_test.shape--', (10000, 3, 32, 32))\n",
      "('y_test.shape--', (10000, 1))\n"
     ]
    }
   ],
   "source": [
    "# fix random seed for reproducibility\n",
    "seed = 7\n",
    "       \n",
    "numpy.random.seed(seed)\n",
    "\n",
    "# load data\n",
    "(X_train, y_train), (X_test, y_test) = cifar10.load_data()\n",
    "X_train = X_train.astype('float32') \n",
    "X_test = X_test.astype('float32') \n",
    "\n",
    "print('X_train.shape--',X_train.shape)\n",
    "print('y_train.shape--',y_train.shape)\n",
    "print('y_train[0]--',y_train[0])\n",
    "\n",
    "print('X_test.shape--',X_test.shape)\n",
    "print('y_test.shape--',y_test.shape)\n"
   ]
  },
  {
   "cell_type": "code",
   "execution_count": 40,
   "metadata": {
    "collapsed": false
   },
   "outputs": [
    {
     "name": "stdout",
     "output_type": "stream",
     "text": [
      "('y_test[0]--', array([ 0.,  0.,  0.,  1.,  0.,  0.,  0.,  0.,  0.,  0.]))\n"
     ]
    }
   ],
   "source": [
    "# one hot encode outputs\n",
    "y_train = np_utils.to_categorical(y_train)\n",
    "y_test = np_utils.to_categorical(y_test)\n",
    "print('y_test[0]--',y_test[0])\n",
    "num_classes = y_test.shape[1]"
   ]
  },
  {
   "cell_type": "code",
   "execution_count": 41,
   "metadata": {
    "collapsed": false
   },
   "outputs": [
    {
     "name": "stdout",
     "output_type": "stream",
     "text": [
      "____________________________________________________________________________________________________\n",
      "Layer (type)                     Output Shape          Param #     Connected to                     \n",
      "====================================================================================================\n",
      "convolution2d_5 (Convolution2D)  (None, 32, 32, 32)    896         convolution2d_input_3[0][0]      \n",
      "____________________________________________________________________________________________________\n",
      "dropout_5 (Dropout)              (None, 32, 32, 32)    0           convolution2d_5[0][0]            \n",
      "____________________________________________________________________________________________________\n",
      "convolution2d_6 (Convolution2D)  (None, 32, 32, 32)    9248        dropout_5[0][0]                  \n",
      "____________________________________________________________________________________________________\n",
      "maxpooling2d_3 (MaxPooling2D)    (None, 32, 16, 16)    0           convolution2d_6[0][0]            \n",
      "____________________________________________________________________________________________________\n",
      "flatten_3 (Flatten)              (None, 8192)          0           maxpooling2d_3[0][0]             \n",
      "____________________________________________________________________________________________________\n",
      "dense_5 (Dense)                  (None, 512)           4194816     flatten_3[0][0]                  \n",
      "____________________________________________________________________________________________________\n",
      "dropout_6 (Dropout)              (None, 512)           0           dense_5[0][0]                    \n",
      "____________________________________________________________________________________________________\n",
      "dense_6 (Dense)                  (None, 10)            5130        dropout_6[0][0]                  \n",
      "====================================================================================================\n",
      "Total params: 4,210,090\n",
      "Trainable params: 4,210,090\n",
      "Non-trainable params: 0\n",
      "____________________________________________________________________________________________________\n",
      "None\n"
     ]
    }
   ],
   "source": [
    "# Create the model\n",
    "model = Sequential()\n",
    "model.add(Convolution2D(32, 3, 3, input_shape=(3, 32, 32), border_mode='same',activation='relu', W_constraint=maxnorm(3)))\n",
    "model.add(Dropout(0.2))\n",
    "model.add(Convolution2D(32, 3, 3, activation='relu', border_mode='same',W_constraint=maxnorm(3))) \n",
    "model.add(MaxPooling2D(pool_size=(2, 2)))\n",
    "model.add(Flatten())\n",
    "model.add(Dense(512, activation='relu', W_constraint=maxnorm(3))) \n",
    "model.add(Dropout(0.5))\n",
    "model.add(Dense(num_classes, activation='softmax')) # Compile model\n",
    "\n",
    "#compile model\n",
    "epochs = 10\n",
    "lrate = 0.01\n",
    "decay = lrate/epochs\n",
    "sgd = SGD(lr=lrate, momentum=0.9, decay=decay, nesterov=False) \n",
    "model.compile(loss='categorical_crossentropy', optimizer=sgd, metrics=['accuracy']) \n",
    "print(model.summary())"
   ]
  },
  {
   "cell_type": "code",
   "execution_count": 42,
   "metadata": {
    "collapsed": false
   },
   "outputs": [
    {
     "name": "stdout",
     "output_type": "stream",
     "text": [
      "Train on 50000 samples, validate on 10000 samples\n",
      "Epoch 1/10\n",
      "1200s - loss: 14.5026 - acc: 0.1002 - val_loss: 14.5079 - val_acc: 0.0999\n",
      "Epoch 2/10\n",
      "1164s - loss: 14.5079 - acc: 0.0999 - val_loss: 14.5079 - val_acc: 0.0999\n",
      "Epoch 3/10\n",
      "1077s - loss: 14.5114 - acc: 0.0997 - val_loss: 14.5079 - val_acc: 0.0999\n",
      "Epoch 4/10\n",
      "1104s - loss: 14.4966 - acc: 0.1006 - val_loss: 14.5079 - val_acc: 0.0999\n",
      "Epoch 5/10\n",
      "1142s - loss: 14.5027 - acc: 0.1002 - val_loss: 14.5079 - val_acc: 0.0999\n",
      "Epoch 6/10\n",
      "1086s - loss: 14.5018 - acc: 0.1003 - val_loss: 14.5079 - val_acc: 0.0999\n",
      "Epoch 7/10\n",
      "1090s - loss: 14.5092 - acc: 0.0998 - val_loss: 14.5079 - val_acc: 0.0999\n",
      "Epoch 8/10\n",
      "1017s - loss: 14.5060 - acc: 0.1000 - val_loss: 14.5079 - val_acc: 0.0999\n",
      "Epoch 9/10\n",
      "1075s - loss: 14.4908 - acc: 0.1010 - val_loss: 14.5079 - val_acc: 0.0999\n",
      "Epoch 10/10\n",
      "984s - loss: 14.5214 - acc: 0.0991 - val_loss: 14.5079 - val_acc: 0.0999\n",
      "Accuracy: 9.99%\n"
     ]
    }
   ],
   "source": [
    "# Fit the model\n",
    "model.fit(X_train, y_train, validation_data=(X_test, y_test), \n",
    "          nb_epoch=epochs,batch_size=16, verbose=2)\n",
    "# Final evaluation of the model\n",
    "scores = model.evaluate(X_test, y_test, verbose=0)\n",
    "print(\"Accuracy: %.2f%%\" % (scores[1]*100))"
   ]
  },
  {
   "cell_type": "code",
   "execution_count": null,
   "metadata": {
    "collapsed": true
   },
   "outputs": [],
   "source": []
  }
 ],
 "metadata": {
  "kernelspec": {
   "display_name": "Python [default]",
   "language": "python",
   "name": "python2"
  },
  "language_info": {
   "codemirror_mode": {
    "name": "ipython",
    "version": 2
   },
   "file_extension": ".py",
   "mimetype": "text/x-python",
   "name": "python",
   "nbconvert_exporter": "python",
   "pygments_lexer": "ipython2",
   "version": "2.7.12"
  }
 },
 "nbformat": 4,
 "nbformat_minor": 1
}
