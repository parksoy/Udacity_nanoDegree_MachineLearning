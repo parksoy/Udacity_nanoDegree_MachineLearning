{
 "cells": [
  {
   "cell_type": "code",
   "execution_count": 1,
   "metadata": {
    "collapsed": false
   },
   "outputs": [
    {
     "data": {
      "text/html": [
       "<div>\n",
       "<table border=\"1\" class=\"dataframe\">\n",
       "  <thead>\n",
       "    <tr style=\"text-align: right;\">\n",
       "      <th></th>\n",
       "      <th>A</th>\n",
       "      <th>B</th>\n",
       "      <th>C</th>\n",
       "      <th>D</th>\n",
       "    </tr>\n",
       "  </thead>\n",
       "  <tbody>\n",
       "    <tr>\n",
       "      <th>0</th>\n",
       "      <td>-1.056142</td>\n",
       "      <td>-0.526380</td>\n",
       "      <td>-1.135911</td>\n",
       "      <td>0.008770</td>\n",
       "    </tr>\n",
       "    <tr>\n",
       "      <th>1</th>\n",
       "      <td>0.373515</td>\n",
       "      <td>0.008721</td>\n",
       "      <td>-0.840300</td>\n",
       "      <td>-0.244096</td>\n",
       "    </tr>\n",
       "    <tr>\n",
       "      <th>2</th>\n",
       "      <td>1.295825</td>\n",
       "      <td>0.959123</td>\n",
       "      <td>-0.512163</td>\n",
       "      <td>0.123864</td>\n",
       "    </tr>\n",
       "    <tr>\n",
       "      <th>3</th>\n",
       "      <td>-0.333477</td>\n",
       "      <td>1.602679</td>\n",
       "      <td>1.122362</td>\n",
       "      <td>2.234422</td>\n",
       "    </tr>\n",
       "    <tr>\n",
       "      <th>4</th>\n",
       "      <td>-1.048204</td>\n",
       "      <td>1.031705</td>\n",
       "      <td>0.512349</td>\n",
       "      <td>-0.583249</td>\n",
       "    </tr>\n",
       "    <tr>\n",
       "      <th>5</th>\n",
       "      <td>-0.057951</td>\n",
       "      <td>-0.016289</td>\n",
       "      <td>1.287123</td>\n",
       "      <td>1.804564</td>\n",
       "    </tr>\n",
       "    <tr>\n",
       "      <th>6</th>\n",
       "      <td>2.338721</td>\n",
       "      <td>-0.007598</td>\n",
       "      <td>0.855377</td>\n",
       "      <td>0.466382</td>\n",
       "    </tr>\n",
       "    <tr>\n",
       "      <th>7</th>\n",
       "      <td>-1.209557</td>\n",
       "      <td>0.557530</td>\n",
       "      <td>0.213229</td>\n",
       "      <td>1.672566</td>\n",
       "    </tr>\n",
       "  </tbody>\n",
       "</table>\n",
       "</div>"
      ],
      "text/plain": [
       "          A         B         C         D\n",
       "0 -1.056142 -0.526380 -1.135911  0.008770\n",
       "1  0.373515  0.008721 -0.840300 -0.244096\n",
       "2  1.295825  0.959123 -0.512163  0.123864\n",
       "3 -0.333477  1.602679  1.122362  2.234422\n",
       "4 -1.048204  1.031705  0.512349 -0.583249\n",
       "5 -0.057951 -0.016289  1.287123  1.804564\n",
       "6  2.338721 -0.007598  0.855377  0.466382\n",
       "7 -1.209557  0.557530  0.213229  1.672566"
      ]
     },
     "metadata": {},
     "output_type": "display_data"
    }
   ],
   "source": [
    "import pandas as pd\n",
    "import numpy as np\n",
    "\n",
    "df=pd.DataFrame(np.random.randn(8,4), columns=['A','B','C','D'])\n",
    "from IPython.display import display # Allows the use of display() for DataFrames\n",
    "display(df)\n"
   ]
  },
  {
   "cell_type": "code",
   "execution_count": 9,
   "metadata": {
    "collapsed": false
   },
   "outputs": [
    {
     "data": {
      "text/plain": [
       "A   -0.892505\n",
       "B    0.346045\n",
       "C   -0.487208\n",
       "D    0.687611\n",
       "Name: 2, dtype: float64"
      ]
     },
     "metadata": {},
     "output_type": "display_data"
    },
    {
     "name": "stdout",
     "output_type": "stream",
     "text": [
      "\n",
      "\n"
     ]
    },
    {
     "data": {
      "text/plain": [
       "A   -0.892505\n",
       "B    0.346045\n",
       "C   -0.487208\n",
       "D    0.687611\n",
       "Name: 2, dtype: float64"
      ]
     },
     "metadata": {},
     "output_type": "display_data"
    }
   ],
   "source": [
    "#xs,ix[rowindexer] are the same \n",
    "s=df.xs(2)\n",
    "display(s)\n",
    "print \"\\n\"\n",
    "s_ix_row=df.ix[2] \n",
    "display(s_ix_row)"
   ]
  },
  {
   "cell_type": "code",
   "execution_count": 7,
   "metadata": {
    "collapsed": false
   },
   "outputs": [
    {
     "data": {
      "text/plain": [
       "0    0.313977\n",
       "1   -0.470391\n",
       "2    0.346045\n",
       "3    1.234306\n",
       "4    0.106820\n",
       "5   -1.686306\n",
       "6   -0.637413\n",
       "7    0.194634\n",
       "Name: B, dtype: float64"
      ]
     },
     "metadata": {},
     "output_type": "display_data"
    }
   ],
   "source": [
    "s_ix_col=df.ix[:,'B'] \n",
    "display(s_ix_col)"
   ]
  },
  {
   "cell_type": "code",
   "execution_count": 10,
   "metadata": {
    "collapsed": false
   },
   "outputs": [
    {
     "data": {
      "text/html": [
       "<div>\n",
       "<table border=\"1\" class=\"dataframe\">\n",
       "  <thead>\n",
       "    <tr style=\"text-align: right;\">\n",
       "      <th></th>\n",
       "      <th>A</th>\n",
       "      <th>B</th>\n",
       "      <th>C</th>\n",
       "      <th>D</th>\n",
       "    </tr>\n",
       "  </thead>\n",
       "  <tbody>\n",
       "    <tr>\n",
       "      <th>0</th>\n",
       "      <td>-0.435310</td>\n",
       "      <td>0.313977</td>\n",
       "      <td>-1.385878</td>\n",
       "      <td>-0.991826</td>\n",
       "    </tr>\n",
       "    <tr>\n",
       "      <th>1</th>\n",
       "      <td>0.443195</td>\n",
       "      <td>-0.470391</td>\n",
       "      <td>-0.534474</td>\n",
       "      <td>-0.668541</td>\n",
       "    </tr>\n",
       "    <tr>\n",
       "      <th>2</th>\n",
       "      <td>-0.892505</td>\n",
       "      <td>0.346045</td>\n",
       "      <td>-0.487208</td>\n",
       "      <td>0.687611</td>\n",
       "    </tr>\n",
       "    <tr>\n",
       "      <th>3</th>\n",
       "      <td>0.306953</td>\n",
       "      <td>1.234306</td>\n",
       "      <td>1.484615</td>\n",
       "      <td>1.013546</td>\n",
       "    </tr>\n",
       "    <tr>\n",
       "      <th>4</th>\n",
       "      <td>1.193094</td>\n",
       "      <td>0.106820</td>\n",
       "      <td>0.651044</td>\n",
       "      <td>1.650039</td>\n",
       "    </tr>\n",
       "    <tr>\n",
       "      <th>5</th>\n",
       "      <td>-1.213601</td>\n",
       "      <td>-1.686306</td>\n",
       "      <td>0.782637</td>\n",
       "      <td>-0.772344</td>\n",
       "    </tr>\n",
       "    <tr>\n",
       "      <th>6</th>\n",
       "      <td>-0.775631</td>\n",
       "      <td>-0.637413</td>\n",
       "      <td>-0.535214</td>\n",
       "      <td>-1.043716</td>\n",
       "    </tr>\n",
       "    <tr>\n",
       "      <th>7</th>\n",
       "      <td>-1.218183</td>\n",
       "      <td>0.194634</td>\n",
       "      <td>0.730464</td>\n",
       "      <td>-3.065086</td>\n",
       "    </tr>\n",
       "    <tr>\n",
       "      <th>2</th>\n",
       "      <td>-0.892505</td>\n",
       "      <td>0.346045</td>\n",
       "      <td>-0.487208</td>\n",
       "      <td>0.687611</td>\n",
       "    </tr>\n",
       "  </tbody>\n",
       "</table>\n",
       "</div>"
      ],
      "text/plain": [
       "          A         B         C         D\n",
       "0 -0.435310  0.313977 -1.385878 -0.991826\n",
       "1  0.443195 -0.470391 -0.534474 -0.668541\n",
       "2 -0.892505  0.346045 -0.487208  0.687611\n",
       "3  0.306953  1.234306  1.484615  1.013546\n",
       "4  1.193094  0.106820  0.651044  1.650039\n",
       "5 -1.213601 -1.686306  0.782637 -0.772344\n",
       "6 -0.775631 -0.637413 -0.535214 -1.043716\n",
       "7 -1.218183  0.194634  0.730464 -3.065086\n",
       "2 -0.892505  0.346045 -0.487208  0.687611"
      ]
     },
     "execution_count": 10,
     "metadata": {},
     "output_type": "execute_result"
    }
   ],
   "source": [
    "#Appending a new row to dataframe\n",
    "df.append(s)"
   ]
  },
  {
   "cell_type": "code",
   "execution_count": 13,
   "metadata": {
    "collapsed": false
   },
   "outputs": [
    {
     "data": {
      "text/html": [
       "<div>\n",
       "<table border=\"1\" class=\"dataframe\">\n",
       "  <thead>\n",
       "    <tr style=\"text-align: right;\">\n",
       "      <th></th>\n",
       "      <th>A</th>\n",
       "      <th>B</th>\n",
       "      <th>C</th>\n",
       "      <th>D</th>\n",
       "    </tr>\n",
       "  </thead>\n",
       "  <tbody>\n",
       "    <tr>\n",
       "      <th>0</th>\n",
       "      <td>-0.435310</td>\n",
       "      <td>0.313977</td>\n",
       "      <td>-1.385878</td>\n",
       "      <td>-0.991826</td>\n",
       "    </tr>\n",
       "    <tr>\n",
       "      <th>1</th>\n",
       "      <td>0.443195</td>\n",
       "      <td>-0.470391</td>\n",
       "      <td>-0.534474</td>\n",
       "      <td>-0.668541</td>\n",
       "    </tr>\n",
       "    <tr>\n",
       "      <th>2</th>\n",
       "      <td>-0.892505</td>\n",
       "      <td>0.346045</td>\n",
       "      <td>-0.487208</td>\n",
       "      <td>0.687611</td>\n",
       "    </tr>\n",
       "    <tr>\n",
       "      <th>3</th>\n",
       "      <td>0.306953</td>\n",
       "      <td>1.234306</td>\n",
       "      <td>1.484615</td>\n",
       "      <td>1.013546</td>\n",
       "    </tr>\n",
       "    <tr>\n",
       "      <th>4</th>\n",
       "      <td>1.193094</td>\n",
       "      <td>0.106820</td>\n",
       "      <td>0.651044</td>\n",
       "      <td>1.650039</td>\n",
       "    </tr>\n",
       "    <tr>\n",
       "      <th>5</th>\n",
       "      <td>-1.213601</td>\n",
       "      <td>-1.686306</td>\n",
       "      <td>0.782637</td>\n",
       "      <td>-0.772344</td>\n",
       "    </tr>\n",
       "    <tr>\n",
       "      <th>6</th>\n",
       "      <td>-0.775631</td>\n",
       "      <td>-0.637413</td>\n",
       "      <td>-0.535214</td>\n",
       "      <td>-1.043716</td>\n",
       "    </tr>\n",
       "    <tr>\n",
       "      <th>7</th>\n",
       "      <td>-1.218183</td>\n",
       "      <td>0.194634</td>\n",
       "      <td>0.730464</td>\n",
       "      <td>-3.065086</td>\n",
       "    </tr>\n",
       "    <tr>\n",
       "      <th>8</th>\n",
       "      <td>-0.892505</td>\n",
       "      <td>0.346045</td>\n",
       "      <td>-0.487208</td>\n",
       "      <td>0.687611</td>\n",
       "    </tr>\n",
       "  </tbody>\n",
       "</table>\n",
       "</div>"
      ],
      "text/plain": [
       "          A         B         C         D\n",
       "0 -0.435310  0.313977 -1.385878 -0.991826\n",
       "1  0.443195 -0.470391 -0.534474 -0.668541\n",
       "2 -0.892505  0.346045 -0.487208  0.687611\n",
       "3  0.306953  1.234306  1.484615  1.013546\n",
       "4  1.193094  0.106820  0.651044  1.650039\n",
       "5 -1.213601 -1.686306  0.782637 -0.772344\n",
       "6 -0.775631 -0.637413 -0.535214 -1.043716\n",
       "7 -1.218183  0.194634  0.730464 -3.065086\n",
       "8 -0.892505  0.346045 -0.487208  0.687611"
      ]
     },
     "execution_count": 13,
     "metadata": {},
     "output_type": "execute_result"
    }
   ],
   "source": [
    "s.name=len(df) #len(df)=8\n",
    "df.append(s)"
   ]
  },
  {
   "cell_type": "code",
   "execution_count": 2,
   "metadata": {
    "collapsed": false
   },
   "outputs": [
    {
     "ename": "SyntaxError",
     "evalue": "invalid syntax (<ipython-input-2-2b4d54c97ce8>, line 1)",
     "output_type": "error",
     "traceback": [
      "\u001b[0;36m  File \u001b[0;32m\"<ipython-input-2-2b4d54c97ce8>\"\u001b[0;36m, line \u001b[0;32m1\u001b[0m\n\u001b[0;31m    OPTIONAL: Select the indices for data points you wish to remove\u001b[0m\n\u001b[0m            ^\u001b[0m\n\u001b[0;31mSyntaxError\u001b[0m\u001b[0;31m:\u001b[0m invalid syntax\n"
     ]
    }
   ],
   "source": [
    "OPTIONAL: Select the indices for data points you wish to remove\n",
    "    #Remove the outliers, if any were specified\n",
    "    \n",
    "    #Original: good_data = log_data.drop(log_data.index[outliers]).reset_index(drop = True)\n",
    "    print \"type log_data_pddf_colRenamed[feature]::\", type(log_data_pddf_colRenamed[feature]) #this is new pd series.\n",
    "    log_data_pddf_colRenamed[feature].drop(outlier_index_array) #this makes series. #.reset_index(drop = True)\n",
    "    print \"type after drop:\", type(log_data_pddf_colRenamed[feature].drop(outlier_index_array)) #good_col_data_afterOutlierDrop[feature] = \n",
    "    #good_col_df_afterOutlierDrop[feature]=good_col_data_afterOutlierDrop[feature].to_frame()\n",
    "    #print type(good_col_df_afterOutlierDrop[feature]) #Good upto here\n",
    "    s[feature]=log_data_pddf_colRenamed[feature].drop(outlier_index_array)\n",
    "    print \"type s:\", s[feature]\n",
    "    #.merge(pdsr,)\n",
    "    print \"pdsr:\\n\", feature, pdsr\n",
    "    #good_all_data_afterOutlierDrop=combine_df.append(dicts)\n",
    "    #print good_all_data_afterOutlierDrop\n",
    "    \n",
    "    #result = df1.append(df4)\n",
    "    #good_all_data_afterOutlierDrop=pd.concat(good_col_data_afterOutlierDrop, axis=1)\n",
    "    #display(good_data_afterOutlierDrop)\n",
    "\n",
    "#display(good_all_data_afterOutlierDrop)"
   ]
  },
  {
   "cell_type": "code",
   "execution_count": null,
   "metadata": {
    "collapsed": true
   },
   "outputs": [],
   "source": []
  }
 ],
 "metadata": {
  "anaconda-cloud": {},
  "kernelspec": {
   "display_name": "Python [default]",
   "language": "python",
   "name": "python2"
  },
  "language_info": {
   "codemirror_mode": {
    "name": "ipython",
    "version": 2
   },
   "file_extension": ".py",
   "mimetype": "text/x-python",
   "name": "python",
   "nbconvert_exporter": "python",
   "pygments_lexer": "ipython2",
   "version": "2.7.12"
  }
 },
 "nbformat": 4,
 "nbformat_minor": 1
}
