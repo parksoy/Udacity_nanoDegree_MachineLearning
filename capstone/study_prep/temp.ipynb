{
 "cells": [
  {
   "cell_type": "code",
   "execution_count": 14,
   "metadata": {
    "collapsed": false
   },
   "outputs": [
    {
     "name": "stdout",
     "output_type": "stream",
     "text": [
      "/Users/parksoy/Desktop/GoogleDrive_Soyoung/Udacity_nanoDegree_MachineLearning/capstone\n"
     ]
    }
   ],
   "source": [
    "#http://francescopochetti.com/stock-market-prediction-part-introduction/\n",
    "import cPickle\n",
    "import pystocks\n",
    "\n",
    "import numpy as np\n",
    "import pandas as pd\n",
    "import datetime\n",
    "from datetime import datetime\n",
    "from sklearn import preprocessing\n",
    "from sklearn.ensemble import RandomForestClassifier\n",
    "from sklearn import neighbors\n",
    "from sklearn.ensemble import AdaBoostClassifier\n",
    "from sklearn.ensemble import GradientBoostingClassifier\n",
    "from sklearn.svm import SVC\n",
    "\n",
    "from sklearn.model_selection import TimeSeriesSplit\n",
    "import operator\n",
    "from IPython.display import display\n",
    "from sklearn.qda import QDA\n",
    "import re\n",
    "from dateutil import parser\n",
    "from backtest import Strategy, Portfolio\n",
    "import quandl \n",
    "import os\n",
    "import sys\n",
    "\n",
    "\n",
    "print os.getcwd()"
   ]
  },
  {
   "cell_type": "code",
   "execution_count": 15,
   "metadata": {
    "collapsed": false
   },
   "outputs": [
    {
     "data": {
      "text/html": [
       "<div>\n",
       "<table border=\"1\" class=\"dataframe\">\n",
       "  <thead>\n",
       "    <tr style=\"text-align: right;\">\n",
       "      <th></th>\n",
       "      <th>Open</th>\n",
       "      <th>High</th>\n",
       "      <th>Low</th>\n",
       "      <th>Close</th>\n",
       "      <th>Volume</th>\n",
       "      <th>Adj Close</th>\n",
       "      <th>Return</th>\n",
       "      <th>simpleReturn_7</th>\n",
       "      <th>simpleReturnMA_7</th>\n",
       "      <th>simpleReturn_14</th>\n",
       "      <th>simpleReturnMA_14</th>\n",
       "      <th>simpleReturn_28</th>\n",
       "      <th>simpleReturnMA_28</th>\n",
       "    </tr>\n",
       "    <tr>\n",
       "      <th>Date</th>\n",
       "      <th></th>\n",
       "      <th></th>\n",
       "      <th></th>\n",
       "      <th></th>\n",
       "      <th></th>\n",
       "      <th></th>\n",
       "      <th></th>\n",
       "      <th></th>\n",
       "      <th></th>\n",
       "      <th></th>\n",
       "      <th></th>\n",
       "      <th></th>\n",
       "      <th></th>\n",
       "    </tr>\n",
       "  </thead>\n",
       "  <tbody>\n",
       "    <tr>\n",
       "      <th>1997-01-02</th>\n",
       "      <td>131.7500</td>\n",
       "      <td>132.000</td>\n",
       "      <td>127.625000</td>\n",
       "      <td>130.375</td>\n",
       "      <td>97639200</td>\n",
       "      <td>11.206980</td>\n",
       "      <td>0.000528</td>\n",
       "      <td>0.003279</td>\n",
       "      <td>0.000514</td>\n",
       "      <td>0.006406</td>\n",
       "      <td>0.000513</td>\n",
       "      <td>0.012838</td>\n",
       "      <td>0.000506</td>\n",
       "    </tr>\n",
       "    <tr>\n",
       "      <th>1997-01-03</th>\n",
       "      <td>133.0000</td>\n",
       "      <td>138.500</td>\n",
       "      <td>132.625000</td>\n",
       "      <td>138.375</td>\n",
       "      <td>95648000</td>\n",
       "      <td>11.894656</td>\n",
       "      <td>0.061361</td>\n",
       "      <td>0.003279</td>\n",
       "      <td>0.000514</td>\n",
       "      <td>0.006406</td>\n",
       "      <td>0.000513</td>\n",
       "      <td>0.012838</td>\n",
       "      <td>0.000506</td>\n",
       "    </tr>\n",
       "    <tr>\n",
       "      <th>1997-01-06</th>\n",
       "      <td>139.1250</td>\n",
       "      <td>141.750</td>\n",
       "      <td>137.750000</td>\n",
       "      <td>138.875</td>\n",
       "      <td>120549600</td>\n",
       "      <td>11.937636</td>\n",
       "      <td>0.003613</td>\n",
       "      <td>0.003279</td>\n",
       "      <td>0.000514</td>\n",
       "      <td>0.006406</td>\n",
       "      <td>0.000513</td>\n",
       "      <td>0.012838</td>\n",
       "      <td>0.000506</td>\n",
       "    </tr>\n",
       "    <tr>\n",
       "      <th>1997-01-07</th>\n",
       "      <td>138.5625</td>\n",
       "      <td>143.500</td>\n",
       "      <td>137.000000</td>\n",
       "      <td>143.375</td>\n",
       "      <td>96153600</td>\n",
       "      <td>12.324454</td>\n",
       "      <td>0.032403</td>\n",
       "      <td>0.003279</td>\n",
       "      <td>0.000514</td>\n",
       "      <td>0.006406</td>\n",
       "      <td>0.000513</td>\n",
       "      <td>0.012838</td>\n",
       "      <td>0.000506</td>\n",
       "    </tr>\n",
       "    <tr>\n",
       "      <th>1997-01-08</th>\n",
       "      <td>144.0000</td>\n",
       "      <td>145.625</td>\n",
       "      <td>141.765594</td>\n",
       "      <td>142.250</td>\n",
       "      <td>125510400</td>\n",
       "      <td>12.227750</td>\n",
       "      <td>-0.007847</td>\n",
       "      <td>0.003279</td>\n",
       "      <td>0.000514</td>\n",
       "      <td>0.006406</td>\n",
       "      <td>0.000513</td>\n",
       "      <td>0.012838</td>\n",
       "      <td>0.000506</td>\n",
       "    </tr>\n",
       "    <tr>\n",
       "      <th>1997-01-09</th>\n",
       "      <td>143.3750</td>\n",
       "      <td>144.000</td>\n",
       "      <td>141.750000</td>\n",
       "      <td>143.000</td>\n",
       "      <td>77420000</td>\n",
       "      <td>12.292219</td>\n",
       "      <td>0.005272</td>\n",
       "      <td>0.003279</td>\n",
       "      <td>0.000514</td>\n",
       "      <td>0.006406</td>\n",
       "      <td>0.000513</td>\n",
       "      <td>0.012838</td>\n",
       "      <td>0.000506</td>\n",
       "    </tr>\n",
       "    <tr>\n",
       "      <th>1997-01-10</th>\n",
       "      <td>142.1250</td>\n",
       "      <td>144.750</td>\n",
       "      <td>141.500000</td>\n",
       "      <td>144.500</td>\n",
       "      <td>111907200</td>\n",
       "      <td>12.421159</td>\n",
       "      <td>0.010490</td>\n",
       "      <td>0.003279</td>\n",
       "      <td>0.000514</td>\n",
       "      <td>0.006406</td>\n",
       "      <td>0.000513</td>\n",
       "      <td>0.012838</td>\n",
       "      <td>0.000506</td>\n",
       "    </tr>\n",
       "  </tbody>\n",
       "</table>\n",
       "</div>"
      ],
      "text/plain": [
       "                Open     High         Low    Close     Volume  Adj Close  \\\n",
       "Date                                                                       \n",
       "1997-01-02  131.7500  132.000  127.625000  130.375   97639200  11.206980   \n",
       "1997-01-03  133.0000  138.500  132.625000  138.375   95648000  11.894656   \n",
       "1997-01-06  139.1250  141.750  137.750000  138.875  120549600  11.937636   \n",
       "1997-01-07  138.5625  143.500  137.000000  143.375   96153600  12.324454   \n",
       "1997-01-08  144.0000  145.625  141.765594  142.250  125510400  12.227750   \n",
       "1997-01-09  143.3750  144.000  141.750000  143.000   77420000  12.292219   \n",
       "1997-01-10  142.1250  144.750  141.500000  144.500  111907200  12.421159   \n",
       "\n",
       "              Return  simpleReturn_7  simpleReturnMA_7  simpleReturn_14  \\\n",
       "Date                                                                      \n",
       "1997-01-02  0.000528        0.003279          0.000514         0.006406   \n",
       "1997-01-03  0.061361        0.003279          0.000514         0.006406   \n",
       "1997-01-06  0.003613        0.003279          0.000514         0.006406   \n",
       "1997-01-07  0.032403        0.003279          0.000514         0.006406   \n",
       "1997-01-08 -0.007847        0.003279          0.000514         0.006406   \n",
       "1997-01-09  0.005272        0.003279          0.000514         0.006406   \n",
       "1997-01-10  0.010490        0.003279          0.000514         0.006406   \n",
       "\n",
       "            simpleReturnMA_14  simpleReturn_28  simpleReturnMA_28  \n",
       "Date                                                               \n",
       "1997-01-02           0.000513         0.012838           0.000506  \n",
       "1997-01-03           0.000513         0.012838           0.000506  \n",
       "1997-01-06           0.000513         0.012838           0.000506  \n",
       "1997-01-07           0.000513         0.012838           0.000506  \n",
       "1997-01-08           0.000513         0.012838           0.000506  \n",
       "1997-01-09           0.000513         0.012838           0.000506  \n",
       "1997-01-10           0.000513         0.012838           0.000506  "
      ]
     },
     "metadata": {},
     "output_type": "display_data"
    },
    {
     "data": {
      "text/html": [
       "<div>\n",
       "<table border=\"1\" class=\"dataframe\">\n",
       "  <thead>\n",
       "    <tr style=\"text-align: right;\">\n",
       "      <th></th>\n",
       "      <th>Open</th>\n",
       "      <th>High</th>\n",
       "      <th>Low</th>\n",
       "      <th>Close</th>\n",
       "      <th>Volume</th>\n",
       "      <th>Adj Close</th>\n",
       "      <th>Return</th>\n",
       "      <th>simpleReturn_7</th>\n",
       "      <th>simpleReturnMA_7</th>\n",
       "      <th>simpleReturn_14</th>\n",
       "      <th>simpleReturnMA_14</th>\n",
       "      <th>simpleReturn_28</th>\n",
       "      <th>simpleReturnMA_28</th>\n",
       "      <th>Return_7</th>\n",
       "      <th>Return_14</th>\n",
       "      <th>Return_28</th>\n",
       "    </tr>\n",
       "    <tr>\n",
       "      <th>Date</th>\n",
       "      <th></th>\n",
       "      <th></th>\n",
       "      <th></th>\n",
       "      <th></th>\n",
       "      <th></th>\n",
       "      <th></th>\n",
       "      <th></th>\n",
       "      <th></th>\n",
       "      <th></th>\n",
       "      <th></th>\n",
       "      <th></th>\n",
       "      <th></th>\n",
       "      <th></th>\n",
       "      <th></th>\n",
       "      <th></th>\n",
       "      <th></th>\n",
       "    </tr>\n",
       "  </thead>\n",
       "  <tbody>\n",
       "    <tr>\n",
       "      <th>1997-02-11</th>\n",
       "      <td>154.125</td>\n",
       "      <td>154.750</td>\n",
       "      <td>146.500000</td>\n",
       "      <td>151.750</td>\n",
       "      <td>151842400</td>\n",
       "      <td>13.048687</td>\n",
       "      <td>0.032949</td>\n",
       "      <td>-0.064715</td>\n",
       "      <td>-0.009247</td>\n",
       "      <td>-0.002135</td>\n",
       "      <td>0.000078</td>\n",
       "      <td>0.164336</td>\n",
       "      <td>0.005686</td>\n",
       "      <td>0.010015</td>\n",
       "      <td>-0.002465</td>\n",
       "      <td>0.061361</td>\n",
       "    </tr>\n",
       "    <tr>\n",
       "      <th>1997-02-12</th>\n",
       "      <td>151.750</td>\n",
       "      <td>157.000</td>\n",
       "      <td>150.500000</td>\n",
       "      <td>156.750</td>\n",
       "      <td>112742400</td>\n",
       "      <td>13.478627</td>\n",
       "      <td>0.001595</td>\n",
       "      <td>-0.043478</td>\n",
       "      <td>-0.005971</td>\n",
       "      <td>0.033291</td>\n",
       "      <td>0.002607</td>\n",
       "      <td>0.133167</td>\n",
       "      <td>0.004672</td>\n",
       "      <td>0.005339</td>\n",
       "      <td>-0.008237</td>\n",
       "      <td>0.003613</td>\n",
       "    </tr>\n",
       "    <tr>\n",
       "      <th>1997-02-13</th>\n",
       "      <td>158.000</td>\n",
       "      <td>159.000</td>\n",
       "      <td>156.000000</td>\n",
       "      <td>157.000</td>\n",
       "      <td>96499200</td>\n",
       "      <td>13.500124</td>\n",
       "      <td>-0.015924</td>\n",
       "      <td>-0.047041</td>\n",
       "      <td>-0.006506</td>\n",
       "      <td>0.043535</td>\n",
       "      <td>0.003309</td>\n",
       "      <td>0.130888</td>\n",
       "      <td>0.004600</td>\n",
       "      <td>-0.045524</td>\n",
       "      <td>-0.002492</td>\n",
       "      <td>0.032403</td>\n",
       "    </tr>\n",
       "    <tr>\n",
       "      <th>1997-02-14</th>\n",
       "      <td>156.125</td>\n",
       "      <td>157.000</td>\n",
       "      <td>153.500000</td>\n",
       "      <td>154.500</td>\n",
       "      <td>69313600</td>\n",
       "      <td>13.285154</td>\n",
       "      <td>0.000809</td>\n",
       "      <td>-0.017488</td>\n",
       "      <td>-0.002277</td>\n",
       "      <td>0.029483</td>\n",
       "      <td>0.002350</td>\n",
       "      <td>0.077951</td>\n",
       "      <td>0.002874</td>\n",
       "      <td>-0.026232</td>\n",
       "      <td>0.005829</td>\n",
       "      <td>-0.007847</td>\n",
       "    </tr>\n",
       "    <tr>\n",
       "      <th>1997-02-18</th>\n",
       "      <td>154.250</td>\n",
       "      <td>155.125</td>\n",
       "      <td>152.125000</td>\n",
       "      <td>154.625</td>\n",
       "      <td>60033600</td>\n",
       "      <td>13.295903</td>\n",
       "      <td>-0.004850</td>\n",
       "      <td>0.009796</td>\n",
       "      <td>0.001586</td>\n",
       "      <td>0.024346</td>\n",
       "      <td>0.001991</td>\n",
       "      <td>0.087355</td>\n",
       "      <td>0.003183</td>\n",
       "      <td>0.021225</td>\n",
       "      <td>0.025174</td>\n",
       "      <td>0.005272</td>\n",
       "    </tr>\n",
       "    <tr>\n",
       "      <th>1997-02-19</th>\n",
       "      <td>154.125</td>\n",
       "      <td>155.750</td>\n",
       "      <td>153.250000</td>\n",
       "      <td>153.875</td>\n",
       "      <td>55190400</td>\n",
       "      <td>13.231412</td>\n",
       "      <td>-0.025995</td>\n",
       "      <td>-0.015987</td>\n",
       "      <td>-0.002139</td>\n",
       "      <td>-0.005654</td>\n",
       "      <td>-0.000153</td>\n",
       "      <td>0.076405</td>\n",
       "      <td>0.002821</td>\n",
       "      <td>-0.030376</td>\n",
       "      <td>0.034733</td>\n",
       "      <td>0.010490</td>\n",
       "    </tr>\n",
       "    <tr>\n",
       "      <th>1997-02-20</th>\n",
       "      <td>152.250</td>\n",
       "      <td>153.000</td>\n",
       "      <td>149.359299</td>\n",
       "      <td>149.875</td>\n",
       "      <td>128985600</td>\n",
       "      <td>12.887459</td>\n",
       "      <td>-0.023353</td>\n",
       "      <td>-0.011542</td>\n",
       "      <td>-0.001513</td>\n",
       "      <td>-0.064013</td>\n",
       "      <td>-0.004491</td>\n",
       "      <td>0.037541</td>\n",
       "      <td>0.001518</td>\n",
       "      <td>0.000824</td>\n",
       "      <td>0.013271</td>\n",
       "      <td>0.016436</td>\n",
       "    </tr>\n",
       "  </tbody>\n",
       "</table>\n",
       "</div>"
      ],
      "text/plain": [
       "               Open     High         Low    Close     Volume  Adj Close  \\\n",
       "Date                                                                      \n",
       "1997-02-11  154.125  154.750  146.500000  151.750  151842400  13.048687   \n",
       "1997-02-12  151.750  157.000  150.500000  156.750  112742400  13.478627   \n",
       "1997-02-13  158.000  159.000  156.000000  157.000   96499200  13.500124   \n",
       "1997-02-14  156.125  157.000  153.500000  154.500   69313600  13.285154   \n",
       "1997-02-18  154.250  155.125  152.125000  154.625   60033600  13.295903   \n",
       "1997-02-19  154.125  155.750  153.250000  153.875   55190400  13.231412   \n",
       "1997-02-20  152.250  153.000  149.359299  149.875  128985600  12.887459   \n",
       "\n",
       "              Return  simpleReturn_7  simpleReturnMA_7  simpleReturn_14  \\\n",
       "Date                                                                      \n",
       "1997-02-11  0.032949       -0.064715         -0.009247        -0.002135   \n",
       "1997-02-12  0.001595       -0.043478         -0.005971         0.033291   \n",
       "1997-02-13 -0.015924       -0.047041         -0.006506         0.043535   \n",
       "1997-02-14  0.000809       -0.017488         -0.002277         0.029483   \n",
       "1997-02-18 -0.004850        0.009796          0.001586         0.024346   \n",
       "1997-02-19 -0.025995       -0.015987         -0.002139        -0.005654   \n",
       "1997-02-20 -0.023353       -0.011542         -0.001513        -0.064013   \n",
       "\n",
       "            simpleReturnMA_14  simpleReturn_28  simpleReturnMA_28  Return_7  \\\n",
       "Date                                                                          \n",
       "1997-02-11           0.000078         0.164336           0.005686  0.010015   \n",
       "1997-02-12           0.002607         0.133167           0.004672  0.005339   \n",
       "1997-02-13           0.003309         0.130888           0.004600 -0.045524   \n",
       "1997-02-14           0.002350         0.077951           0.002874 -0.026232   \n",
       "1997-02-18           0.001991         0.087355           0.003183  0.021225   \n",
       "1997-02-19          -0.000153         0.076405           0.002821 -0.030376   \n",
       "1997-02-20          -0.004491         0.037541           0.001518  0.000824   \n",
       "\n",
       "            Return_14  Return_28  \n",
       "Date                              \n",
       "1997-02-11  -0.002465   0.061361  \n",
       "1997-02-12  -0.008237   0.003613  \n",
       "1997-02-13  -0.002492   0.032403  \n",
       "1997-02-14   0.005829  -0.007847  \n",
       "1997-02-18   0.025174   0.005272  \n",
       "1997-02-19   0.034733   0.010490  \n",
       "1997-02-20   0.013271   0.016436  "
      ]
     },
     "metadata": {},
     "output_type": "display_data"
    },
    {
     "name": "stdout",
     "output_type": "stream",
     "text": [
      "(5051, 16)\n"
     ]
    }
   ],
   "source": [
    "#Execute to prepare dataset\n",
    "\n",
    "symbol='INTC'\n",
    "\n",
    "#Redownload and create return\n",
    "dataset = pd.read_csv('./data/'+ symbol + '.csv', index_col=\"Date\", parse_dates=True)\n",
    "index_rev=dataset.index.sort_values(ascending=True)\n",
    "dataset=pd.DataFrame(dataset, index=index_rev)\n",
    "\n",
    "dataset['Return'] = dataset['Adj Close'].pct_change() \n",
    "columns = dataset.columns \n",
    "adjclose = columns[-2]\n",
    "returns = columns[-1]\n",
    "\n",
    "#Add features\n",
    "lags = [7,14,28]\n",
    "deltas =[7,14,28] \n",
    "\n",
    "for delta in deltas:\n",
    "    return_delta = adjclose[9:] + \"simpleReturn_\" + str(delta)\n",
    "    dataset[return_delta] = dataset[adjclose].pct_change(delta)\n",
    "    \n",
    "    roll_delta = returns[7:] + \"simpleReturnMA_\" + str(delta)\n",
    "    dataset[roll_delta] = dataset[returns].rolling(window=delta,center=False).mean()\n",
    "\n",
    "#Take care of NA\n",
    "dataset = dataset.interpolate(method='linear')\n",
    "dataset = dataset.fillna(dataset.mean())\n",
    "\n",
    "display(dataset[:7])\n",
    "\n",
    "dataset.Return = dataset.Return.shift(-1)\n",
    "maxLag = max(lags)\n",
    "columns =[col for col in list(dataset.columns) if col.startswith(\"Return\")] \n",
    "for column in columns:\n",
    "    for lag in lags:\n",
    "        newcolumn = column + \"_\"+str(lag)\n",
    "        dataset[newcolumn] = dataset[column].shift(lag)\n",
    "dataset=dataset.iloc[maxLag:-1,:]\n",
    "\n",
    "display(dataset[:7])\n",
    "print dataset.shape"
   ]
  },
  {
   "cell_type": "code",
   "execution_count": 59,
   "metadata": {
    "collapsed": false
   },
   "outputs": [
    {
     "name": "stdout",
     "output_type": "stream",
     "text": [
      "(3789, 6) (3789, 1) (1262, 6) (1262, 1)\n"
     ]
    },
    {
     "name": "stderr",
     "output_type": "stream",
     "text": [
      "/Users/parksoy/anaconda/lib/python2.7/site-packages/ipykernel/__main__.py:13: SettingWithCopyWarning: \n",
      "A value is trying to be set on a copy of a slice from a DataFrame\n",
      "\n",
      "See the caveats in the documentation: http://pandas.pydata.org/pandas-docs/stable/indexing.html#indexing-view-versus-copy\n",
      "/Users/parksoy/anaconda/lib/python2.7/site-packages/ipykernel/__main__.py:14: SettingWithCopyWarning: \n",
      "A value is trying to be set on a copy of a slice from a DataFrame\n",
      "\n",
      "See the caveats in the documentation: http://pandas.pydata.org/pandas-docs/stable/indexing.html#indexing-view-versus-copy\n"
     ]
    },
    {
     "data": {
      "text/html": [
       "<div>\n",
       "<table border=\"1\" class=\"dataframe\">\n",
       "  <thead>\n",
       "    <tr style=\"text-align: right;\">\n",
       "      <th></th>\n",
       "      <th>simpleReturn_7</th>\n",
       "      <th>simpleReturnMA_7</th>\n",
       "      <th>simpleReturn_14</th>\n",
       "      <th>simpleReturnMA_14</th>\n",
       "      <th>simpleReturn_28</th>\n",
       "      <th>simpleReturnMA_28</th>\n",
       "    </tr>\n",
       "    <tr>\n",
       "      <th>Date</th>\n",
       "      <th></th>\n",
       "      <th></th>\n",
       "      <th></th>\n",
       "      <th></th>\n",
       "      <th></th>\n",
       "      <th></th>\n",
       "    </tr>\n",
       "  </thead>\n",
       "  <tbody>\n",
       "    <tr>\n",
       "      <th>1997-02-11</th>\n",
       "      <td>-1.143145</td>\n",
       "      <td>-1.148881</td>\n",
       "      <td>-0.101552</td>\n",
       "      <td>-0.071497</td>\n",
       "      <td>1.286465</td>\n",
       "      <td>1.236439</td>\n",
       "    </tr>\n",
       "    <tr>\n",
       "      <th>1997-02-12</th>\n",
       "      <td>-0.785258</td>\n",
       "      <td>-0.762372</td>\n",
       "      <td>0.331563</td>\n",
       "      <td>0.359888</td>\n",
       "      <td>1.021767</td>\n",
       "      <td>0.994240</td>\n",
       "    </tr>\n",
       "    <tr>\n",
       "      <th>1997-02-13</th>\n",
       "      <td>-0.845299</td>\n",
       "      <td>-0.825481</td>\n",
       "      <td>0.456804</td>\n",
       "      <td>0.479656</td>\n",
       "      <td>1.002412</td>\n",
       "      <td>0.977033</td>\n",
       "    </tr>\n",
       "  </tbody>\n",
       "</table>\n",
       "</div>"
      ],
      "text/plain": [
       "            simpleReturn_7  simpleReturnMA_7  simpleReturn_14  \\\n",
       "Date                                                            \n",
       "1997-02-11       -1.143145         -1.148881        -0.101552   \n",
       "1997-02-12       -0.785258         -0.762372         0.331563   \n",
       "1997-02-13       -0.845299         -0.825481         0.456804   \n",
       "\n",
       "            simpleReturnMA_14  simpleReturn_28  simpleReturnMA_28  \n",
       "Date                                                               \n",
       "1997-02-11          -0.071497         1.286465           1.236439  \n",
       "1997-02-12           0.359888         1.021767           0.994240  \n",
       "1997-02-13           0.479656         1.002412           0.977033  "
      ]
     },
     "metadata": {},
     "output_type": "display_data"
    },
    {
     "data": {
      "text/html": [
       "<div>\n",
       "<table border=\"1\" class=\"dataframe\">\n",
       "  <thead>\n",
       "    <tr style=\"text-align: right;\">\n",
       "      <th></th>\n",
       "      <th>UpDown</th>\n",
       "    </tr>\n",
       "    <tr>\n",
       "      <th>Date</th>\n",
       "      <th></th>\n",
       "    </tr>\n",
       "  </thead>\n",
       "  <tbody>\n",
       "    <tr>\n",
       "      <th>1997-02-11</th>\n",
       "      <td>1</td>\n",
       "    </tr>\n",
       "    <tr>\n",
       "      <th>1997-02-12</th>\n",
       "      <td>1</td>\n",
       "    </tr>\n",
       "    <tr>\n",
       "      <th>1997-02-13</th>\n",
       "      <td>1</td>\n",
       "    </tr>\n",
       "  </tbody>\n",
       "</table>\n",
       "</div>"
      ],
      "text/plain": [
       "            UpDown\n",
       "Date              \n",
       "1997-02-11       1\n",
       "1997-02-12       1\n",
       "1997-02-13       1"
      ]
     },
     "metadata": {},
     "output_type": "display_data"
    }
   ],
   "source": [
    "def split_to_feature_Binary_target(dataset, lag):\n",
    "     \n",
    "    #Feature sets:\n",
    "    col_list = list(dataset.columns.values)\n",
    "    features = [item for item in col_list if item.startswith(\"simple\")] #not\n",
    "    X = dataset[features] \n",
    "    \n",
    "    #Binary classification target\n",
    "    le = preprocessing.LabelEncoder()\n",
    "    target_col='Return_'+str(lag)\n",
    "\n",
    "    dataset['UpDown'] = dataset[target_col]\n",
    "    dataset.UpDown[dataset.UpDown >= 0] = 'Up'\n",
    "    dataset.UpDown[dataset.UpDown < 0] = 'Down'\n",
    "    dataset.UpDown = le.fit(dataset.UpDown).transform(dataset.UpDown)\n",
    "    y = pd.DataFrame(dataset.UpDown, index=dataset.index)\n",
    "    \n",
    "    return X,y\n",
    "    \n",
    "\n",
    "from scipy.stats import zscore #Scale all features based on z-score \n",
    "\n",
    "def scaleFeature_timeseriessplit(X,y):\n",
    "    \n",
    "    X_z=X.apply(zscore)\n",
    "    tscv = TimeSeriesSplit(n_splits=3)\n",
    "\n",
    "    for train_index, test_index in tscv.split(X):\n",
    "        y_train, y_test = y.iloc[train_index], y.iloc[test_index]\n",
    "        X_train, X_test = X_z.iloc[train_index], X_z.iloc[test_index]\n",
    "    \n",
    "    return X_train, y_train, X_test, y_test   \n",
    "\n",
    "X,y=split_to_feature_Binary_target(dataset, lag)\n",
    "X_train, y_train, X_test, y_test=scaleFeature_timeseriessplit(X,y)\n",
    "\n",
    "print X_train.shape, y_train.shape, X_test.shape, y_test.shape\n",
    "\n",
    "display(X_train[:3])\n",
    "display(y_train[:3])\n"
   ]
  },
  {
   "cell_type": "code",
   "execution_count": 60,
   "metadata": {
    "collapsed": false
   },
   "outputs": [
    {
     "name": "stdout",
     "output_type": "stream",
     "text": [
      "(3789,)\n"
     ]
    }
   ],
   "source": [
    "type(y_train.values)\n",
    "print y_train.as_matrix().ravel().shape"
   ]
  },
  {
   "cell_type": "code",
   "execution_count": 62,
   "metadata": {
    "collapsed": false
   },
   "outputs": [
    {
     "name": "stdout",
     "output_type": "stream",
     "text": [
      "{'KNeighborsClassifier': 0.53416149068322971, 'AdaBoostClassifier': 0.59064327485380108, 'SVC': 0.63714285714285712, 'GradientBoostingClassifier': 0.61483594864479307, 'RandomForestClassifier': 0.5718562874251496}\n"
     ]
    }
   ],
   "source": [
    "#Classification with all models\n",
    "\n",
    "def perform_Classification(X_train, y_train, X_test, y_test, method, parameters, savemodel):\n",
    "\n",
    "    y_train=y_train.as_matrix().ravel()\n",
    "    y_test=y_test.as_matrix().ravel()\n",
    "    \n",
    "    clf = method\n",
    "    clf.fit(X_train, y_train)\n",
    "    accuracy = clf.score(X_test, y_test)\n",
    "    \n",
    "    if clf==RandomForestClassifier(n_estimators=1000, n_jobs=-1):\n",
    "        importance=clf.feature_importances_\n",
    "        indices = np.argsort(importance)[::-1]\n",
    "        for f in range(X_train.shape[1]):\n",
    "            print(\"%d. feature %s (%f)\" % (f + 1, X_train.columns[indices[f]], importance[indices[f]]))\n",
    "    if savemodel == True:\n",
    "        fname_out = '{}-{}.pickle'.format(symbol, datetime.now())\n",
    "        with open(fname_out, 'wb') as f:\n",
    "            cPickle.dump(clf, f, -1)    \n",
    "    \n",
    "    y_pred=clf.predict(X_test)\n",
    "    acc_score=clf.score(X_test, y_test)\n",
    "    f1_score=metrics.f1_score(y_test, y_pred) \n",
    "    \n",
    "    classifiers_f1.update({method.__class__.__name__: f1_score})\n",
    "    return acc_score,f1_score\n",
    "\n",
    "#Set model and parameters and run classification\n",
    "savemodel=False\n",
    "method=RandomForestClassifier(n_estimators=1000, n_jobs=-1)\n",
    "parameters = [1, 2, 50, 1] #SVC: C=1, gamma=2, AdaBoost=n_estimators = parameters[3], learning_rate =  parameters[4]\n",
    "\n",
    "methods=[RandomForestClassifier(n_estimators=1000, n_jobs=-1),\n",
    "         neighbors.KNeighborsClassifier(),\n",
    "         SVC(C=parameters[0],gamma=parameters[1]), # C=1, gamma=2,\n",
    "         AdaBoostClassifier(n_estimators=parameters[2],learning_rate=parameters[3]), #n = parameters[0],l =  parameters[1]\n",
    "         GradientBoostingClassifier(n_estimators=100)\n",
    "        ]\n",
    "\n",
    "classifiers_f1={}\n",
    "for method in methods:\n",
    "    perform_Classification(X_train, y_train, X_test, y_test, method, parameters, savemodel)\n",
    "    \n",
    "print classifiers_f1"
   ]
  },
  {
   "cell_type": "code",
   "execution_count": 63,
   "metadata": {
    "collapsed": false
   },
   "outputs": [
    {
     "data": {
      "image/png": "[encoded data removed]",
      "text/plain": [
       "<matplotlib.figure.Figure at 0x1168c9e50>"
      ]
     },
     "metadata": {},
     "output_type": "display_data"
    },
    {
     "data": {
      "text/html": [
       "<div>\n",
       "<table border=\"1\" class=\"dataframe\">\n",
       "  <thead>\n",
       "    <tr style=\"text-align: right;\">\n",
       "      <th></th>\n",
       "      <th>key</th>\n",
       "      <th>f1_score</th>\n",
       "    </tr>\n",
       "  </thead>\n",
       "  <tbody>\n",
       "    <tr>\n",
       "      <th>2</th>\n",
       "      <td>SVC</td>\n",
       "      <td>0.637143</td>\n",
       "    </tr>\n",
       "    <tr>\n",
       "      <th>3</th>\n",
       "      <td>GradientBoostingClassifier</td>\n",
       "      <td>0.614836</td>\n",
       "    </tr>\n",
       "    <tr>\n",
       "      <th>1</th>\n",
       "      <td>AdaBoostClassifier</td>\n",
       "      <td>0.590643</td>\n",
       "    </tr>\n",
       "    <tr>\n",
       "      <th>4</th>\n",
       "      <td>RandomForestClassifier</td>\n",
       "      <td>0.571856</td>\n",
       "    </tr>\n",
       "    <tr>\n",
       "      <th>0</th>\n",
       "      <td>KNeighborsClassifier</td>\n",
       "      <td>0.534161</td>\n",
       "    </tr>\n",
       "  </tbody>\n",
       "</table>\n",
       "</div>"
      ],
      "text/plain": [
       "                          key  f1_score\n",
       "2                         SVC  0.637143\n",
       "3  GradientBoostingClassifier  0.614836\n",
       "1          AdaBoostClassifier  0.590643\n",
       "4      RandomForestClassifier  0.571856\n",
       "0        KNeighborsClassifier  0.534161"
      ]
     },
     "metadata": {},
     "output_type": "display_data"
    }
   ],
   "source": [
    "#summary of RMSE for all classifiers\n",
    "\n",
    "import matplotlib.pyplot as plt\n",
    "\n",
    "\n",
    "classifiers_f1_df=pd.DataFrame(list(classifiers_f1.iteritems()), columns=['key','f1_score'])\n",
    "classifiers_f1_df=classifiers_f1_df.sort_values(by=['f1_score'],ascending=False)\n",
    "\n",
    "plt.rcParams['figure.figsize'] = (10.0, 5.0)\n",
    "\n",
    "colors = []\n",
    "for model in classifiers_f1_df.key: \n",
    "    if model.startswith('KNeighbors'):\n",
    "        colors.append('r')\n",
    "    else:\n",
    "        colors.append('b')\n",
    "\n",
    "ind = np.arange(len(classifiers_f1))\n",
    "fig = plt.figure()\n",
    "ax = fig.add_subplot(111)\n",
    "bar_width = 0.6\n",
    "ax.bar(ind,classifiers_f1_df['f1_score'], width=bar_width, color=colors) \n",
    "\n",
    "ax.set_ylabel('F1_score',fontsize=14)\n",
    "ax.set_xlabel('Models_Metric_deltaDays',fontsize=14)\n",
    "plt.xticks(ind + bar_width / 2, classifiers_f1_df['key'],rotation='vertical',fontsize=14)\n",
    "\n",
    "ax.grid('on')\n",
    "ax.set_title('Comparison of F1 score for various classifiers on bulish/bearish of 14 day-log-return',fontsize=16)\n",
    "plt.show()\n",
    "\n",
    "display(classifiers_f1_df[:10])"
   ]
  },
  {
   "cell_type": "code",
   "execution_count": 69,
   "metadata": {
    "collapsed": false
   },
   "outputs": [
    {
     "name": "stdout",
     "output_type": "stream",
     "text": [
      "[ 100 1000]\n",
      "<type 'numpy.ndarray'>\n",
      "<type 'list'>\n"
     ]
    }
   ],
   "source": [
    "print np.array([100, 1000])\n",
    "print type(np.array([100, 1000]))\n",
    "print type([100, 1000])"
   ]
  },
  {
   "cell_type": "code",
   "execution_count": 76,
   "metadata": {
    "collapsed": false
   },
   "outputs": [
    {
     "name": "stdout",
     "output_type": "stream",
     "text": [
      "0\n",
      "\n",
      "RandomForestClassifier(bootstrap=True, class_weight=None, criterion='gini',\n",
      "            max_depth=None, max_features='auto', max_leaf_nodes=None,\n",
      "            min_impurity_split=1e-07, min_samples_leaf=1,\n",
      "            min_samples_split=2, min_weight_fraction_leaf=0.0,\n",
      "            n_estimators=1000, n_jobs=-1, oob_score=False,\n",
      "            random_state=None, verbose=0, warm_start=False)\n",
      "\n",
      "[100, 1000]\n"
     ]
    }
   ],
   "source": [
    "np.array([100, 1000])\n",
    "\n",
    "clf_sets=[(methods[0],[100, 1000])]\n",
    "#(clf, cs, X, y)\n",
    "for i, (clf, param) in enumerate(clf_sets):\n",
    "    print i\n",
    "    print \"\"\n",
    "    print clf\n",
    "    print \"\"\n",
    "    print param"
   ]
  },
  {
   "cell_type": "code",
   "execution_count": 95,
   "metadata": {
    "collapsed": false
   },
   "outputs": [
    {
     "name": "stderr",
     "output_type": "stream",
     "text": [
      "/Users/parksoy/anaconda/lib/python2.7/site-packages/ipykernel/__main__.py:13: SettingWithCopyWarning: \n",
      "A value is trying to be set on a copy of a slice from a DataFrame\n",
      "\n",
      "See the caveats in the documentation: http://pandas.pydata.org/pandas-docs/stable/indexing.html#indexing-view-versus-copy\n",
      "/Users/parksoy/anaconda/lib/python2.7/site-packages/ipykernel/__main__.py:14: SettingWithCopyWarning: \n",
      "A value is trying to be set on a copy of a slice from a DataFrame\n",
      "\n",
      "See the caveats in the documentation: http://pandas.pydata.org/pandas-docs/stable/indexing.html#indexing-view-versus-copy\n"
     ]
    },
    {
     "name": "stdout",
     "output_type": "stream",
     "text": [
      "0 [100, 1000]\n"
     ]
    },
    {
     "data": {
      "text/plain": [
       "{'mean_fit_time': array([ 1.18537633,  8.33940125]),\n",
       " 'mean_score_time': array([ 0.25682529,  1.68665735]),\n",
       " 'mean_test_score': array([ 0.52421448,  0.52924849]),\n",
       " 'mean_train_score': array([ 1.,  1.]),\n",
       " 'param_n_estimators': masked_array(data = [100 1000],\n",
       "              mask = [False False],\n",
       "        fill_value = ?),\n",
       " 'params': ({'n_estimators': 100}, {'n_estimators': 1000}),\n",
       " 'rank_test_score': array([2, 1], dtype=int32),\n",
       " 'split0_test_score': array([ 0.49202351,  0.49625312]),\n",
       " 'split0_train_score': array([ 1.,  1.]),\n",
       " 'split1_test_score': array([ 0.53115265,  0.52242329]),\n",
       " 'split1_train_score': array([ 1.,  1.]),\n",
       " 'split2_test_score': array([ 0.54946728,  0.56906907]),\n",
       " 'split2_train_score': array([ 1.,  1.]),\n",
       " 'std_fit_time': array([ 0.2140587 ,  1.17296188]),\n",
       " 'std_score_time': array([ 0.04840314,  0.13101592]),\n",
       " 'std_test_score': array([ 0.023959 ,  0.0301162]),\n",
       " 'std_train_score': array([ 0.,  0.])}"
      ]
     },
     "metadata": {},
     "output_type": "display_data"
    },
    {
     "name": "stdout",
     "output_type": "stream",
     "text": [
      "Best score: 0.529\n",
      "Best parameters set:\n"
     ]
    },
    {
     "ename": "AttributeError",
     "evalue": "'GridSearchCV' object has no attribute 'best_estimator_'",
     "output_type": "error",
     "traceback": [
      "\u001b[0;31m---------------------------------------------------------------------------\u001b[0m",
      "\u001b[0;31mAttributeError\u001b[0m                            Traceback (most recent call last)",
      "\u001b[0;32m<ipython-input-95-de26e99dc045>\u001b[0m in \u001b[0;36m<module>\u001b[0;34m()\u001b[0m\n\u001b[1;32m     42\u001b[0m \u001b[0;32mprint\u001b[0m \u001b[0;34m'Best score: %0.3f'\u001b[0m \u001b[0;34m%\u001b[0m \u001b[0mgrid_search\u001b[0m\u001b[0;34m.\u001b[0m\u001b[0mbest_score_\u001b[0m\u001b[0;34m\u001b[0m\u001b[0m\n\u001b[1;32m     43\u001b[0m \u001b[0;32mprint\u001b[0m \u001b[0;34m'Best parameters set:'\u001b[0m\u001b[0;34m\u001b[0m\u001b[0m\n\u001b[0;32m---> 44\u001b[0;31m \u001b[0mbest_parameters\u001b[0m \u001b[0;34m=\u001b[0m \u001b[0mgrid_search\u001b[0m\u001b[0;34m.\u001b[0m\u001b[0mbest_estimator_\u001b[0m\u001b[0;34m.\u001b[0m\u001b[0mget_params\u001b[0m\u001b[0;34m(\u001b[0m\u001b[0;34m)\u001b[0m\u001b[0;34m\u001b[0m\u001b[0m\n\u001b[0m\u001b[1;32m     45\u001b[0m \u001b[0;31m#for param_name in sorted(parameters.keys()):\u001b[0m\u001b[0;34m\u001b[0m\u001b[0;34m\u001b[0m\u001b[0m\n\u001b[1;32m     46\u001b[0m \u001b[0;31m#    print '\\t%s: %r' % (param_name, best_parameters[param_name])\u001b[0m\u001b[0;34m\u001b[0m\u001b[0;34m\u001b[0m\u001b[0m\n",
      "\u001b[0;31mAttributeError\u001b[0m: 'GridSearchCV' object has no attribute 'best_estimator_'"
     ]
    }
   ],
   "source": [
    "#Let's do gridsearch CV\n",
    "\n",
    "from sklearn import preprocessing\n",
    "\n",
    "#ORIGINAL DATASET X,y\n",
    "X,y=split_to_feature_Binary_target(dataset, lag)\n",
    "y=y.as_matrix().ravel()\n",
    "  \n",
    "method=methods[0]\n",
    "\n",
    "#Do GridSearchCV\n",
    "\n",
    "from sklearn.model_selection import GridSearchCV\n",
    "\n",
    "#Define grid parameters, method\n",
    "\n",
    "methods=[LogisticRegression(),\n",
    "         RandomForestClassifier(n_estimators=1000, n_jobs=-1),\n",
    "         neighbors.KNeighborsClassifier(),\n",
    "         SVC(C=1,gamma=2), \n",
    "         AdaBoostClassifier(n_estimators=2,learning_rate=0.05), #n = parameters[0],l =  parameters[1]\n",
    "         GradientBoostingClassifier(n_estimators=100)\n",
    "        ]\n",
    "\n",
    "#Working piece\n",
    "train_size=0.7\n",
    "tscv = TimeSeriesSplit(n_splits=3)\n",
    "cv=tscv.split(X)\n",
    "\n",
    "\n",
    "clf_sets=[(methods[0],[100, 1000])]\n",
    "\n",
    "for i, (clf, param) in enumerate(clf_sets):\n",
    "    print i, param\n",
    "    param_grid = dict(n_estimators=param)\n",
    "    grid_search = GridSearchCV(clf, refit=False, param_grid=param_grid, cv=cv,scoring='f1')\n",
    "\n",
    "grid_search.fit(X, y)\n",
    "display(grid_search.cv_results_)\n",
    "\n",
    "#http://stackoverflow.com/questions/32889929/gridsearchcv-scoring-parameter-using-scoring-f1-or-scoring-none-by-default-u\n",
    "    \n",
    "print 'Best score: %0.3f' % grid_search.best_score_\n",
    "print 'Best parameters set:'\n",
    "best_parameters = grid_search.best_estimator_.get_params()\n",
    "#for param_name in sorted(parameters.keys()):\n",
    "#    print '\\t%s: %r' % (param_name, best_parameters[param_name])\n",
    "\n",
    "#predictions = grid_search.predict(X_test)\n",
    "    "
   ]
  },
  {
   "cell_type": "code",
   "execution_count": 93,
   "metadata": {
    "collapsed": false
   },
   "outputs": [
    {
     "name": "stdout",
     "output_type": "stream",
     "text": [
      "(5051, 6)\n",
      "<generator object split at 0x118689960>\n"
     ]
    }
   ],
   "source": [
    "print X.shape\n",
    "print tscv.split(X)"
   ]
  },
  {
   "cell_type": "code",
   "execution_count": 112,
   "metadata": {
    "collapsed": false
   },
   "outputs": [
    {
     "name": "stdout",
     "output_type": "stream",
     "text": [
      "Fitting 10 folds for each of 4 candidates, totalling 40 fits\n"
     ]
    },
    {
     "name": "stderr",
     "output_type": "stream",
     "text": [
      "/Users/parksoy/anaconda/lib/python2.7/site-packages/ipykernel/__main__.py:13: SettingWithCopyWarning: \n",
      "A value is trying to be set on a copy of a slice from a DataFrame\n",
      "\n",
      "See the caveats in the documentation: http://pandas.pydata.org/pandas-docs/stable/indexing.html#indexing-view-versus-copy\n",
      "/Users/parksoy/anaconda/lib/python2.7/site-packages/ipykernel/__main__.py:14: SettingWithCopyWarning: \n",
      "A value is trying to be set on a copy of a slice from a DataFrame\n",
      "\n",
      "See the caveats in the documentation: http://pandas.pydata.org/pandas-docs/stable/indexing.html#indexing-view-versus-copy\n"
     ]
    },
    {
     "name": "stdout",
     "output_type": "stream",
     "text": [
      "Best score: 0.656\n",
      "Best parameters set:\n",
      "\tclf__C: 0.01\n",
      "\tclf__penalty: 'l2'\n",
      "             precision    recall  f1-score   support\n",
      "\n",
      "          0       0.58      0.05      0.09       596\n",
      "          1       0.53      0.97      0.69       667\n",
      "\n",
      "avg / total       0.55      0.53      0.41      1263\n",
      "\n"
     ]
    },
    {
     "name": "stderr",
     "output_type": "stream",
     "text": [
      "[Parallel(n_jobs=-1)]: Done  40 out of  40 | elapsed:    0.8s finished\n"
     ]
    }
   ],
   "source": [
    "#Let's get GridSearch work\n",
    "\n",
    "from sklearn.tree import DecisionTreeClassifier\n",
    "from sklearn.model_selection import train_test_split\n",
    "from sklearn.linear_model.logistic import LogisticRegression\n",
    "method=DecisionTreeClassifier(criterion='entropy',random_state=20000)\n",
    "\n",
    "X,y=split_to_feature_Binary_target(dataset, lag)\n",
    "y=y.as_matrix().ravel()\n",
    "\n",
    "'''\n",
    "X_train, X_test, y_train, y_test = train_test_split(X, y,random_state=100000)\n",
    "print X_train.shape, y_train.shape\n",
    "'''\n",
    "\n",
    "from sklearn.pipeline import Pipeline\n",
    "\n",
    "pipeline=Pipeline([('clf',LogisticRegression())])\n",
    "\n",
    "\n",
    "parameters = {\n",
    "    'clf__penalty': ('l1','l2'),\n",
    "    'clf__C': (0.01, 1),\n",
    "} \n",
    "\n",
    "tscv = TimeSeriesSplit(n_splits=10)\n",
    "cv=tscv.split(X)\n",
    "\n",
    "grid_search = GridSearchCV(pipeline, parameters,n_jobs=-1,cv=cv,verbose=1,scoring='f1') # cv=cv, verbose=1, \n",
    "grid_search.fit(X, y) #_train\n",
    "\n",
    "print 'Best score: %0.3f' % grid_search.best_score_\n",
    "print 'Best parameters set:'\n",
    "best_parameters = grid_search.best_estimator_.get_params()\n",
    "for param_name in sorted(parameters.keys()):\n",
    "    print '\\t%s: %r' % (param_name, best_parameters[param_name])\n",
    "\n",
    "predictions = grid_search.predict(X_test)\n",
    "from sklearn.metrics import classification_report\n",
    "print classification_report(y_test, predictions)\n",
    "\n"
   ]
  },
  {
   "cell_type": "code",
   "execution_count": 147,
   "metadata": {
    "collapsed": false
   },
   "outputs": [
    {
     "name": "stdout",
     "output_type": "stream",
     "text": [
      "('svc', SVC(C=1.0, cache_size=200, class_weight=None, coef0=0.0,\n",
      "  decision_function_shape=None, degree=3, gamma='auto', kernel='rbf',\n",
      "  max_iter=-1, probability=False, random_state=None, shrinking=True,\n",
      "  tol=0.001, verbose=False))\n",
      "LogisticRegression(C=1.0, class_weight=None, dual=False, fit_intercept=True,\n",
      "          intercept_scaling=1, max_iter=100, multi_class='ovr', n_jobs=1,\n",
      "          penalty='l2', random_state=None, solver='liblinear', tol=0.0001,\n",
      "          verbose=0, warm_start=False)\n"
     ]
    },
    {
     "name": "stderr",
     "output_type": "stream",
     "text": [
      "/Users/parksoy/anaconda/lib/python2.7/site-packages/ipykernel/__main__.py:13: SettingWithCopyWarning: \n",
      "A value is trying to be set on a copy of a slice from a DataFrame\n",
      "\n",
      "See the caveats in the documentation: http://pandas.pydata.org/pandas-docs/stable/indexing.html#indexing-view-versus-copy\n",
      "/Users/parksoy/anaconda/lib/python2.7/site-packages/ipykernel/__main__.py:14: SettingWithCopyWarning: \n",
      "A value is trying to be set on a copy of a slice from a DataFrame\n",
      "\n",
      "See the caveats in the documentation: http://pandas.pydata.org/pandas-docs/stable/indexing.html#indexing-view-versus-copy\n"
     ]
    }
   ],
   "source": [
    "#Add one more estimator:This is awesome\n",
    "#http://scikit-learn.org/stable/modules/pipeline.html\n",
    "\n",
    "from sklearn.svm import SVC\n",
    "from sklearn.pipeline import make_pipeline\n",
    "\n",
    "\n",
    "X,y=split_to_feature_Binary_target(dataset, lag)\n",
    "y=y.as_matrix().ravel()\n",
    "\n",
    "#pipeline=Pipeline([('clf1',LogisticRegression()),('clf2',SVC())])\n",
    "pipeline=make_pipeline(LogisticRegression(), SVC()) \n",
    "\n",
    "print pipeline.steps[1]\n",
    "print pipeline.named_steps['logisticregression']\n"
   ]
  },
  {
   "cell_type": "code",
   "execution_count": 156,
   "metadata": {
    "collapsed": false
   },
   "outputs": [
    {
     "name": "stdout",
     "output_type": "stream",
     "text": [
      "(5051, 6)\n"
     ]
    }
   ],
   "source": [
    "print X.shape"
   ]
  },
  {
   "cell_type": "code",
   "execution_count": 158,
   "metadata": {
    "collapsed": false
   },
   "outputs": [
    {
     "name": "stdout",
     "output_type": "stream",
     "text": [
      "Fitting 3 folds for each of 6 candidates, totalling 18 fits\n"
     ]
    },
    {
     "name": "stderr",
     "output_type": "stream",
     "text": [
      "/Users/parksoy/anaconda/lib/python2.7/site-packages/sklearn/utils/deprecation.py:70: DeprecationWarning: Function transform is deprecated; Support to use estimators as feature selectors will be removed in version 0.19. Use SelectFromModel instead.\n",
      "  warnings.warn(msg, category=DeprecationWarning)\n",
      "/Users/parksoy/anaconda/lib/python2.7/site-packages/sklearn/utils/deprecation.py:70: DeprecationWarning: Function transform is deprecated; Support to use estimators as feature selectors will be removed in version 0.19. Use SelectFromModel instead.\n",
      "  warnings.warn(msg, category=DeprecationWarning)\n",
      "/Users/parksoy/anaconda/lib/python2.7/site-packages/sklearn/utils/deprecation.py:70: DeprecationWarning: Function transform is deprecated; Support to use estimators as feature selectors will be removed in version 0.19. Use SelectFromModel instead.\n",
      "  warnings.warn(msg, category=DeprecationWarning)\n",
      "/Users/parksoy/anaconda/lib/python2.7/site-packages/sklearn/utils/deprecation.py:70: DeprecationWarning: Function transform is deprecated; Support to use estimators as feature selectors will be removed in version 0.19. Use SelectFromModel instead.\n",
      "  warnings.warn(msg, category=DeprecationWarning)\n",
      "/Users/parksoy/anaconda/lib/python2.7/site-packages/sklearn/utils/deprecation.py:70: DeprecationWarning: Function transform is deprecated; Support to use estimators as feature selectors will be removed in version 0.19. Use SelectFromModel instead.\n",
      "  warnings.warn(msg, category=DeprecationWarning)\n",
      "/Users/parksoy/anaconda/lib/python2.7/site-packages/sklearn/utils/deprecation.py:70: DeprecationWarning: Function transform is deprecated; Support to use estimators as feature selectors will be removed in version 0.19. Use SelectFromModel instead.\n",
      "  warnings.warn(msg, category=DeprecationWarning)\n",
      "/Users/parksoy/anaconda/lib/python2.7/site-packages/sklearn/utils/deprecation.py:70: DeprecationWarning: Function transform is deprecated; Support to use estimators as feature selectors will be removed in version 0.19. Use SelectFromModel instead.\n",
      "  warnings.warn(msg, category=DeprecationWarning)\n",
      "/Users/parksoy/anaconda/lib/python2.7/site-packages/sklearn/utils/deprecation.py:70: DeprecationWarning: Function transform is deprecated; Support to use estimators as feature selectors will be removed in version 0.19. Use SelectFromModel instead.\n",
      "  warnings.warn(msg, category=DeprecationWarning)\n",
      "/Users/parksoy/anaconda/lib/python2.7/site-packages/sklearn/utils/deprecation.py:70: DeprecationWarning: Function transform is deprecated; Support to use estimators as feature selectors will be removed in version 0.19. Use SelectFromModel instead.\n",
      "  warnings.warn(msg, category=DeprecationWarning)\n",
      "/Users/parksoy/anaconda/lib/python2.7/site-packages/sklearn/utils/deprecation.py:70: DeprecationWarning: Function transform is deprecated; Support to use estimators as feature selectors will be removed in version 0.19. Use SelectFromModel instead.\n",
      "  warnings.warn(msg, category=DeprecationWarning)\n",
      "/Users/parksoy/anaconda/lib/python2.7/site-packages/sklearn/utils/deprecation.py:70: DeprecationWarning: Function transform is deprecated; Support to use estimators as feature selectors will be removed in version 0.19. Use SelectFromModel instead.\n",
      "  warnings.warn(msg, category=DeprecationWarning)\n",
      "/Users/parksoy/anaconda/lib/python2.7/site-packages/sklearn/utils/deprecation.py:70: DeprecationWarning: Function transform is deprecated; Support to use estimators as feature selectors will be removed in version 0.19. Use SelectFromModel instead.\n",
      "  warnings.warn(msg, category=DeprecationWarning)\n",
      "/Users/parksoy/anaconda/lib/python2.7/site-packages/sklearn/utils/deprecation.py:70: DeprecationWarning: Function transform is deprecated; Support to use estimators as feature selectors will be removed in version 0.19. Use SelectFromModel instead.\n",
      "  warnings.warn(msg, category=DeprecationWarning)\n",
      "/Users/parksoy/anaconda/lib/python2.7/site-packages/sklearn/utils/deprecation.py:70: DeprecationWarning: Function transform is deprecated; Support to use estimators as feature selectors will be removed in version 0.19. Use SelectFromModel instead.\n",
      "  warnings.warn(msg, category=DeprecationWarning)\n",
      "/Users/parksoy/anaconda/lib/python2.7/site-packages/sklearn/utils/deprecation.py:70: DeprecationWarning: Function transform is deprecated; Support to use estimators as feature selectors will be removed in version 0.19. Use SelectFromModel instead.\n",
      "  warnings.warn(msg, category=DeprecationWarning)\n",
      "/Users/parksoy/anaconda/lib/python2.7/site-packages/sklearn/utils/deprecation.py:70: DeprecationWarning: Function transform is deprecated; Support to use estimators as feature selectors will be removed in version 0.19. Use SelectFromModel instead.\n",
      "  warnings.warn(msg, category=DeprecationWarning)\n",
      "/Users/parksoy/anaconda/lib/python2.7/site-packages/sklearn/utils/deprecation.py:70: DeprecationWarning: Function transform is deprecated; Support to use estimators as feature selectors will be removed in version 0.19. Use SelectFromModel instead.\n",
      "  warnings.warn(msg, category=DeprecationWarning)\n",
      "/Users/parksoy/anaconda/lib/python2.7/site-packages/sklearn/utils/deprecation.py:70: DeprecationWarning: Function transform is deprecated; Support to use estimators as feature selectors will be removed in version 0.19. Use SelectFromModel instead.\n",
      "  warnings.warn(msg, category=DeprecationWarning)\n",
      "/Users/parksoy/anaconda/lib/python2.7/site-packages/sklearn/utils/deprecation.py:70: DeprecationWarning: Function transform is deprecated; Support to use estimators as feature selectors will be removed in version 0.19. Use SelectFromModel instead.\n",
      "  warnings.warn(msg, category=DeprecationWarning)\n",
      "/Users/parksoy/anaconda/lib/python2.7/site-packages/sklearn/utils/deprecation.py:70: DeprecationWarning: Function transform is deprecated; Support to use estimators as feature selectors will be removed in version 0.19. Use SelectFromModel instead.\n",
      "  warnings.warn(msg, category=DeprecationWarning)\n",
      "/Users/parksoy/anaconda/lib/python2.7/site-packages/sklearn/utils/deprecation.py:70: DeprecationWarning: Function transform is deprecated; Support to use estimators as feature selectors will be removed in version 0.19. Use SelectFromModel instead.\n",
      "  warnings.warn(msg, category=DeprecationWarning)\n",
      "/Users/parksoy/anaconda/lib/python2.7/site-packages/sklearn/utils/deprecation.py:70: DeprecationWarning: Function transform is deprecated; Support to use estimators as feature selectors will be removed in version 0.19. Use SelectFromModel instead.\n",
      "  warnings.warn(msg, category=DeprecationWarning)\n",
      "/Users/parksoy/anaconda/lib/python2.7/site-packages/sklearn/utils/deprecation.py:70: DeprecationWarning: Function transform is deprecated; Support to use estimators as feature selectors will be removed in version 0.19. Use SelectFromModel instead.\n",
      "  warnings.warn(msg, category=DeprecationWarning)\n",
      "/Users/parksoy/anaconda/lib/python2.7/site-packages/sklearn/utils/deprecation.py:70: DeprecationWarning: Function transform is deprecated; Support to use estimators as feature selectors will be removed in version 0.19. Use SelectFromModel instead.\n",
      "  warnings.warn(msg, category=DeprecationWarning)\n",
      "/Users/parksoy/anaconda/lib/python2.7/site-packages/sklearn/utils/deprecation.py:70: DeprecationWarning: Function transform is deprecated; Support to use estimators as feature selectors will be removed in version 0.19. Use SelectFromModel instead.\n",
      "  warnings.warn(msg, category=DeprecationWarning)\n",
      "/Users/parksoy/anaconda/lib/python2.7/site-packages/sklearn/utils/deprecation.py:70: DeprecationWarning: Function transform is deprecated; Support to use estimators as feature selectors will be removed in version 0.19. Use SelectFromModel instead.\n",
      "  warnings.warn(msg, category=DeprecationWarning)\n",
      "/Users/parksoy/anaconda/lib/python2.7/site-packages/sklearn/utils/deprecation.py:70: DeprecationWarning: Function transform is deprecated; Support to use estimators as feature selectors will be removed in version 0.19. Use SelectFromModel instead.\n",
      "  warnings.warn(msg, category=DeprecationWarning)\n",
      "/Users/parksoy/anaconda/lib/python2.7/site-packages/sklearn/utils/deprecation.py:70: DeprecationWarning: Function transform is deprecated; Support to use estimators as feature selectors will be removed in version 0.19. Use SelectFromModel instead.\n",
      "  warnings.warn(msg, category=DeprecationWarning)\n",
      "/Users/parksoy/anaconda/lib/python2.7/site-packages/sklearn/utils/deprecation.py:70: DeprecationWarning: Function transform is deprecated; Support to use estimators as feature selectors will be removed in version 0.19. Use SelectFromModel instead.\n",
      "  warnings.warn(msg, category=DeprecationWarning)\n",
      "/Users/parksoy/anaconda/lib/python2.7/site-packages/sklearn/utils/deprecation.py:70: DeprecationWarning: Function transform is deprecated; Support to use estimators as feature selectors will be removed in version 0.19. Use SelectFromModel instead.\n",
      "  warnings.warn(msg, category=DeprecationWarning)\n",
      "/Users/parksoy/anaconda/lib/python2.7/site-packages/sklearn/utils/deprecation.py:70: DeprecationWarning: Function transform is deprecated; Support to use estimators as feature selectors will be removed in version 0.19. Use SelectFromModel instead.\n",
      "  warnings.warn(msg, category=DeprecationWarning)\n",
      "/Users/parksoy/anaconda/lib/python2.7/site-packages/sklearn/utils/deprecation.py:70: DeprecationWarning: Function transform is deprecated; Support to use estimators as feature selectors will be removed in version 0.19. Use SelectFromModel instead.\n",
      "  warnings.warn(msg, category=DeprecationWarning)\n",
      "/Users/parksoy/anaconda/lib/python2.7/site-packages/sklearn/utils/deprecation.py:70: DeprecationWarning: Function transform is deprecated; Support to use estimators as feature selectors will be removed in version 0.19. Use SelectFromModel instead.\n",
      "  warnings.warn(msg, category=DeprecationWarning)\n",
      "/Users/parksoy/anaconda/lib/python2.7/site-packages/sklearn/utils/deprecation.py:70: DeprecationWarning: Function transform is deprecated; Support to use estimators as feature selectors will be removed in version 0.19. Use SelectFromModel instead.\n",
      "  warnings.warn(msg, category=DeprecationWarning)\n",
      "/Users/parksoy/anaconda/lib/python2.7/site-packages/sklearn/utils/deprecation.py:70: DeprecationWarning: Function transform is deprecated; Support to use estimators as feature selectors will be removed in version 0.19. Use SelectFromModel instead.\n",
      "  warnings.warn(msg, category=DeprecationWarning)\n",
      "/Users/parksoy/anaconda/lib/python2.7/site-packages/sklearn/utils/deprecation.py:70: DeprecationWarning: Function transform is deprecated; Support to use estimators as feature selectors will be removed in version 0.19. Use SelectFromModel instead.\n",
      "  warnings.warn(msg, category=DeprecationWarning)\n",
      "/Users/parksoy/anaconda/lib/python2.7/site-packages/sklearn/utils/deprecation.py:70: DeprecationWarning: Function transform is deprecated; Support to use estimators as feature selectors will be removed in version 0.19. Use SelectFromModel instead.\n",
      "  warnings.warn(msg, category=DeprecationWarning)\n",
      "/Users/parksoy/anaconda/lib/python2.7/site-packages/sklearn/utils/deprecation.py:70: DeprecationWarning: Function transform is deprecated; Support to use estimators as feature selectors will be removed in version 0.19. Use SelectFromModel instead.\n",
      "  warnings.warn(msg, category=DeprecationWarning)\n",
      "/Users/parksoy/anaconda/lib/python2.7/site-packages/sklearn/utils/deprecation.py:70: DeprecationWarning: Function transform is deprecated; Support to use estimators as feature selectors will be removed in version 0.19. Use SelectFromModel instead.\n",
      "  warnings.warn(msg, category=DeprecationWarning)\n",
      "/Users/parksoy/anaconda/lib/python2.7/site-packages/sklearn/utils/deprecation.py:70: DeprecationWarning: Function transform is deprecated; Support to use estimators as feature selectors will be removed in version 0.19. Use SelectFromModel instead.\n",
      "  warnings.warn(msg, category=DeprecationWarning)\n",
      "/Users/parksoy/anaconda/lib/python2.7/site-packages/sklearn/utils/deprecation.py:70: DeprecationWarning: Function transform is deprecated; Support to use estimators as feature selectors will be removed in version 0.19. Use SelectFromModel instead.\n",
      "  warnings.warn(msg, category=DeprecationWarning)\n",
      "/Users/parksoy/anaconda/lib/python2.7/site-packages/sklearn/utils/deprecation.py:70: DeprecationWarning: Function transform is deprecated; Support to use estimators as feature selectors will be removed in version 0.19. Use SelectFromModel instead.\n",
      "  warnings.warn(msg, category=DeprecationWarning)\n",
      "/Users/parksoy/anaconda/lib/python2.7/site-packages/sklearn/utils/deprecation.py:70: DeprecationWarning: Function transform is deprecated; Support to use estimators as feature selectors will be removed in version 0.19. Use SelectFromModel instead.\n",
      "  warnings.warn(msg, category=DeprecationWarning)\n",
      "/Users/parksoy/anaconda/lib/python2.7/site-packages/sklearn/utils/deprecation.py:70: DeprecationWarning: Function transform is deprecated; Support to use estimators as feature selectors will be removed in version 0.19. Use SelectFromModel instead.\n",
      "  warnings.warn(msg, category=DeprecationWarning)\n",
      "/Users/parksoy/anaconda/lib/python2.7/site-packages/sklearn/utils/deprecation.py:70: DeprecationWarning: Function transform is deprecated; Support to use estimators as feature selectors will be removed in version 0.19. Use SelectFromModel instead.\n",
      "  warnings.warn(msg, category=DeprecationWarning)\n",
      "/Users/parksoy/anaconda/lib/python2.7/site-packages/sklearn/utils/deprecation.py:70: DeprecationWarning: Function transform is deprecated; Support to use estimators as feature selectors will be removed in version 0.19. Use SelectFromModel instead.\n",
      "  warnings.warn(msg, category=DeprecationWarning)\n",
      "/Users/parksoy/anaconda/lib/python2.7/site-packages/sklearn/utils/deprecation.py:70: DeprecationWarning: Function transform is deprecated; Support to use estimators as feature selectors will be removed in version 0.19. Use SelectFromModel instead.\n",
      "  warnings.warn(msg, category=DeprecationWarning)\n",
      "/Users/parksoy/anaconda/lib/python2.7/site-packages/sklearn/utils/deprecation.py:70: DeprecationWarning: Function transform is deprecated; Support to use estimators as feature selectors will be removed in version 0.19. Use SelectFromModel instead.\n",
      "  warnings.warn(msg, category=DeprecationWarning)\n",
      "/Users/parksoy/anaconda/lib/python2.7/site-packages/sklearn/utils/deprecation.py:70: DeprecationWarning: Function transform is deprecated; Support to use estimators as feature selectors will be removed in version 0.19. Use SelectFromModel instead.\n",
      "  warnings.warn(msg, category=DeprecationWarning)\n",
      "/Users/parksoy/anaconda/lib/python2.7/site-packages/sklearn/utils/deprecation.py:70: DeprecationWarning: Function transform is deprecated; Support to use estimators as feature selectors will be removed in version 0.19. Use SelectFromModel instead.\n",
      "  warnings.warn(msg, category=DeprecationWarning)\n",
      "/Users/parksoy/anaconda/lib/python2.7/site-packages/sklearn/utils/deprecation.py:70: DeprecationWarning: Function transform is deprecated; Support to use estimators as feature selectors will be removed in version 0.19. Use SelectFromModel instead.\n",
      "  warnings.warn(msg, category=DeprecationWarning)\n",
      "/Users/parksoy/anaconda/lib/python2.7/site-packages/sklearn/utils/deprecation.py:70: DeprecationWarning: Function transform is deprecated; Support to use estimators as feature selectors will be removed in version 0.19. Use SelectFromModel instead.\n",
      "  warnings.warn(msg, category=DeprecationWarning)\n",
      "/Users/parksoy/anaconda/lib/python2.7/site-packages/sklearn/utils/deprecation.py:70: DeprecationWarning: Function transform is deprecated; Support to use estimators as feature selectors will be removed in version 0.19. Use SelectFromModel instead.\n",
      "  warnings.warn(msg, category=DeprecationWarning)\n",
      "/Users/parksoy/anaconda/lib/python2.7/site-packages/sklearn/utils/deprecation.py:70: DeprecationWarning: Function transform is deprecated; Support to use estimators as feature selectors will be removed in version 0.19. Use SelectFromModel instead.\n",
      "  warnings.warn(msg, category=DeprecationWarning)\n",
      "[Parallel(n_jobs=-1)]: Done  18 out of  18 | elapsed:    6.4s finished\n",
      "/Users/parksoy/anaconda/lib/python2.7/site-packages/sklearn/utils/deprecation.py:70: DeprecationWarning: Function transform is deprecated; Support to use estimators as feature selectors will be removed in version 0.19. Use SelectFromModel instead.\n",
      "  warnings.warn(msg, category=DeprecationWarning)\n"
     ]
    },
    {
     "name": "stdout",
     "output_type": "stream",
     "text": [
      "Best score: 0.603\n",
      "Best parameters set:\n",
      "***************************************\n",
      "\tlogisticregression__C: 1\n",
      "\tsvc__C: 10\n",
      "***************************************\n",
      "cv_results_=\n"
     ]
    },
    {
     "name": "stderr",
     "output_type": "stream",
     "text": [
      "/Users/parksoy/anaconda/lib/python2.7/site-packages/sklearn/utils/deprecation.py:70: DeprecationWarning: Function transform is deprecated; Support to use estimators as feature selectors will be removed in version 0.19. Use SelectFromModel instead.\n",
      "  warnings.warn(msg, category=DeprecationWarning)\n"
     ]
    },
    {
     "data": {
      "text/plain": [
       "{'mean_fit_time': array([ 0.72480877,  0.84820803,  0.71770279,  0.70172207,  0.60961   ,\n",
       "         0.53510507]),\n",
       " 'mean_score_time': array([ 0.20651627,  0.17707801,  0.19746065,  0.18177597,  0.17497365,\n",
       "         0.1392053 ]),\n",
       " 'mean_test_score': array([ 0.53433959,  0.57222234,  0.59920638,  0.60349377,  0.59920638,\n",
       "         0.60349377]),\n",
       " 'mean_train_score': array([ 0.54369361,  0.55970361,  0.5955618 ,  0.6053972 ,  0.5955618 ,\n",
       "         0.6053972 ]),\n",
       " 'param_logisticregression__C': masked_array(data = [0.01 0.01 1 1 10 10],\n",
       "              mask = [False False False False False False],\n",
       "        fill_value = ?),\n",
       " 'param_svc__C': masked_array(data = [1 10 1 10 1 10],\n",
       "              mask = [False False False False False False],\n",
       "        fill_value = ?),\n",
       " 'params': ({'logisticregression__C': 0.01, 'svc__C': 1},\n",
       "  {'logisticregression__C': 0.01, 'svc__C': 10},\n",
       "  {'logisticregression__C': 1, 'svc__C': 1},\n",
       "  {'logisticregression__C': 1, 'svc__C': 10},\n",
       "  {'logisticregression__C': 10, 'svc__C': 1},\n",
       "  {'logisticregression__C': 10, 'svc__C': 10}),\n",
       " 'rank_test_score': array([6, 5, 3, 1, 3, 1], dtype=int32),\n",
       " 'split0_test_score': array([ 0.47610122,  0.52128584,  0.5355286 ,  0.55564854,  0.5355286 ,\n",
       "         0.55564854]),\n",
       " 'split0_train_score': array([ 0.54045307,  0.56307692,  0.59831676,  0.61082283,  0.59831676,\n",
       "         0.61082283]),\n",
       " 'split1_test_score': array([ 0.48199446,  0.5547562 ,  0.60592255,  0.60045489,  0.60592255,\n",
       "         0.60045489]),\n",
       " 'split1_train_score': array([ 0.46682353,  0.50978686,  0.56406058,  0.57689243,  0.56406058,\n",
       "         0.57689243]),\n",
       " 'split2_test_score': array([ 0.64492308,  0.640625  ,  0.65616798,  0.65437788,  0.65616798,\n",
       "         0.65437788]),\n",
       " 'split2_train_score': array([ 0.62380423,  0.60624704,  0.62430806,  0.62847635,  0.62430806,\n",
       "         0.62847635]),\n",
       " 'std_fit_time': array([ 0.59608549,  0.67760121,  0.4705122 ,  0.50065912,  0.40090232,\n",
       "         0.32985274]),\n",
       " 'std_score_time': array([ 0.09876828,  0.05701335,  0.08715085,  0.05762932,  0.0621072 ,\n",
       "         0.04257578]),\n",
       " 'std_test_score': array([ 0.07823134,  0.05026104,  0.04947926,  0.04036332,  0.04947926,\n",
       "         0.04036332]),\n",
       " 'std_train_score': array([ 0.06412805,  0.03945188,  0.02467296,  0.02140566,  0.02467296,\n",
       "         0.02140566])}"
      ]
     },
     "metadata": {},
     "output_type": "display_data"
    },
    {
     "name": "stdout",
     "output_type": "stream",
     "text": [
      "***************************************\n",
      "Classification_report:\n",
      "\n",
      "             precision    recall  f1-score   support\n",
      "\n",
      "          0       0.58      0.43      0.50       596\n",
      "          1       0.59      0.72      0.65       667\n",
      "\n",
      "avg / total       0.58      0.58      0.58      1263\n",
      "\n"
     ]
    }
   ],
   "source": [
    "pipeline=make_pipeline(LogisticRegression(), SVC()) \n",
    "\n",
    "parameters = dict(\n",
    "            logisticregression__C=[0.01, 1,10],\n",
    "            svc__C=[1, 10]\n",
    "            )\n",
    "    \n",
    "tscv = TimeSeriesSplit(n_splits=3)\n",
    "cv=tscv.split(X)\n",
    "\n",
    "grid_search = GridSearchCV(pipeline, parameters,n_jobs=-1,cv=cv,verbose=1,scoring='f1') # cv=cv, verbose=1, \n",
    "grid_search.fit(X, y) #_train\n",
    "\n",
    "print 'Best score: %0.3f' % grid_search.best_score_\n",
    "print 'Best parameters set:'\n",
    "best_parameters = grid_search.best_estimator_.get_params()\n",
    "\n",
    "print \"***************************************\"\n",
    "\n",
    "for param_name in sorted(parameters.keys()):\n",
    "    print '\\t%s: %r' % (param_name, best_parameters[param_name])\n",
    "\n",
    "predictions = grid_search.predict(X_test)\n",
    "print \"***************************************\"\n",
    "print \"cv_results_=\\n\", \n",
    "display(grid_search.cv_results_)\n",
    "\n",
    "from sklearn.metrics import classification_report\n",
    "\n",
    "print \"***************************************\"\n",
    "print \"Classification_report:\\n\"\n",
    "print classification_report(y_test, predictions)"
   ]
  },
  {
   "cell_type": "code",
   "execution_count": 127,
   "metadata": {
    "collapsed": false
   },
   "outputs": [
    {
     "name": "stdout",
     "output_type": "stream",
     "text": [
      "LogisticRegression==\n"
     ]
    },
    {
     "data": {
      "text/plain": [
       "{'C': 1.0,\n",
       " 'class_weight': None,\n",
       " 'dual': False,\n",
       " 'fit_intercept': True,\n",
       " 'intercept_scaling': 1,\n",
       " 'max_iter': 100,\n",
       " 'multi_class': 'ovr',\n",
       " 'n_jobs': 1,\n",
       " 'penalty': 'l2',\n",
       " 'random_state': None,\n",
       " 'solver': 'liblinear',\n",
       " 'tol': 0.0001,\n",
       " 'verbose': 0,\n",
       " 'warm_start': False}"
      ]
     },
     "metadata": {},
     "output_type": "display_data"
    },
    {
     "name": "stdout",
     "output_type": "stream",
     "text": [
      "\n",
      "RandomForestClassifier=\n"
     ]
    },
    {
     "data": {
      "text/plain": [
       "{'bootstrap': True,\n",
       " 'class_weight': None,\n",
       " 'criterion': 'gini',\n",
       " 'max_depth': None,\n",
       " 'max_features': 'auto',\n",
       " 'max_leaf_nodes': None,\n",
       " 'min_impurity_split': 1e-07,\n",
       " 'min_samples_leaf': 1,\n",
       " 'min_samples_split': 2,\n",
       " 'min_weight_fraction_leaf': 0.0,\n",
       " 'n_estimators': 10,\n",
       " 'n_jobs': 1,\n",
       " 'oob_score': False,\n",
       " 'random_state': None,\n",
       " 'verbose': 0,\n",
       " 'warm_start': False}"
      ]
     },
     "metadata": {},
     "output_type": "display_data"
    },
    {
     "name": "stdout",
     "output_type": "stream",
     "text": [
      "\n",
      "Kneighbors=\n"
     ]
    },
    {
     "data": {
      "text/plain": [
       "{'algorithm': 'auto',\n",
       " 'leaf_size': 30,\n",
       " 'metric': 'minkowski',\n",
       " 'metric_params': None,\n",
       " 'n_jobs': 1,\n",
       " 'n_neighbors': 5,\n",
       " 'p': 2,\n",
       " 'weights': 'uniform'}"
      ]
     },
     "metadata": {},
     "output_type": "display_data"
    },
    {
     "name": "stdout",
     "output_type": "stream",
     "text": [
      "\n",
      "SVC=\n"
     ]
    },
    {
     "data": {
      "text/plain": [
       "{'C': 1.0,\n",
       " 'cache_size': 200,\n",
       " 'class_weight': None,\n",
       " 'coef0': 0.0,\n",
       " 'decision_function_shape': None,\n",
       " 'degree': 3,\n",
       " 'gamma': 'auto',\n",
       " 'kernel': 'rbf',\n",
       " 'max_iter': -1,\n",
       " 'probability': False,\n",
       " 'random_state': None,\n",
       " 'shrinking': True,\n",
       " 'tol': 0.001,\n",
       " 'verbose': False}"
      ]
     },
     "metadata": {},
     "output_type": "display_data"
    },
    {
     "name": "stdout",
     "output_type": "stream",
     "text": [
      "\n",
      "Adaboost=\n"
     ]
    },
    {
     "data": {
      "text/plain": [
       "{'algorithm': 'SAMME.R',\n",
       " 'base_estimator': None,\n",
       " 'learning_rate': 1.0,\n",
       " 'n_estimators': 50,\n",
       " 'random_state': None}"
      ]
     },
     "metadata": {},
     "output_type": "display_data"
    },
    {
     "name": "stdout",
     "output_type": "stream",
     "text": [
      "\n",
      "GradientBoosting=\n"
     ]
    },
    {
     "data": {
      "text/plain": [
       "{'criterion': 'friedman_mse',\n",
       " 'init': None,\n",
       " 'learning_rate': 0.1,\n",
       " 'loss': 'deviance',\n",
       " 'max_depth': 3,\n",
       " 'max_features': None,\n",
       " 'max_leaf_nodes': None,\n",
       " 'min_impurity_split': 1e-07,\n",
       " 'min_samples_leaf': 1,\n",
       " 'min_samples_split': 2,\n",
       " 'min_weight_fraction_leaf': 0.0,\n",
       " 'n_estimators': 100,\n",
       " 'presort': 'auto',\n",
       " 'random_state': None,\n",
       " 'subsample': 1.0,\n",
       " 'verbose': 0,\n",
       " 'warm_start': False}"
      ]
     },
     "metadata": {},
     "output_type": "display_data"
    },
    {
     "name": "stdout",
     "output_type": "stream",
     "text": [
      "\n",
      "XGBClassifier=\n"
     ]
    },
    {
     "data": {
      "text/plain": [
       "{'base_score': 0.5,\n",
       " 'colsample_bytree': 1,\n",
       " 'gamma': 0,\n",
       " 'learning_rate': 0.1,\n",
       " 'max_delta_step': 0,\n",
       " 'max_depth': 3,\n",
       " 'min_child_weight': 1,\n",
       " 'n_estimators': 100,\n",
       " 'nthread': -1,\n",
       " 'objective': 'binary:logistic',\n",
       " 'seed': 0,\n",
       " 'silent': True,\n",
       " 'subsample': 1}"
      ]
     },
     "metadata": {},
     "output_type": "display_data"
    }
   ],
   "source": [
    "methods=[LogisticRegression(),\n",
    "         RandomForestClassifier(), #n_estimators=1000, n_jobs=-1\n",
    "         neighbors.KNeighborsClassifier(),\n",
    "         SVC(), #C=1,gamma=2\n",
    "         AdaBoostClassifier(n_estimators=2,learning_rate=0.05), \n",
    "         GradientBoostingClassifier(n_estimators=10) #n_estimators=100\n",
    "        ]\n",
    "\n",
    "grdboost=GradientBoostingClassifier(n_estimators=10) \n",
    "\n",
    "from IPython.display import display\n",
    "print \"LogisticRegression==\"\n",
    "display(LogisticRegression().get_params())\n",
    "print \"\"\n",
    "print \"RandomForestClassifier=\"\n",
    "display(RandomForestClassifier().get_params())\n",
    "print \"\"\n",
    "print \"Kneighbors=\"\n",
    "display(neighbors.KNeighborsClassifier().get_params())\n",
    "print \"\"\n",
    "print \"SVC=\"\n",
    "display(SVC().get_params())\n",
    "print \"\"\n",
    "print \"Adaboost=\"\n",
    "display(AdaBoostClassifier().get_params())\n",
    "print \"\"\n",
    "print \"GradientBoosting=\"\n",
    "display(GradientBoostingClassifier().get_params())\n",
    "print \"\"\n",
    "print \"XGBClassifier=\"\n",
    "display(XGBClassifier().get_params())"
   ]
  },
  {
   "cell_type": "code",
   "execution_count": 125,
   "metadata": {
    "collapsed": true
   },
   "outputs": [],
   "source": [
    "from xgboost import XGBClassifier"
   ]
  },
  {
   "cell_type": "code",
   "execution_count": 163,
   "metadata": {
    "collapsed": false
   },
   "outputs": [
    {
     "name": "stdout",
     "output_type": "stream",
     "text": [
      "Crossvalidation started... \n",
      "Number of features used... 6\n",
      "Number of features ignored... 0\n"
     ]
    }
   ],
   "source": [
    "#https://miguelmalvarez.com/2015/02/23/python-and-kaggle-feature-selection-multiple-models-and-grid-search/\n",
    "from sklearn.feature_selection import VarianceThreshold\n",
    "from collections import Counter\n",
    "\n",
    "# Fitting a feature selector\n",
    "def feature_selection(train_instances):\n",
    "    print('Crossvalidation started... ')\n",
    "    selector = VarianceThreshold()\n",
    "    selector.fit(train_instances)\n",
    "    print('Number of features used... ' +\n",
    "              str(Counter(selector.get_support())[True]))\n",
    "    print('Number of features ignored... ' +\n",
    "              str(Counter(selector.get_support())[False]))\n",
    "    return selector\n",
    "\n",
    "train_instances=X\n",
    "#Learn the features to filter from train set\n",
    "fs = feature_selection(train_instances)\n",
    " \n",
    "#Transform train and test subsets\n",
    "train_instances = fs.transform(train_instances)\n",
    "#test_instances = fs.transform(test_instances)"
   ]
  },
  {
   "cell_type": "code",
   "execution_count": 234,
   "metadata": {
    "collapsed": false
   },
   "outputs": [
    {
     "name": "stdout",
     "output_type": "stream",
     "text": [
      "Grid search for...  RandomForestClassifier in the space :  [{'n_estimators': [250, 500]}]\n",
      "Fitting 3 folds for each of 2 candidates, totalling 6 fits\n"
     ]
    },
    {
     "name": "stderr",
     "output_type": "stream",
     "text": [
      "[Parallel(n_jobs=-1)]: Done   6 out of   6 | elapsed:   15.3s remaining:    0.0s\n",
      "[Parallel(n_jobs=-1)]: Done   6 out of   6 | elapsed:   15.3s finished\n"
     ]
    },
    {
     "name": "stdout",
     "output_type": "stream",
     "text": [
      "........Best_hyperparameter_set= {'n_estimators': 250}\n",
      "\n",
      "****RESULT of best_hyperparameter****\n",
      "**Best_estimator= RandomForestClassifier(bootstrap=True, class_weight=None, criterion='gini',\n",
      "            max_depth=None, max_features='auto', max_leaf_nodes=None,\n",
      "            min_impurity_split=1e-07, min_samples_leaf=1,\n",
      "            min_samples_split=2, min_weight_fraction_leaf=0.0,\n",
      "            n_estimators=250, n_jobs=1, oob_score=False, random_state=1,\n",
      "            verbose=0, warm_start=False)\n",
      "**Best_hyperparameters= {'n_estimators': 250}\n",
      "**Best_f1_score= 0.536231427652\n"
     ]
    }
   ],
   "source": [
    "# Example code for a model and a set of grid-search parameters\n",
    "model = RandomForestClassifier(random_state=1)\n",
    "parameters = [{\"n_estimators\": [250, 500]}]\n",
    "judgements=y\n",
    "cv=3\n",
    "\n",
    "# Returns the best configuration for a model using crosvalidation and grid search\n",
    "def best_hyperparameter(model, parameters, X, y):\n",
    "    print 'Grid search for... ' , model.__class__.__name__, 'in the space : ',parameters\n",
    "    cv=tscv.split(X)\n",
    "    grid_search = GridSearchCV(model, parameters, cv=cv, scoring=\"f1\", verbose=1, n_jobs=-1)\n",
    "    grid_search.fit(X, y)\n",
    "    best_estimator = grid_search.best_estimator_\n",
    "    print \"........Best_hyperparameter_set=\",str(grid_search.best_params_)\n",
    "    return [best_estimator,  grid_search.best_score_, str(grid_search.best_params_)]\n",
    "\n",
    "\n",
    "[model, score, param]=best_hyperparameter(model, parameters, X, y)\n",
    "\n",
    "print \"\\n****RESULT of best_hyperparameter****\\n\",\n",
    "print \"**Best_estimator=\",model\n",
    "print \"**Best_hyperparameters=\",param\n",
    "print \"**Best_f1_score=\",score"
   ]
  },
  {
   "cell_type": "code",
   "execution_count": 240,
   "metadata": {
    "collapsed": false
   },
   "outputs": [
    {
     "name": "stdout",
     "output_type": "stream",
     "text": [
      "Grid search for...  RandomForestClassifier in the space :  [{'n_estimators': [10, 100, 250, 500], 'bootstrap': [False, True]}]\n",
      "Fitting 3 folds for each of 8 candidates, totalling 24 fits\n"
     ]
    },
    {
     "name": "stderr",
     "output_type": "stream",
     "text": [
      "[Parallel(n_jobs=-1)]: Done  24 out of  24 | elapsed:   34.8s finished\n"
     ]
    },
    {
     "name": "stdout",
     "output_type": "stream",
     "text": [
      "........Best_hyperparameter_set= {'n_estimators': 500, 'bootstrap': False} with f1 score= 0.535119730242\n",
      "Grid search for...  SVC in the space :  [{'kernel': ['poly', 'rbf'], 'degree': [1, 2, 3]}]\n",
      "Fitting 3 folds for each of 6 candidates, totalling 18 fits\n"
     ]
    },
    {
     "name": "stderr",
     "output_type": "stream",
     "text": [
      "[Parallel(n_jobs=-1)]: Done  18 out of  18 | elapsed:    4.1s finished\n"
     ]
    },
    {
     "name": "stdout",
     "output_type": "stream",
     "text": [
      "........Best_hyperparameter_set= {'kernel': 'poly', 'degree': 2} with f1 score= 0.683387368561\n",
      "Grid search for...  KNeighborsClassifier in the space :  [{'n_neighbors': [3, 5], 'leaf_size': [10, 30, 50]}]\n",
      "Fitting 3 folds for each of 6 candidates, totalling 18 fits\n",
      "........Best_hyperparameter_set= {'n_neighbors': 5, 'leaf_size': 10} with f1 score= 0.523519447019\n",
      "Grid search for...  LogisticRegression in the space :  [{'C': [0.01, 0.1, 1.0], 'solver': ['liblinear', 'sag']}]\n",
      "Fitting 3 folds for each of 6 candidates, totalling 18 fits\n"
     ]
    },
    {
     "name": "stderr",
     "output_type": "stream",
     "text": [
      "[Parallel(n_jobs=-1)]: Done  18 out of  18 | elapsed:    1.6s finished\n",
      "[Parallel(n_jobs=-1)]: Done  18 out of  18 | elapsed:    0.7s finished\n"
     ]
    },
    {
     "name": "stdout",
     "output_type": "stream",
     "text": [
      "........Best_hyperparameter_set= {'C': 0.01, 'solver': 'sag'} with f1 score= 0.666939820275\n",
      "Grid search for...  AdaBoostClassifier in the space :  [{'n_estimators': [5, 50], 'learning_rate': [0.05, 0.5, 1.0]}]\n",
      "Fitting 3 folds for each of 6 candidates, totalling 18 fits\n"
     ]
    },
    {
     "name": "stderr",
     "output_type": "stream",
     "text": [
      "[Parallel(n_jobs=-1)]: Done  18 out of  18 | elapsed:    1.9s finished\n"
     ]
    },
    {
     "name": "stdout",
     "output_type": "stream",
     "text": [
      "........Best_hyperparameter_set= {'n_estimators': 50, 'learning_rate': 0.5} with f1 score= 0.578771099899\n",
      "Grid search for...  GradientBoostingClassifier in the space :  [{'n_estimators': [10, 100], 'learning_rate': [0.01, 0.1, 1], 'max_depth': [3, 10]}]\n",
      "Fitting 3 folds for each of 12 candidates, totalling 36 fits\n",
      "........Best_hyperparameter_set= {'n_estimators': 10, 'learning_rate': 0.01, 'max_depth': 3} with f1 score= 0.649028900351\n",
      "Grid search for...  XGBClassifier in the space :  [{'n_estimators': [10, 100], 'learning_rate': [0.01, 0.1, 1], 'max_depth': [3, 10], 'gamma': [0, 1]}]\n",
      "Fitting 3 folds for each of 24 candidates, totalling 72 fits\n"
     ]
    },
    {
     "name": "stderr",
     "output_type": "stream",
     "text": [
      "[Parallel(n_jobs=-1)]: Done  36 out of  36 | elapsed:   11.8s finished\n",
      "[Parallel(n_jobs=-1)]: Done  72 out of  72 | elapsed:    7.5s finished\n"
     ]
    },
    {
     "name": "stdout",
     "output_type": "stream",
     "text": [
      "........Best_hyperparameter_set= {'n_estimators': 10, 'learning_rate': 0.01, 'max_depth': 3, 'gamma': 0} with f1 score= 0.617813959396\n",
      "\n",
      "************RESULT OF BEST_MODEL:******************\n",
      "Best_model:  SVC(C=1.0, cache_size=200, class_weight=None, coef0=0.0,\n",
      "  decision_function_shape=None, degree=2, gamma='auto', kernel='poly',\n",
      "  max_iter=-1, probability=False, random_state=None, shrinking=True,\n",
      "  tol=0.001, verbose=False) \n",
      "\n",
      "Best_f1_score:  0.683387368561 \n",
      "Best_hyperparameter:  {'kernel': 'poly', 'degree': 2}\n"
     ]
    }
   ],
   "source": [
    "# Returns the best model from a set of model families given\n",
    "# training data using cross-validation.\n",
    "from sklearn.ensemble import AdaBoostClassifier\n",
    "from sklearn.ensemble import GradientBoostingClassifier\n",
    "\n",
    "tscv = TimeSeriesSplit(n_splits=3)\n",
    "classifiers_f1={}\n",
    "\n",
    "# Returns the best configuration for a model using crosvalidation and grid search\n",
    "def best_hyperparameter(model, parameters, X, y):\n",
    "    print 'Grid search for... ' , model.__class__.__name__, 'in the space : ',parameters\n",
    "    cv=tscv.split(X)\n",
    "    grid_search = GridSearchCV(model, parameters, cv=cv, scoring=\"f1\", verbose=1, n_jobs=-1)\n",
    "    grid_search.fit(X, y)\n",
    "    best_estimator = grid_search.best_estimator_\n",
    "    print \"........Best_hyperparameter_set=\",str(grid_search.best_params_), \"with f1 score=\",grid_search.best_score_\n",
    "    classifiers_f1.update({best_estimator.__class__.__name__: grid_search.best_score_})\n",
    "    \n",
    "    return [best_estimator,  grid_search.best_score_, str(grid_search.best_params_)]\n",
    "\n",
    "\n",
    "def best_model(set_model_hyperparameter, X, y):\n",
    "    best_score = 0.0\n",
    "    best_model_score_param = None\n",
    "    model_score_parameter = []\n",
    "    \n",
    "    for name, model, parameters in set_model_hyperparameter:\n",
    "        model_score_parameter.append(best_hyperparameter(model,parameters,X,y))\n",
    " \n",
    "    for model, score, parameter in model_score_parameter:\n",
    "        if (score > best_score):\n",
    "            best_score = score\n",
    "            best_model_score_param = [model, score, parameter]\n",
    " \n",
    "    return best_model_score_param\n",
    " \n",
    "def set_model_hyperparameter():\n",
    "    set_model_param = []\n",
    "\n",
    "    #RandomForest\n",
    "    rf_parameters = [{\"n_estimators\": [10, 100, 250, 500], #\n",
    "                      'bootstrap': [False,True]}]\n",
    "    set_model_param.append([\"RandomForest\",RandomForestClassifier(n_jobs=-1),rf_parameters])\n",
    "    \n",
    "    #SVC\n",
    "    svm_parameters = [{'kernel': ['poly','rbf'],\n",
    "                       'degree': [1, 2, 3]}]\n",
    "    set_model_param.append([\"SVM\", SVC(),svm_parameters])\n",
    "    \n",
    "    \n",
    "    #Knn\n",
    "    knn_parameters = [{\"n_neighbors\": [3, 5],\n",
    "                       'leaf_size': [10,30,50] }]\n",
    "    set_model_param.append([\"kNN\", neighbors.KNeighborsClassifier(n_jobs=-1),knn_parameters])\n",
    "    \n",
    "    #Logistic\n",
    "    logistic_parameters=[{'C': [0.01,0.1,1.0],\n",
    "                          'solver': ['liblinear','sag']}]\n",
    "    set_model_param.append([\"logistic\", LogisticRegression(n_jobs=-1),logistic_parameters])\n",
    "    \n",
    "    #Adaboost\n",
    "    adaboost_parameters=[{'learning_rate': [0.05,0.5,1.0],\n",
    "                          'n_estimators': [5,50]}]\n",
    "    set_model_param.append([\"adaboost\", AdaBoostClassifier(),adaboost_parameters])\n",
    "    \n",
    "    #GradientBoost\n",
    "    gboosting_parameters=[{'learning_rate': [0.01,0.1,1],\n",
    "                           'max_depth': [3,10],\n",
    "                           'n_estimators': [10,100]}]\n",
    "    set_model_param.append([\"gboosting\", GradientBoostingClassifier(),gboosting_parameters])\n",
    "    \n",
    "    #XGBoost\n",
    "    xgb_parameters=[{'gamma': [0,1],\n",
    "                     'learning_rate': [0.01,0.1,1],\n",
    "                     'max_depth': [3,10],\n",
    "                     'n_estimators': [10,100]}]\n",
    "    set_model_param.append([\"xgb\", XGBClassifier(),xgb_parameters])\n",
    "\n",
    "    return set_model_param\n",
    "\n",
    "set_model_hyperparameter=set_model_hyperparameter()\n",
    "best_model=best_model(set_model_hyperparameter, X, y)\n",
    "\n",
    "print \"\\n************RESULT OF BEST_MODEL:******************\\n\", \n",
    "print \"Best_model: \", best_model[0],\n",
    "print \"\"\n",
    "print \"\\nBest_f1_score: \", best_model[1],\n",
    "print \"\\nBest_hyperparameter: \",best_model[2]"
   ]
  },
  {
   "cell_type": "code",
   "execution_count": 241,
   "metadata": {
    "collapsed": false
   },
   "outputs": [
    {
     "name": "stdout",
     "output_type": "stream",
     "text": [
      "{'LogisticRegression': 0.66693982027467202, 'KNeighborsClassifier': 0.52351944701923936, 'XGBClassifier': 0.61781395939593653, 'RandomForestClassifier': 0.53511973024188597, 'AdaBoostClassifier': 0.5787710998987895, 'SVC': 0.68338736856105442, 'GradientBoostingClassifier': 0.64902890035100591}\n"
     ]
    }
   ],
   "source": [
    "print classifiers_f1"
   ]
  },
  {
   "cell_type": "code",
   "execution_count": 242,
   "metadata": {
    "collapsed": false
   },
   "outputs": [
    {
     "data": {
      "image/png": "[encoded data removed]",
      "text/plain": [
       "<matplotlib.figure.Figure at 0x116f9ec10>"
      ]
     },
     "metadata": {},
     "output_type": "display_data"
    },
    {
     "data": {
      "text/html": [
       "<div>\n",
       "<table border=\"1\" class=\"dataframe\">\n",
       "  <thead>\n",
       "    <tr style=\"text-align: right;\">\n",
       "      <th></th>\n",
       "      <th>key</th>\n",
       "      <th>f1_score</th>\n",
       "    </tr>\n",
       "  </thead>\n",
       "  <tbody>\n",
       "    <tr>\n",
       "      <th>5</th>\n",
       "      <td>SVC</td>\n",
       "      <td>0.683387</td>\n",
       "    </tr>\n",
       "    <tr>\n",
       "      <th>0</th>\n",
       "      <td>LogisticRegression</td>\n",
       "      <td>0.666940</td>\n",
       "    </tr>\n",
       "    <tr>\n",
       "      <th>6</th>\n",
       "      <td>GradientBoostingClassifier</td>\n",
       "      <td>0.649029</td>\n",
       "    </tr>\n",
       "    <tr>\n",
       "      <th>2</th>\n",
       "      <td>XGBClassifier</td>\n",
       "      <td>0.617814</td>\n",
       "    </tr>\n",
       "    <tr>\n",
       "      <th>4</th>\n",
       "      <td>AdaBoostClassifier</td>\n",
       "      <td>0.578771</td>\n",
       "    </tr>\n",
       "    <tr>\n",
       "      <th>3</th>\n",
       "      <td>RandomForestClassifier</td>\n",
       "      <td>0.535120</td>\n",
       "    </tr>\n",
       "    <tr>\n",
       "      <th>1</th>\n",
       "      <td>KNeighborsClassifier</td>\n",
       "      <td>0.523519</td>\n",
       "    </tr>\n",
       "  </tbody>\n",
       "</table>\n",
       "</div>"
      ],
      "text/plain": [
       "                          key  f1_score\n",
       "5                         SVC  0.683387\n",
       "0          LogisticRegression  0.666940\n",
       "6  GradientBoostingClassifier  0.649029\n",
       "2               XGBClassifier  0.617814\n",
       "4          AdaBoostClassifier  0.578771\n",
       "3      RandomForestClassifier  0.535120\n",
       "1        KNeighborsClassifier  0.523519"
      ]
     },
     "metadata": {},
     "output_type": "display_data"
    }
   ],
   "source": [
    "#summary of RMSE for all classifiers\n",
    "\n",
    "import matplotlib.pyplot as plt\n",
    "\n",
    "classifiers_f1_df=pd.DataFrame(list(classifiers_f1.iteritems()), columns=['key','f1_score'])\n",
    "classifiers_f1_df=classifiers_f1_df.sort_values(by=['f1_score'],ascending=False)\n",
    "\n",
    "plt.rcParams['figure.figsize'] = (10.0, 5.0)\n",
    "\n",
    "colors = []\n",
    "for model in classifiers_f1_df.key: \n",
    "    if model.startswith('KNeighbors'):\n",
    "        colors.append('r')\n",
    "    else:\n",
    "        colors.append('b')\n",
    "\n",
    "ind = np.arange(len(classifiers_f1))\n",
    "fig = plt.figure()\n",
    "ax = fig.add_subplot(111)\n",
    "bar_width = 0.6\n",
    "ax.bar(ind,classifiers_f1_df['f1_score'], width=bar_width, color=colors) \n",
    "\n",
    "ax.set_ylabel('F1_score',fontsize=14)\n",
    "ax.set_xlabel('Models_Metric_deltaDays',fontsize=14)\n",
    "plt.xticks(ind + bar_width / 2, classifiers_f1_df['key'],rotation='vertical',fontsize=14)\n",
    "\n",
    "ax.grid('on')\n",
    "ax.set_title('After gridsearchCV, Comparison of F1 score for various classifiers on bulish/bearish of 14 day-log-return',fontsize=16)\n",
    "plt.show()\n",
    "\n",
    "display(classifiers_f1_df[:10])"
   ]
  },
  {
   "cell_type": "code",
   "execution_count": null,
   "metadata": {
    "collapsed": true
   },
   "outputs": [],
   "source": []
  }
 ],
 "metadata": {
  "anaconda-cloud": {},
  "kernelspec": {
   "display_name": "Python [default]",
   "language": "python",
   "name": "python2"
  },
  "language_info": {
   "codemirror_mode": {
    "name": "ipython",
    "version": 2
   },
   "file_extension": ".py",
   "mimetype": "text/x-python",
   "name": "python",
   "nbconvert_exporter": "python",
   "pygments_lexer": "ipython2",
   "version": "2.7.12"
  }
 },
 "nbformat": 4,
 "nbformat_minor": 1
}
