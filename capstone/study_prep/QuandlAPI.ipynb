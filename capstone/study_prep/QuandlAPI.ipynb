{
 "cells": [
  {
   "cell_type": "code",
   "execution_count": 7,
   "metadata": {
    "collapsed": false
   },
   "outputs": [
    {
     "name": "stdout",
     "output_type": "stream",
     "text": [
      "*******AAPL.head(1)******\n",
      "             Open   High    Low  Close     Volume  Ex-Dividend  Split Ratio  \\\n",
      "Date                                                                          \n",
      "1980-12-12  28.75  28.87  28.75  28.75  2093900.0          0.0          1.0   \n",
      "\n",
      "            Adj. Open  Adj. High  Adj. Low  Adj. Close  Adj. Volume  \n",
      "Date                                                                 \n",
      "1980-12-12   0.428364   0.430152  0.428364    0.428364  117258400.0  \n",
      "*******df = pd.DataFrame([AAPL['Adj. Close']])******\n",
      "Date        1980-12-12  1980-12-15  1980-12-16  1980-12-17  1980-12-18  \\\n",
      "Adj. Close    0.428364    0.406015    0.376216    0.385453    0.396777   \n",
      "\n",
      "Date        1980-12-19  1980-12-22  1980-12-23  1980-12-24  1980-12-26  \\\n",
      "Adj. Close    0.420914    0.441476      0.4601    0.484238    0.528937   \n",
      "\n",
      "Date           ...      2017-02-21  2017-02-22  2017-02-23  2017-02-24  \\\n",
      "Adj. Close     ...           136.7      137.11      136.53      136.66   \n",
      "\n",
      "Date        2017-02-27  2017-02-28  2017-03-01  2017-03-02  2017-03-03  \\\n",
      "Adj. Close      136.93      136.99      139.79      138.96     139.755   \n",
      "\n",
      "Date        2017-03-06  \n",
      "Adj. Close      139.34  \n",
      "\n",
      "[1 rows x 9135 columns]\n",
      "*******after transpose******\n",
      "            Adj. Close\n",
      "Date                  \n",
      "1980-12-12    0.428364\n",
      "*******after loc******\n",
      "            Adj. Close\n",
      "Date                  \n",
      "2016-01-04  103.146242\n",
      "2016-01-05  100.561467\n",
      "2016-01-06   98.593513\n",
      "*******after pctchange******\n",
      "Date\n",
      "2016-01-04         NaN\n",
      "2016-01-05   -0.025059\n",
      "2016-01-06   -0.019570\n",
      "Name: Daily Return, dtype: float64\n",
      "*******after shift******\n",
      "Date\n",
      "2016-01-04           NaN\n",
      "2016-01-05    103.146242\n",
      "2016-01-06    100.561467\n",
      "Name: Adj. Close, dtype: float64\n",
      "***** pd.DataFrame([df['LogReturn'], df['Adj.Close_3_d']]).transpose()****\n",
      "            LogReturn  Adj.Close_3_d\n",
      "Date                                \n",
      "2016-01-07  -0.043121     103.146242\n",
      "TimeSeriesSplit(n_splits=3)\n"
     ]
    },
    {
     "data": {
      "text/html": [
       "<div>\n",
       "<table border=\"1\" class=\"dataframe\">\n",
       "  <thead>\n",
       "    <tr style=\"text-align: right;\">\n",
       "      <th></th>\n",
       "      <th>LogReturn</th>\n",
       "      <th>Adj.Close_3_d</th>\n",
       "    </tr>\n",
       "    <tr>\n",
       "      <th>Date</th>\n",
       "      <th></th>\n",
       "      <th></th>\n",
       "    </tr>\n",
       "  </thead>\n",
       "  <tbody>\n",
       "    <tr>\n",
       "      <th>2016-01-07</th>\n",
       "      <td>-0.043121</td>\n",
       "      <td>103.146242</td>\n",
       "    </tr>\n",
       "    <tr>\n",
       "      <th>2016-01-08</th>\n",
       "      <td>0.005274</td>\n",
       "      <td>100.561467</td>\n",
       "    </tr>\n",
       "    <tr>\n",
       "      <th>2016-01-11</th>\n",
       "      <td>0.016063</td>\n",
       "      <td>98.593513</td>\n",
       "    </tr>\n",
       "    <tr>\n",
       "      <th>2016-01-12</th>\n",
       "      <td>0.014409</td>\n",
       "      <td>94.432416</td>\n",
       "    </tr>\n",
       "    <tr>\n",
       "      <th>2016-01-13</th>\n",
       "      <td>-0.026047</td>\n",
       "      <td>94.931748</td>\n",
       "    </tr>\n",
       "  </tbody>\n",
       "</table>\n",
       "</div>"
      ],
      "text/plain": [
       "            LogReturn  Adj.Close_3_d\n",
       "Date                                \n",
       "2016-01-07  -0.043121     103.146242\n",
       "2016-01-08   0.005274     100.561467\n",
       "2016-01-11   0.016063      98.593513\n",
       "2016-01-12   0.014409      94.432416\n",
       "2016-01-13  -0.026047      94.931748"
      ]
     },
     "execution_count": 7,
     "metadata": {},
     "output_type": "execute_result"
    }
   ],
   "source": [
    "#https://www.quandl.com/docs/api#introduction\n",
    "\n",
    "import pandas as pd\n",
    "import numpy as np\n",
    "from sklearn.model_selection import TimeSeriesSplit\n",
    "\n",
    "import quandl \n",
    "AAPL = quandl.get('WIKI/AAPL')\n",
    "print \"*******AAPL.head(1)******\\n\",AAPL.head(1)\n",
    "\n",
    "start = '2016-1-1'\n",
    "end = '2016-12-31'\n",
    "df = pd.DataFrame([AAPL['Adj. Close']])\n",
    "print \"*******df = pd.DataFrame([AAPL['Adj. Close']])******\\n\",df.head(1)\n",
    "df = df.transpose()\n",
    "print \"*******after transpose******\\n\",df.head(1)\n",
    "df = df.loc['20160101':'20161231']\n",
    "print \"*******after loc******\\n\",df.head(3)\n",
    "\n",
    "df['Daily Return'] = df['Adj. Close'].pct_change()\n",
    "print \"*******after pctchange******\\n\",df['Daily Return'].head(3)\n",
    "df['LogReturn'] = np.log(df['Adj. Close']/df['Adj. Close'].shift())\n",
    "print \"*******after shift******\\n\",df['Adj. Close'].shift().head(3)\n",
    "df['Adj.Close_3_d'] = df['Adj. Close'].shift(3)\n",
    "df = df.dropna()\n",
    "\n",
    "y = df['Adj. Close']\n",
    "X = pd.DataFrame([df['LogReturn'], df['Adj.Close_3_d']]).transpose()\n",
    "print \"***** pd.DataFrame([df['LogReturn'], df['Adj.Close_3_d']]).transpose()****\\n\",X.head(1)\n",
    "\n",
    "tscv = TimeSeriesSplit(n_splits=3)\n",
    "print(tscv)  \n",
    "\n",
    "for train_index, test_index in tscv.split(X):\n",
    "    y_train, y_test = y[train_index], y[test_index]\n",
    "    X_train, X_test = X[:len(train_index)], X[len(train_index):(len(train_index)+len(test_index))]\n",
    "\n",
    "    \n",
    "X_train.head(5)"
   ]
  },
  {
   "cell_type": "code",
   "execution_count": 2,
   "metadata": {
    "collapsed": true
   },
   "outputs": [],
   "source": [
    "PER=quandl.get(\"MULTPL/SP500_PE_RATIO_MONTH\", authtoken=\"sLiqYvGFsXyiE98ysSrq\")"
   ]
  },
  {
   "cell_type": "code",
   "execution_count": 3,
   "metadata": {
    "collapsed": false
   },
   "outputs": [
    {
     "name": "stdout",
     "output_type": "stream",
     "text": [
      "                     Value\n",
      "Date                      \n",
      "1871-01-01 00:00:00  11.10\n",
      "1871-02-01 00:00:00  11.25\n",
      "1871-03-01 00:00:00  11.53\n",
      "1871-04-01 00:00:00  11.85\n",
      "1871-05-01 00:00:00  12.15\n",
      "1871-06-01 00:00:00  12.05\n",
      "1871-07-01 00:00:00  11.83\n",
      "1871-08-01 00:00:00  11.98\n",
      "1871-09-01 00:00:00  12.10\n",
      "1871-10-01 00:00:00  11.48\n",
      "1871-11-01 00:00:00  11.60\n",
      "1871-12-01 00:00:00  11.85\n",
      "1872-01-01 00:00:00  12.15\n",
      "1872-02-01 00:00:00  11.90\n",
      "1872-03-01 00:00:00  12.29\n",
      "1872-04-01 00:00:00  12.63\n",
      "1872-05-01 00:00:00  12.63\n",
      "1872-06-01 00:00:00  12.21\n",
      "1872-07-01 00:00:00  12.14\n",
      "1872-08-01 00:00:00  12.00\n",
      "1872-09-01 00:00:00  11.79\n",
      "1872-10-01 00:00:00  11.56\n",
      "1872-11-01 00:00:00  11.51\n",
      "1872-12-01 00:00:00  11.79\n",
      "1873-01-01 00:00:00  11.88\n",
      "1873-02-01 00:00:00  11.70\n",
      "1873-03-01 00:00:00  11.61\n",
      "1873-04-01 00:00:00  11.45\n",
      "1873-05-01 00:00:00  11.48\n",
      "1873-06-01 00:00:00  11.07\n",
      "...                    ...\n",
      "2014-08-01           18.68\n",
      "2014-09-01           18.81\n",
      "2014-10-01           18.50\n",
      "2014-11-01           19.75\n",
      "2014-12-01           20.08\n",
      "2015-01-01           20.02\n",
      "2015-02-01           20.77\n",
      "2015-03-01           20.96\n",
      "2015-04-01           21.42\n",
      "2015-05-01           21.92\n",
      "2015-06-01           22.12\n",
      "2015-07-01           22.40\n",
      "2015-08-01           22.15\n",
      "2015-09-01           21.45\n",
      "2015-10-01           22.68\n",
      "2015-11-01           23.67\n",
      "2015-12-01           23.74\n",
      "2016-01-01           22.18\n",
      "2016-02-01           22.02\n",
      "2016-03-01           23.39\n",
      "2016-04-01           23.97\n",
      "2016-05-01           23.81\n",
      "2016-06-01           23.97\n",
      "2016-07-01           24.52\n",
      "2016-08-01           24.57\n",
      "2016-09-01           24.22\n",
      "2016-10-01           24.05\n",
      "2016-11-01           24.30\n",
      "2016-12-01           25.22\n",
      "2017-01-01           25.54\n",
      "\n",
      "[1753 rows x 1 columns]\n"
     ]
    }
   ],
   "source": [
    "print PER"
   ]
  },
  {
   "cell_type": "code",
   "execution_count": 16,
   "metadata": {
    "collapsed": false
   },
   "outputs": [
    {
     "name": "stdout",
     "output_type": "stream",
     "text": [
      "             Open  High   Low    Close       Volume  Ex-Dividend  Split Ratio  \\\n",
      "Date                                                                            \n",
      "2012-05-18  42.05  45.0  38.0  38.2318  573576400.0          0.0          1.0   \n",
      "\n",
      "            Adj. Open  Adj. High  Adj. Low  Adj. Close  Adj. Volume  \n",
      "Date                                                                 \n",
      "2012-05-18      42.05       45.0      38.0     38.2318  573576400.0  \n"
     ]
    }
   ],
   "source": [
    "data = quandl.get(\"WIKI/FB\")\n",
    "print data.head(1)"
   ]
  },
  {
   "cell_type": "code",
   "execution_count": 6,
   "metadata": {
    "collapsed": false
   },
   "outputs": [
    {
     "name": "stdout",
     "output_type": "stream",
     "text": [
      "            Adj. Close\n",
      "Date                  \n",
      "2014-02-28        5.89\n",
      "2014-03-31       -8.22\n",
      "2014-04-30       -0.46\n",
      "2014-05-31        3.52\n",
      "2014-06-30        3.99\n",
      "2014-07-31        5.36\n",
      "2014-08-31        2.17\n",
      "2014-09-30        4.22\n",
      "2014-10-31       -4.05\n",
      "2014-11-30        2.71\n",
      "2014-12-31        0.32\n"
     ]
    }
   ],
   "source": [
    "data = quandl.get(\"WIKI/FB.11\", start_date=\"2014-01-01\", end_date=\"2014-12-31\", collapse=\"monthly\", transform=\"diff\")\n",
    "print data"
   ]
  },
  {
   "cell_type": "code",
   "execution_count": 8,
   "metadata": {
    "collapsed": false
   },
   "outputs": [
    {
     "name": "stdout",
     "output_type": "stream",
     "text": [
      "     m_ticker ticker       comp_name            comp_name_2 exchange  \\\n",
      "None                                                                   \n",
      "0        MSFT   MSFT  MICROSOFT CORP  Microsoft Corporation     NSDQ   \n",
      "\n",
      "     currency_code per_end_date per_type per_code  per_fisc_year  \\\n",
      "None                                                               \n",
      "0              USD   2011-06-30        A     None           2011   \n",
      "\n",
      "           ...         stock_based_compsn_qd  cash_flow_oper_activity_qd  \\\n",
      "None       ...                                                             \n",
      "0          ...                           NaN                         NaN   \n",
      "\n",
      "      net_change_prop_plant_equip_qd comm_stock_div_paid_qd  \\\n",
      "None                                                          \n",
      "0                                NaN                    NaN   \n",
      "\n",
      "     pref_stock_div_paid_qd  tot_comm_pref_stock_div_qd  wavg_shares_out  \\\n",
      "None                                                                       \n",
      "0                      None                         NaN           8490.0   \n",
      "\n",
      "      wavg_shares_out_diluted  eps_basic_net  eps_diluted_net  \n",
      "None                                                           \n",
      "0                      8593.0           2.73             2.69  \n",
      "\n",
      "[1 rows x 249 columns]\n"
     ]
    }
   ],
   "source": [
    "data = quandl.get_table(\"ZACKS/FC\", ticker=\"MSFT\")\n",
    "print data.head(1)"
   ]
  },
  {
   "cell_type": "code",
   "execution_count": 9,
   "metadata": {
    "collapsed": false
   },
   "outputs": [
    {
     "name": "stdout",
     "output_type": "stream",
     "text": [
      "     m_ticker ticker       comp_name            comp_name_2 exchange  \\\n",
      "None                                                                   \n",
      "0        MSFT   MSFT  MICROSOFT CORP  Microsoft Corporation     NSDQ   \n",
      "\n",
      "     currency_code per_end_date per_type per_code  per_fisc_year     ...       \\\n",
      "None                                                                 ...        \n",
      "0              USD   2011-06-30        A     None           2011     ...        \n",
      "\n",
      "      net_change_prop_plant_equip_qd  comm_stock_div_paid_qd  \\\n",
      "None                                                           \n",
      "0                                NaN                     NaN   \n",
      "\n",
      "      pref_stock_div_paid_qd tot_comm_pref_stock_div_qd  data_type_ind  \\\n",
      "None                                                                     \n",
      "0                       None                        NaN              F   \n",
      "\n",
      "     qtr_nbr basic_net_eps diluted_net_eps avg_d_shares avg_b_shares  \n",
      "None                                                                  \n",
      "0          4          2.73            2.69       8593.0       8490.0  \n",
      "\n",
      "[1 rows x 635 columns]\n"
     ]
    }
   ],
   "source": [
    "data = quandl.get_table(\"ZACKS/FE\", ticker=\"MSFT\")\n",
    "print data.head(1)"
   ]
  },
  {
   "cell_type": "code",
   "execution_count": 10,
   "metadata": {
    "collapsed": false
   },
   "outputs": [
    {
     "name": "stdout",
     "output_type": "stream",
     "text": [
      "     m_ticker ticker       comp_name            comp_name_2 exchange  \\\n",
      "None                                                                   \n",
      "0        MSFT   MSFT  MICROSOFT CORP  Microsoft Corporation     NSDQ   \n",
      "\n",
      "     currency_code per_end_date per_type per_code  per_fisc_year  \\\n",
      "None                                                               \n",
      "0              USD   2011-06-30        A     None           2011   \n",
      "\n",
      "                ...             invty_turn  rcv_turn  day_sale_rcv  \\\n",
      "None            ...                                                  \n",
      "0               ...                11.3535    4.6669       78.2102   \n",
      "\n",
      "      ret_equity  ret_tang_equity ret_asset ret_invst  \\\n",
      "None                                                    \n",
      "0         40.555          52.9046   21.2964   33.5488   \n",
      "\n",
      "      free_cash_flow_per_share  book_val_per_share  oper_cash_flow_per_share  \n",
      "None                                                                          \n",
      "0                       2.8673              6.8151                    3.1414  \n",
      "\n",
      "[1 rows x 40 columns]\n"
     ]
    }
   ],
   "source": [
    "data = quandl.get_table(\"ZACKS/FR\", ticker=\"MSFT\")\n",
    "print data.head(1)"
   ]
  },
  {
   "cell_type": "code",
   "execution_count": 11,
   "metadata": {
    "collapsed": false
   },
   "outputs": [
    {
     "name": "stdout",
     "output_type": "stream",
     "text": [
      "     m_ticker ticker       comp_name            comp_name_2 exchange  \\\n",
      "None                                                                   \n",
      "0        MSFT   MSFT  MICROSOFT CORP  Microsoft Corporation     NSDQ   \n",
      "\n",
      "     currency_code ticker_type active_ticker_flag                  comp_url  \\\n",
      "None                                                                          \n",
      "0              USD           S                  Y  http://www.microsoft.com   \n",
      "\n",
      "      sic_4_code     ...     per_end_month_nbr  mr_split_date mr_split_factor  \\\n",
      "None                 ...                                                        \n",
      "0           7372     ...                     6     2003-02-18             2.0   \n",
      "\n",
      "        comp_cik country_code   country_name comp_type  optionable_flag  \\\n",
      "None                                                                      \n",
      "0     0000789019           US  UNITED STATES         1                Y   \n",
      "\n",
      "     sp500_member_flag  asset_type  \n",
      "None                                \n",
      "0                    Y         COM  \n",
      "\n",
      "[1 rows x 27 columns]\n"
     ]
    }
   ],
   "source": [
    "data = quandl.get_table(\"ZACKS/MT\", ticker=\"MSFT\")\n",
    "print data.head(1)"
   ]
  },
  {
   "cell_type": "code",
   "execution_count": 15,
   "metadata": {
    "collapsed": false
   },
   "outputs": [
    {
     "name": "stdout",
     "output_type": "stream",
     "text": [
      "             Open   High    Low  Close     Volume  Ex-Dividend  Split Ratio  \\\n",
      "Date                                                                          \n",
      "1980-12-12  28.75  28.87  28.75  28.75  2093900.0          0.0          1.0   \n",
      "\n",
      "            Adj. Open  Adj. High  Adj. Low  Adj. Close  Adj. Volume  \n",
      "Date                                                                 \n",
      "1980-12-12   0.428364   0.430152  0.428364    0.428364  117258400.0  \n"
     ]
    }
   ],
   "source": [
    "AAPL = quandl.get('WIKI/AAPL')\n",
    "\n",
    "print AAPL.head(1)"
   ]
  },
  {
   "cell_type": "code",
   "execution_count": 1,
   "metadata": {
    "collapsed": false
   },
   "outputs": [
    {
     "ename": "NameError",
     "evalue": "name 'quandl' is not defined",
     "output_type": "error",
     "traceback": [
      "\u001b[0;31m---------------------------------------------------------------------------\u001b[0m",
      "\u001b[0;31mNameError\u001b[0m                                 Traceback (most recent call last)",
      "\u001b[0;32m<ipython-input-1-71deed651f60>\u001b[0m in \u001b[0;36m<module>\u001b[0;34m()\u001b[0m\n\u001b[0;32m----> 1\u001b[0;31m \u001b[0mmydata\u001b[0m \u001b[0;34m=\u001b[0m \u001b[0mquandl\u001b[0m\u001b[0;34m.\u001b[0m\u001b[0mget_table\u001b[0m\u001b[0;34m(\u001b[0m\u001b[0;34m\"INQ/INTC\"\u001b[0m\u001b[0;34m)\u001b[0m\u001b[0;34m\u001b[0m\u001b[0m\n\u001b[0m\u001b[1;32m      2\u001b[0m \u001b[0;32mprint\u001b[0m \u001b[0mmydata\u001b[0m\u001b[0;34m.\u001b[0m\u001b[0mhead\u001b[0m\u001b[0;34m(\u001b[0m\u001b[0;36m1\u001b[0m\u001b[0;34m)\u001b[0m\u001b[0;34m\u001b[0m\u001b[0m\n",
      "\u001b[0;31mNameError\u001b[0m: name 'quandl' is not defined"
     ]
    }
   ],
   "source": [
    "mydata = quandl.get_table(\"INQ/EE\")#for INTC no subscriptoin\n",
    "print mydata.head(1)"
   ]
  },
  {
   "cell_type": "code",
   "execution_count": 18,
   "metadata": {
    "collapsed": false
   },
   "outputs": [
    {
     "name": "stdout",
     "output_type": "stream",
     "text": [
      "             Open  High   Low    Close       Volume  Ex-Dividend  Split Ratio  \\\n",
      "Date                                                                            \n",
      "2012-05-18  42.05  45.0  38.0  38.2318  573576400.0          0.0          1.0   \n",
      "\n",
      "            Adj. Open  Adj. High  Adj. Low  Adj. Close  Adj. Volume  \n",
      "Date                                                                 \n",
      "2012-05-18      42.05       45.0      38.0     38.2318  573576400.0  \n"
     ]
    }
   ],
   "source": [
    "data = quandl.get(\"WIKI/FB\") \n",
    "print data.head(1)"
   ]
  },
  {
   "cell_type": "code",
   "execution_count": 25,
   "metadata": {
    "collapsed": false
   },
   "outputs": [
    {
     "ename": "AttributeError",
     "evalue": "head",
     "output_type": "error",
     "traceback": [
      "\u001b[0;31m---------------------------------------------------------------------------\u001b[0m",
      "\u001b[0;31mAttributeError\u001b[0m                            Traceback (most recent call last)",
      "\u001b[0;32m<ipython-input-25-cff2c3e170ef>\u001b[0m in \u001b[0;36m<module>\u001b[0;34m()\u001b[0m\n\u001b[1;32m      1\u001b[0m \u001b[0mmetadata\u001b[0m \u001b[0;34m=\u001b[0m \u001b[0mquandl\u001b[0m\u001b[0;34m.\u001b[0m\u001b[0mDataset\u001b[0m\u001b[0;34m(\u001b[0m\u001b[0;34m\"WIKI/FB\"\u001b[0m\u001b[0;34m)\u001b[0m\u001b[0;31m#.data_fields()\u001b[0m\u001b[0;34m\u001b[0m\u001b[0m\n\u001b[0;32m----> 2\u001b[0;31m \u001b[0;32mprint\u001b[0m \u001b[0mmetadata\u001b[0m\u001b[0;34m.\u001b[0m\u001b[0mhead\u001b[0m\u001b[0;34m(\u001b[0m\u001b[0;36m2\u001b[0m\u001b[0;34m)\u001b[0m\u001b[0;34m\u001b[0m\u001b[0m\n\u001b[0m",
      "\u001b[0;32m/Users/parksoy/anaconda/lib/python2.7/site-packages/quandl/model/model_base.pyc\u001b[0m in \u001b[0;36m__getattr__\u001b[0;34m(self, k)\u001b[0m\n\u001b[1;32m     16\u001b[0m             \u001b[0;32mreturn\u001b[0m \u001b[0mself\u001b[0m\u001b[0;34m.\u001b[0m\u001b[0m__get_raw_data__\u001b[0m\u001b[0;34m(\u001b[0m\u001b[0;34m)\u001b[0m\u001b[0;34m[\u001b[0m\u001b[0mk\u001b[0m\u001b[0;34m]\u001b[0m\u001b[0;34m\u001b[0m\u001b[0m\n\u001b[1;32m     17\u001b[0m         \u001b[0;32melse\u001b[0m\u001b[0;34m:\u001b[0m\u001b[0;34m\u001b[0m\u001b[0m\n\u001b[0;32m---> 18\u001b[0;31m             \u001b[0;32mraise\u001b[0m \u001b[0mAttributeError\u001b[0m\u001b[0;34m(\u001b[0m\u001b[0mk\u001b[0m\u001b[0;34m)\u001b[0m\u001b[0;34m\u001b[0m\u001b[0m\n\u001b[0m\u001b[1;32m     19\u001b[0m \u001b[0;34m\u001b[0m\u001b[0m\n\u001b[1;32m     20\u001b[0m     \u001b[0;32mdef\u001b[0m \u001b[0m__getitem__\u001b[0m\u001b[0;34m(\u001b[0m\u001b[0mself\u001b[0m\u001b[0;34m,\u001b[0m \u001b[0mk\u001b[0m\u001b[0;34m)\u001b[0m\u001b[0;34m:\u001b[0m\u001b[0;34m\u001b[0m\u001b[0m\n",
      "\u001b[0;31mAttributeError\u001b[0m: head"
     ]
    }
   ],
   "source": [
    "metadata = quandl.Dataset(\"WIKI/FB\")#.data_fields()\n",
    "print metadata.head(2)"
   ]
  },
  {
   "cell_type": "code",
   "execution_count": 20,
   "metadata": {
    "collapsed": false
   },
   "outputs": [
    {
     "name": "stdout",
     "output_type": "stream",
     "text": [
      "            Adj. Close\n",
      "Date                  \n",
      "2014-02-28    0.094135\n",
      "2014-03-31   -0.120070\n"
     ]
    }
   ],
   "source": [
    "data = quandl.get(\"WIKI/FB.11\", start_date=\"2014-01-01\", end_date=\"2014-12-31\", collapse=\"monthly\", transform=\"rdiff\")\n",
    "print data.head(2)"
   ]
  },
  {
   "cell_type": "code",
   "execution_count": 21,
   "metadata": {
    "collapsed": false
   },
   "outputs": [
    {
     "name": "stdout",
     "output_type": "stream",
     "text": [
      "            WIKI/FB - Open  WIKI/FB - High  WIKI/FB - Low  WIKI/FB - Close  \\\n",
      "Date                                                                         \n",
      "1980-12-12             NaN             NaN            NaN              NaN   \n",
      "1980-12-15             NaN             NaN            NaN              NaN   \n",
      "\n",
      "            WIKI/FB - Volume  WIKI/FB - Ex-Dividend  WIKI/FB - Split Ratio  \\\n",
      "Date                                                                         \n",
      "1980-12-12               NaN                    NaN                    NaN   \n",
      "1980-12-15               NaN                    NaN                    NaN   \n",
      "\n",
      "            WIKI/FB - Adj. Open  WIKI/FB - Adj. High  WIKI/FB - Adj. Low  \\\n",
      "Date                                                                       \n",
      "1980-12-12                  NaN                  NaN                 NaN   \n",
      "1980-12-15                  NaN                  NaN                 NaN   \n",
      "\n",
      "                     ...             WIKI/MSFT - Low  WIKI/MSFT - Close  \\\n",
      "Date                 ...                                                  \n",
      "1980-12-12           ...                         NaN                NaN   \n",
      "1980-12-15           ...                         NaN                NaN   \n",
      "\n",
      "            WIKI/MSFT - Volume  WIKI/MSFT - Ex-Dividend  \\\n",
      "Date                                                      \n",
      "1980-12-12                 NaN                      NaN   \n",
      "1980-12-15                 NaN                      NaN   \n",
      "\n",
      "            WIKI/MSFT - Split Ratio  WIKI/MSFT - Adj. Open  \\\n",
      "Date                                                         \n",
      "1980-12-12                      NaN                    NaN   \n",
      "1980-12-15                      NaN                    NaN   \n",
      "\n",
      "            WIKI/MSFT - Adj. High  WIKI/MSFT - Adj. Low  \\\n",
      "Date                                                      \n",
      "1980-12-12                    NaN                   NaN   \n",
      "1980-12-15                    NaN                   NaN   \n",
      "\n",
      "            WIKI/MSFT - Adj. Close  WIKI/MSFT - Adj. Volume  \n",
      "Date                                                         \n",
      "1980-12-12                     NaN                      NaN  \n",
      "1980-12-15                     NaN                      NaN  \n",
      "\n",
      "[2 rows x 36 columns]\n"
     ]
    }
   ],
   "source": [
    "merged_data = quandl.get([\"WIKI/FB\",\"EOD/AAPL\",\"WIKI/MSFT\"])\n",
    "print merged_data.head(2)"
   ]
  },
  {
   "cell_type": "code",
   "execution_count": 22,
   "metadata": {
    "collapsed": false
   },
   "outputs": [
    {
     "name": "stdout",
     "output_type": "stream",
     "text": [
      "            WIKI/FB - Open  EOD/AAPL - High  WIKI/MSFT - Low\n",
      "Date                                                        \n",
      "1980-12-12             NaN            28.87              NaN\n",
      "1980-12-15             NaN            27.38              NaN\n"
     ]
    }
   ],
   "source": [
    "merged_data = quandl.get([\"WIKI/FB.1\",\"EOD/AAPL.2\",\"WIKI/MSFT.3\"])\n",
    "print merged_data.head(2)"
   ]
  },
  {
   "cell_type": "code",
   "execution_count": null,
   "metadata": {
    "collapsed": true
   },
   "outputs": [],
   "source": []
  }
 ],
 "metadata": {
  "anaconda-cloud": {},
  "kernelspec": {
   "display_name": "Python [default]",
   "language": "python",
   "name": "python2"
  },
  "language_info": {
   "codemirror_mode": {
    "name": "ipython",
    "version": 2
   },
   "file_extension": ".py",
   "mimetype": "text/x-python",
   "name": "python",
   "nbconvert_exporter": "python",
   "pygments_lexer": "ipython2",
   "version": "2.7.12"
  }
 },
 "nbformat": 4,
 "nbformat_minor": 1
}
