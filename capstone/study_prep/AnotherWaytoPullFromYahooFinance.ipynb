{
 "cells": [
  {
   "cell_type": "code",
   "execution_count": 2,
   "metadata": {
    "collapsed": false
   },
   "outputs": [
    {
     "name": "stdout",
     "output_type": "stream",
     "text": [
      "All done. Got 1 stocks. Could not get 0\n"
     ]
    }
   ],
   "source": [
    "'''\n",
    "Pulling Yahoo CSV Data\n",
    "'''\n",
    "\n",
    "import urllib2\n",
    "import urllib\n",
    "import datetime\n",
    "import os\n",
    "\n",
    "\n",
    "def get_yahoo_data(data_path, ls_symbols):\n",
    "    '''Read data from Yahoo\n",
    "    @data_path : string for where to place the output files\n",
    "    @ls_symbols: list of symbols to read from yahoo\n",
    "    '''\n",
    "    # Create path if it doesn't exist\n",
    "    if not (os.access(data_path, os.F_OK)):\n",
    "        os.makedirs(data_path)\n",
    "\n",
    "    ls_missed_syms = []\n",
    "    # utils.clean_paths(data_path)\n",
    "\n",
    "    _now = datetime.datetime.now()\n",
    "    # Counts how many symbols we could not get\n",
    "    miss_ctr = 0\n",
    "    for symbol in ls_symbols:\n",
    "        # Preserve original symbol since it might\n",
    "        # get manipulated if it starts with a \"$\"\n",
    "        symbol_name = symbol\n",
    "        if symbol[0] == '$':\n",
    "            symbol = '^' + symbol[1:]\n",
    "\n",
    "        symbol_data = list()\n",
    "        # print \"Getting {0}\".format(symbol)\n",
    "\n",
    "        try:\n",
    "            params = urllib.urlencode(\n",
    "                {'a': 0, 'b': 1, 'c': 2000, 'd': _now.month - 1, 'e': _now.day, 'f': _now.year, 's': symbol})\n",
    "            url = \"http://ichart.finance.yahoo.com/table.csv?%s\" % params\n",
    "            url_get = urllib2.urlopen(url)\n",
    "\n",
    "            header = url_get.readline()\n",
    "            symbol_data.append(url_get.readline())\n",
    "            while (len(symbol_data[-1]) > 0):\n",
    "                symbol_data.append(url_get.readline())\n",
    "\n",
    "            # The last element is going to be the string of length zero.\n",
    "            # We don't want to write that to file.\n",
    "            symbol_data.pop(-1)\n",
    "            # now writing data to file\n",
    "            f = open(data_path + symbol_name + \".csv\", 'w')\n",
    "\n",
    "            # Writing the header\n",
    "            f.write(header)\n",
    "\n",
    "            while (len(symbol_data) > 0):\n",
    "                f.write(symbol_data.pop(0))\n",
    "\n",
    "            f.close()\n",
    "\n",
    "        except urllib2.HTTPError:\n",
    "            miss_ctr += 1\n",
    "            ls_missed_syms.append(symbol_name)\n",
    "            print \"Unable to fetch data for stock: {0} at {1}\".format(symbol_name, url)\n",
    "        except urllib2.URLError:\n",
    "            miss_ctr += 1\n",
    "            ls_missed_syms.append(symbol_name)\n",
    "            print \"URL Error for stock: {0} at {1}\".format(symbol_name, url)\n",
    "\n",
    "    print \"All done. Got {0} stocks. Could not get {1}\".format(len(ls_symbols) - miss_ctr, miss_ctr)\n",
    "    for e in ls_missed_syms:\n",
    "        print e\n",
    "    return ls_missed_syms\n",
    "\n",
    "\n",
    "def read_symbols(s_symbols_file):\n",
    "    '''Read a list of symbols'''\n",
    "    ls_symbols = []\n",
    "    ffile = open(s_symbols_file, 'r')\n",
    "    for line in ffile.readlines():\n",
    "        str_line = str(line)\n",
    "        if str_line.strip():\n",
    "            ls_symbols.append(str_line.strip())\n",
    "    ffile.close()\n",
    "    return ls_symbols\n",
    "\n",
    "\n",
    "def main(path='data/Yahoo/', symbolsPath='data/Yahoo/Lists/nasdaq_all.txt'):\n",
    "    '''Main Function'''\n",
    "    # path = './data/'\n",
    "    ls_symbols = read_symbols(symbolsPath)\n",
    "    get_yahoo_data(path, ls_symbols)\n",
    "\n",
    "\n",
    "main()"
   ]
  },
  {
   "cell_type": "code",
   "execution_count": null,
   "metadata": {
    "collapsed": true
   },
   "outputs": [],
   "source": []
  }
 ],
 "metadata": {
  "kernelspec": {
   "display_name": "Python [default]",
   "language": "python",
   "name": "python2"
  },
  "language_info": {
   "codemirror_mode": {
    "name": "ipython",
    "version": 2
   },
   "file_extension": ".py",
   "mimetype": "text/x-python",
   "name": "python",
   "nbconvert_exporter": "python",
   "pygments_lexer": "ipython2",
   "version": "2.7.12"
  }
 },
 "nbformat": 4,
 "nbformat_minor": 1
}
