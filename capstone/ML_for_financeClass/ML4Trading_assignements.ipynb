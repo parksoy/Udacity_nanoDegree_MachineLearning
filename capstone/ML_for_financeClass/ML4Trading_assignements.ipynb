{
 "cells": [
  {
   "cell_type": "markdown",
   "metadata": {},
   "source": [
    "# Assignment 1\n",
    "\n",
    "http://quantsoftware.gatech.edu/MC1-Project-1\n",
    "old time with zip file:\n",
    "http://quantsoftware.gatech.edu/MC1-Project-1-archive\n",
    "\n",
    "\n",
    "assess_portfolio()\n",
    "input a description of a portfolio and computes important statistics\n",
    "\n",
    "input;\n",
    "- A date range to select the historical data to use (specified by a start and end date). You should consider performance from close of the start date to close of the end date.\n",
    "- Symbols for equities (e.g., GOOG, AAPL, GLD, XOM). Note: You should support any symbol in the data directory.\n",
    "- Allocations to the equities at the beginning of the simulation (e.g., 0.2, 0.3, 0.4, 0.1), should sum to 1.0.\n",
    "- Total starting value of the portfolio (e.g. $1,000,000)\n",
    "\n",
    "sd: A datetime object that represents the start date  \n",
    "ed: A datetime object that represents the end date\n",
    "syms: A list of 2 or more symbols that make up the portfolio (note that your code should support any symbol in the data directory)\n",
    "allocs: A list of 2 or more allocations to the stocks, must sum to 1.0\n",
    "sv: Start value of the portfolio\n",
    "rfr: The risk free return per sample period that does not change for the entire date range (a single number, not an array).\n",
    "sf: Sampling frequency per year\n",
    "gen_plot: If False, do not create any output. If True it is OK to output a plot such as plot.png\n",
    "\n",
    "\n",
    "output;\n",
    "- Cumulative return\n",
    "- Average period return (if sampling frequency == 252 then this is average daily return)\n",
    "- Standard deviation of daily returns\n",
    "- Sharpe ratio of the overall portfolio, given daily risk free rate (usually 0), and yearly sampling frequency (usually 252, the no. of trading days in a year)\n",
    "- Ending value of the portfolio\n",
    "\n",
    "cr: Cumulative return\n",
    "adr: Average period return (if sf == 252 this is daily return)\n",
    "sddr: Standard deviation of daily return\n",
    "sr: Sharpe ratio\n",
    "ev: End value of portfolio\n"
   ]
  },
  {
   "cell_type": "code",
   "execution_count": null,
   "metadata": {
    "collapsed": true
   },
   "outputs": [],
   "source": [
    "assess_portfolio()"
   ]
  },
  {
   "cell_type": "code",
   "execution_count": 3,
   "metadata": {
    "collapsed": false
   },
   "outputs": [
    {
     "ename": "NameError",
     "evalue": "name 'assess_portfolio' is not defined",
     "output_type": "error",
     "traceback": [
      "\u001b[0;31m---------------------------------------------------------------------------\u001b[0m",
      "\u001b[0;31mNameError\u001b[0m                                 Traceback (most recent call last)",
      "\u001b[0;32m<ipython-input-3-40ae00816cfd>\u001b[0m in \u001b[0;36m<module>\u001b[0;34m()\u001b[0m\n\u001b[1;32m      1\u001b[0m \u001b[0;32mimport\u001b[0m \u001b[0mdatetime\u001b[0m \u001b[0;32mas\u001b[0m \u001b[0mdt\u001b[0m\u001b[0;34m\u001b[0m\u001b[0m\n\u001b[0;32m----> 2\u001b[0;31m \u001b[0mcr\u001b[0m\u001b[0;34m,\u001b[0m \u001b[0madr\u001b[0m\u001b[0;34m,\u001b[0m \u001b[0msddr\u001b[0m\u001b[0;34m,\u001b[0m \u001b[0msr\u001b[0m\u001b[0;34m,\u001b[0m \u001b[0mev\u001b[0m \u001b[0;34m=\u001b[0m    \u001b[0massess_portfolio\u001b[0m\u001b[0;34m(\u001b[0m\u001b[0msd\u001b[0m\u001b[0;34m=\u001b[0m\u001b[0mdt\u001b[0m\u001b[0;34m.\u001b[0m\u001b[0mdatetime\u001b[0m\u001b[0;34m(\u001b[0m\u001b[0;36m2008\u001b[0m\u001b[0;34m,\u001b[0m\u001b[0;36m1\u001b[0m\u001b[0;34m,\u001b[0m\u001b[0;36m1\u001b[0m\u001b[0;34m)\u001b[0m\u001b[0;34m,\u001b[0m                     \u001b[0med\u001b[0m\u001b[0;34m=\u001b[0m\u001b[0mdt\u001b[0m\u001b[0;34m.\u001b[0m\u001b[0mdatetime\u001b[0m\u001b[0;34m(\u001b[0m\u001b[0;36m2009\u001b[0m\u001b[0;34m,\u001b[0m\u001b[0;36m1\u001b[0m\u001b[0;34m,\u001b[0m\u001b[0;36m1\u001b[0m\u001b[0;34m)\u001b[0m\u001b[0;34m,\u001b[0m    \u001b[0msyms\u001b[0m\u001b[0;34m=\u001b[0m\u001b[0;34m[\u001b[0m\u001b[0;34m'GOOG'\u001b[0m\u001b[0;34m,\u001b[0m\u001b[0;34m'AAPL'\u001b[0m\u001b[0;34m,\u001b[0m\u001b[0;34m'GLD'\u001b[0m\u001b[0;34m,\u001b[0m\u001b[0;34m'XOM'\u001b[0m\u001b[0;34m]\u001b[0m\u001b[0;34m,\u001b[0m    \u001b[0mallocs\u001b[0m\u001b[0;34m=\u001b[0m\u001b[0;34m[\u001b[0m\u001b[0;36m0.1\u001b[0m\u001b[0;34m,\u001b[0m\u001b[0;36m0.2\u001b[0m\u001b[0;34m,\u001b[0m\u001b[0;36m0.3\u001b[0m\u001b[0;34m,\u001b[0m\u001b[0;36m0.4\u001b[0m\u001b[0;34m]\u001b[0m\u001b[0;34m,\u001b[0m    \u001b[0msv\u001b[0m\u001b[0;34m=\u001b[0m\u001b[0;36m1000000\u001b[0m\u001b[0;34m,\u001b[0m \u001b[0mrfr\u001b[0m\u001b[0;34m=\u001b[0m\u001b[0;36m0.0\u001b[0m\u001b[0;34m,\u001b[0m \u001b[0msf\u001b[0m\u001b[0;34m=\u001b[0m\u001b[0;36m252.0\u001b[0m\u001b[0;34m,\u001b[0m    \u001b[0mgen_plot\u001b[0m\u001b[0;34m=\u001b[0m\u001b[0mFalse\u001b[0m\u001b[0;34m)\u001b[0m\u001b[0;34m\u001b[0m\u001b[0m\n\u001b[0m\u001b[1;32m      3\u001b[0m \u001b[0;34m\u001b[0m\u001b[0m\n\u001b[1;32m      4\u001b[0m \u001b[0;32mprint\u001b[0m \u001b[0;34m\"Cumulative return=\"\u001b[0m\u001b[0;34m,\u001b[0m\u001b[0mcr\u001b[0m\u001b[0;34m\u001b[0m\u001b[0m\n\u001b[1;32m      5\u001b[0m \u001b[0;32mprint\u001b[0m \u001b[0;34m\"Average period return=\"\u001b[0m\u001b[0;34m,\u001b[0m \u001b[0madr\u001b[0m\u001b[0;34m\u001b[0m\u001b[0m\n",
      "\u001b[0;31mNameError\u001b[0m: name 'assess_portfolio' is not defined"
     ]
    }
   ],
   "source": [
    "import datetime as dt\n",
    "cr, adr, sddr, sr, ev =\\\n",
    "    assess_portfolio(sd=dt.datetime(2008,1,1),\\\n",
    "                     ed=dt.datetime(2009,1,1),\\\n",
    "    syms=['GOOG','AAPL','GLD','XOM'],\\\n",
    "    allocs=[0.1,0.2,0.3,0.4],\\\n",
    "    sv=1000000, rfr=0.0, sf=252.0,\\\n",
    "    gen_plot=False)\n",
    "    \n",
    "print \"Cumulative return=\",cr\n",
    "print \"Average period return=\", adr\n",
    "print \"Standard deviation of daily return=\",sddr\n",
    "print \"Sharpe ratio=\", sr\n",
    "print \"End value of portfolio=\", ev"
   ]
  },
  {
   "cell_type": "code",
   "execution_count": null,
   "metadata": {
    "collapsed": true
   },
   "outputs": [],
   "source": []
  }
 ],
 "metadata": {
  "kernelspec": {
   "display_name": "Python [default]",
   "language": "python",
   "name": "python2"
  },
  "language_info": {
   "codemirror_mode": {
    "name": "ipython",
    "version": 2
   },
   "file_extension": ".py",
   "mimetype": "text/x-python",
   "name": "python",
   "nbconvert_exporter": "python",
   "pygments_lexer": "ipython2",
   "version": "2.7.12"
  }
 },
 "nbformat": 4,
 "nbformat_minor": 1
}
