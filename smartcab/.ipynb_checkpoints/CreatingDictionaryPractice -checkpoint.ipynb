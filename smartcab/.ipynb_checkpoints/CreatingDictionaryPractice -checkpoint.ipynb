{
 "cells": [
  {
   "cell_type": "markdown",
   "metadata": {},
   "source": [
    "https://developmentality.wordpress.com/2012/03/30/three-ways-of-creating-dictionaries-in-python/"
   ]
  },
  {
   "cell_type": "markdown",
   "metadata": {},
   "source": [
    "# Literals"
   ]
  },
  {
   "cell_type": "code",
   "execution_count": 9,
   "metadata": {
    "collapsed": false
   },
   "outputs": [
    {
     "data": {
      "text/plain": [
       "{'age': 25}"
      ]
     },
     "execution_count": 9,
     "metadata": {},
     "output_type": "execute_result"
    }
   ],
   "source": [
    "d={\"age\":25}\n",
    "d"
   ]
  },
  {
   "cell_type": "code",
   "execution_count": 10,
   "metadata": {
    "collapsed": false
   },
   "outputs": [
    {
     "data": {
      "text/plain": [
       "{'age': 25}"
      ]
     },
     "execution_count": 10,
     "metadata": {},
     "output_type": "execute_result"
    }
   ],
   "source": [
    "#As dictionaries are mutable, you need not know all the entries in advance:\n",
    "\n",
    "c={}\n",
    "c[\"age\"]=25\n",
    "c"
   ]
  },
  {
   "cell_type": "markdown",
   "metadata": {},
   "source": [
    "# From a list of tuples"
   ]
  },
  {
   "cell_type": "code",
   "execution_count": 11,
   "metadata": {
    "collapsed": false
   },
   "outputs": [
    {
     "data": {
      "text/plain": [
       "{'age': 25}"
      ]
     },
     "execution_count": 11,
     "metadata": {},
     "output_type": "execute_result"
    }
   ],
   "source": [
    "a=dict([(\"age\",25)])\n",
    "a"
   ]
  },
  {
   "cell_type": "code",
   "execution_count": 17,
   "metadata": {
    "collapsed": false
   },
   "outputs": [
    {
     "name": "stdout",
     "output_type": "stream",
     "text": [
      "[<__main__.Person object at 0x104613990>, <__main__.Person object at 0x104613c90>]\n",
      "{'Nick': 'Programmer', 'Alice': 'Engineer'}\n"
     ]
    }
   ],
   "source": [
    "#most useful in the context of a list comprehension:\n",
    "class Person(object):\n",
    "    def __init__(self, name, profession):\n",
    "        self.name = name\n",
    "        self.profession = profession\n",
    " \n",
    "people = [Person(\"Nick\", \"Programmer\"), Person(\"Alice\",\"Engineer\")]\n",
    "print people\n",
    "professions = dict([ (p.name, p.profession) for p in people ])\n",
    "print professions"
   ]
  },
  {
   "cell_type": "code",
   "execution_count": 19,
   "metadata": {
    "collapsed": false
   },
   "outputs": [
    {
     "name": "stdout",
     "output_type": "stream",
     "text": [
      "{'Nick': 'Programmer', 'Alice': 'Engineer'}\n"
     ]
    }
   ],
   "source": [
    "#equivalent, though a bit shorter,\n",
    "#This form of creating a dictionary is good for \n",
    "#when you have a dynamic rather than static list of elements.\n",
    "people = [Person(\"Nick\", \"Programmer\"), Person(\"Alice\",\"Engineer\")]\n",
    "professions = {}\n",
    "for p in people:\n",
    "    professions[p.name] = p.profession\n",
    "\n",
    "print professions"
   ]
  },
  {
   "cell_type": "markdown",
   "metadata": {},
   "source": [
    "# From two parallel lists\n",
    "This method of constructing a dictionary is intimately related to the prior example. Say you have two lists of elements, perhaps pulled from a database table:"
   ]
  },
  {
   "cell_type": "code",
   "execution_count": 20,
   "metadata": {
    "collapsed": true
   },
   "outputs": [],
   "source": [
    "# Static lists for purpose of illustration\n",
    "names = [\"Nick\", \"Alice\", \"Kitty\"]\n",
    "professions = [\"Programmer\", \"Engineer\", \"Art Therapist\"]"
   ]
  },
  {
   "cell_type": "code",
   "execution_count": 22,
   "metadata": {
    "collapsed": false
   },
   "outputs": [
    {
     "name": "stdout",
     "output_type": "stream",
     "text": [
      "{'Nick': 'Programmer', 'Kitty': 'Art Therapist', 'Alice': 'Engineer'}\n"
     ]
    }
   ],
   "source": [
    "#This is not ideal, however, as it involves an explicit iterator, \n",
    "#and is starting to look like Java. The more Pythonic way to handle \n",
    "#this case would be to use the zip method, which combines two iterables:\n",
    "\n",
    "\n",
    "#This is more java way\n",
    "professions_dict_java = {}\n",
    "for i in range(len(names)):\n",
    "    professions_dict_java[names[i]] = professions[i]\n",
    "\n",
    "print professions_dict_java"
   ]
  },
  {
   "cell_type": "code",
   "execution_count": 29,
   "metadata": {
    "collapsed": false
   },
   "outputs": [
    {
     "name": "stdout",
     "output_type": "stream",
     "text": [
      "[0, 1, 2, 3, 4]\n",
      "[(0, 'a'), (1, 'b'), (2, 'c'), (3, 'd'), (4, 'e')]\n",
      "<type 'list'>\n",
      "[('Nick', 'Programmer'), ('Alice', 'Engineer'), ('Kitty', 'Art Therapist')]\n",
      "{'Nick': 'Programmer', 'Kitty': 'Art Therapist', 'Alice': 'Engineer'}\n"
     ]
    }
   ],
   "source": [
    "#This is more pythonic way \n",
    "#step1:make a list of pair.\n",
    "print range(5)\n",
    "print zip(range(5), [\"a\",\"b\",\"c\",\"d\",\"e\"])\n",
    "names_and_professions_python = zip(names, professions)\n",
    "print type(names_and_professions_python)\n",
    "print names_and_professions_python\n",
    "\n",
    "#step2:make a dictionary with the list of pair.\n",
    "professions_dict_python={}\n",
    "for name, profession in names_and_professions_python:\n",
    "    professions_dict_python[name] = profession\n",
    "\n",
    "print professions_dict_python"
   ]
  },
  {
   "cell_type": "markdown",
   "metadata": {},
   "source": [
    "# State:city dictionary\n",
    "\n",
    "https://learnpythonthehardway.org/book/ex39.html"
   ]
  },
  {
   "cell_type": "code",
   "execution_count": 31,
   "metadata": {
    "collapsed": false
   },
   "outputs": [
    {
     "name": "stdout",
     "output_type": "stream",
     "text": [
      "----------\n",
      "NY State has:  New York\n",
      "OR State has:  Portland\n",
      "----------\n",
      "Michigan's abbreviation is:  MI\n",
      "Florida's abbreviation is:  FL\n",
      "----------\n",
      "Michigan has:  Detroit\n",
      "Florida has:  Jacksonville\n",
      "----------\n",
      "California is abbreviated CA\n",
      "Michigan is abbreviated MI\n",
      "New York is abbreviated NY\n",
      "Florida is abbreviated FL\n",
      "Oregon is abbreviated OR\n",
      "----------\n",
      "FL has the city Jacksonville\n",
      "CA has the city San Francisco\n",
      "MI has the city Detroit\n",
      "OR has the city Portland\n",
      "NY has the city New York\n",
      "----------\n",
      "California state is abbreviated CA and has city San Francisco\n",
      "Michigan state is abbreviated MI and has city Detroit\n",
      "New York state is abbreviated NY and has city New York\n",
      "Florida state is abbreviated FL and has city Jacksonville\n",
      "Oregon state is abbreviated OR and has city Portland\n",
      "----------\n",
      "Sorry, no Texas.\n",
      "The city for the state 'TX' is: Does Not Exist\n"
     ]
    }
   ],
   "source": [
    "#create a mapping of state to abbreviation\n",
    "states = {\n",
    "    'Oregon': 'OR',\n",
    "    'Florida': 'FL',\n",
    "    'California': 'CA',\n",
    "    'New York': 'NY',\n",
    "    'Michigan': 'MI'\n",
    "}\n",
    "\n",
    "# create a basic set of states and some cities in them\n",
    "cities = {\n",
    "    'CA': 'San Francisco',\n",
    "    'MI': 'Detroit',\n",
    "    'FL': 'Jacksonville'\n",
    "}\n",
    "\n",
    "# add some more cities\n",
    "cities['NY'] = 'New York'\n",
    "cities['OR'] = 'Portland'\n",
    "\n",
    "# print out some cities\n",
    "print '-' * 10\n",
    "print \"NY State has: \", cities['NY']\n",
    "print \"OR State has: \", cities['OR']\n",
    "\n",
    "# print some states\n",
    "print '-' * 10\n",
    "print \"Michigan's abbreviation is: \", states['Michigan']\n",
    "print \"Florida's abbreviation is: \", states['Florida']\n",
    "\n",
    "# do it by using the state then cities dict\n",
    "print '-' * 10\n",
    "print \"Michigan has: \", cities[states['Michigan']]\n",
    "print \"Florida has: \", cities[states['Florida']]\n",
    "\n",
    "# print every state abbreviation\n",
    "print '-' * 10\n",
    "for state, abbrev in states.items():\n",
    "    print \"%s is abbreviated %s\" % (state, abbrev)\n",
    "\n",
    "# print every city in state\n",
    "print '-' * 10\n",
    "for abbrev, city in cities.items():\n",
    "    print \"%s has the city %s\" % (abbrev, city)\n",
    "\n",
    "# now do both at the same time\n",
    "print '-' * 10\n",
    "for state, abbrev in states.items():\n",
    "    print \"%s state is abbreviated %s and has city %s\" % (\n",
    "        state, abbrev, cities[abbrev])\n",
    "\n",
    "print '-' * 10\n",
    "# safely get a abbreviation by state that might not be there\n",
    "state = states.get('Texas')\n",
    "\n",
    "if not state:\n",
    "    print \"Sorry, no Texas.\"\n",
    "\n",
    "# get a city with a default value\n",
    "city = cities.get('TX', 'Does Not Exist')\n",
    "print \"The city for the state 'TX' is: %s\" % city"
   ]
  },
  {
   "cell_type": "markdown",
   "metadata": {},
   "source": [
    "# Nested Dictionary\n",
    "http://stackoverflow.com/questions/16333296/how-do-you-create-nested-dict-in-python"
   ]
  },
  {
   "cell_type": "code",
   "execution_count": 33,
   "metadata": {
    "collapsed": false
   },
   "outputs": [
    {
     "name": "stdout",
     "output_type": "stream",
     "text": [
      "{'dict1': {'innerkey': 0.0}}\n"
     ]
    }
   ],
   "source": [
    "#Method 1\n",
    "lu={}\n",
    "lu['dict1']={}\n",
    "lu['dict1']['innerkey']=0.0\n",
    "print lu"
   ]
  },
  {
   "cell_type": "code",
   "execution_count": 35,
   "metadata": {
    "collapsed": false
   },
   "outputs": [
    {
     "name": "stdout",
     "output_type": "stream",
     "text": [
      "defaultdict(<type 'dict'>, {'dict1': {'innerkey': 1.1}})\n"
     ]
    }
   ],
   "source": [
    "#Method2\n",
    "import collections\n",
    "lu2=collections.defaultdict(dict)\n",
    "lu2['dict1']['innerkey']=1.1\n",
    "print lu2"
   ]
  },
  {
   "cell_type": "code",
   "execution_count": 36,
   "metadata": {
    "collapsed": false
   },
   "outputs": [
    {
     "data": {
      "text/plain": [
       "{'dict1': {'innerkey': 1.1}}"
      ]
     },
     "execution_count": 36,
     "metadata": {},
     "output_type": "execute_result"
    }
   ],
   "source": [
    "dict(lu2)"
   ]
  },
  {
   "cell_type": "code",
   "execution_count": 37,
   "metadata": {
    "collapsed": false
   },
   "outputs": [
    {
     "ename": "NameError",
     "evalue": "name 'defaultdict' is not defined",
     "output_type": "error",
     "traceback": [
      "\u001b[0;31m---------------------------------------------------------------------------\u001b[0m",
      "\u001b[0;31mNameError\u001b[0m                                 Traceback (most recent call last)",
      "\u001b[0;32m<ipython-input-37-d83e817f29fc>\u001b[0m in \u001b[0;36m<module>\u001b[0;34m()\u001b[0m\n\u001b[1;32m      1\u001b[0m \u001b[0;31m#how to populate\u001b[0m\u001b[0;34m\u001b[0m\u001b[0;34m\u001b[0m\u001b[0m\n\u001b[1;32m      2\u001b[0m \u001b[0;34m\u001b[0m\u001b[0m\n\u001b[0;32m----> 3\u001b[0;31m \u001b[0md\u001b[0m\u001b[0;34m=\u001b[0m\u001b[0mdefaultdict\u001b[0m\u001b[0;34m(\u001b[0m\u001b[0mdict\u001b[0m\u001b[0;34m)\u001b[0m\u001b[0;34m\u001b[0m\u001b[0m\n\u001b[0m\u001b[1;32m      4\u001b[0m \u001b[0;32mfor\u001b[0m \u001b[0mrow\u001b[0m \u001b[0;32min\u001b[0m \u001b[0mfilemap\u001b[0m\u001b[0;34m:\u001b[0m\u001b[0;34m\u001b[0m\u001b[0m\n\u001b[1;32m      5\u001b[0m     \u001b[0md\u001b[0m\u001b[0;34m[\u001b[0m\u001b[0mrow_key\u001b[0m\u001b[0;34m]\u001b[0m\u001b[0;34m=\u001b[0m\u001b[0;34m{\u001b[0m\u001b[0;34m}\u001b[0m\u001b[0;34m\u001b[0m\u001b[0m\n",
      "\u001b[0;31mNameError\u001b[0m: name 'defaultdict' is not defined"
     ]
    }
   ],
   "source": [
    "#how to populate\n",
    "\n",
    "d=defaultdict(dict)\n",
    "for row in filemap:\n",
    "    d[row_key]={}\n",
    "    for idx,col in enumerate(row):\n",
    "        d[row_key][idx]=col\n",
    "        "
   ]
  },
  {
   "cell_type": "code",
   "execution_count": 40,
   "metadata": {
    "collapsed": false
   },
   "outputs": [
    {
     "name": "stdout",
     "output_type": "stream",
     "text": [
      "Portland\n",
      "OR\n"
     ]
    }
   ],
   "source": [
    "print cities['OR'] \n",
    "print states['Oregon'] \n",
    "#{'Oregon':{'OR':'Portland'}}"
   ]
  },
  {
   "cell_type": "code",
   "execution_count": 41,
   "metadata": {
    "collapsed": false
   },
   "outputs": [
    {
     "name": "stdout",
     "output_type": "stream",
     "text": [
      "{'Oregon': {'OR': 'Portland'}}\n"
     ]
    }
   ],
   "source": [
    "lut={}\n",
    "lut['Oregon']={}\n",
    "lut['Oregon']['OR']='Portland'\n",
    "print lut\n"
   ]
  },
  {
   "cell_type": "code",
   "execution_count": 43,
   "metadata": {
    "collapsed": false
   },
   "outputs": [
    {
     "name": "stdout",
     "output_type": "stream",
     "text": [
      "{'Oregon': {'OR': 'Portland'}}\n"
     ]
    }
   ],
   "source": [
    "lut_expand={}\n",
    "key='Oregon'\n",
    "lut_expand[key]={}\n",
    "lut_expand[key][states[key]]='Portland'\n",
    "print lut_expand"
   ]
  },
  {
   "cell_type": "code",
   "execution_count": 53,
   "metadata": {
    "collapsed": false
   },
   "outputs": [
    {
     "name": "stdout",
     "output_type": "stream",
     "text": [
      "{'Florida': {'FL': 'Jacksonville'}, 'Michigan': {'MI': 'Detroit'}, 'New York': {'NY': 'New York'}, 'California': {'CA': 'San Francisco'}, 'Oregon': {'OR': 'Portland'}}\n"
     ]
    }
   ],
   "source": [
    "lut_expand2={}\n",
    "for state in states:\n",
    "    \n",
    "    lut_expand2[state]={}\n",
    "    #print \"states[state]:\",states[state]\n",
    "    #print \"cities[states[state]]:\", cities[states[state]]\n",
    "    lut_expand2[state][states[state]]=cities[states[state]]\n",
    "    \n",
    "print lut_expand2"
   ]
  },
  {
   "cell_type": "markdown",
   "metadata": {},
   "source": [
    "# Find the city that has max value\n"
   ]
  },
  {
   "cell_type": "code",
   "execution_count": 56,
   "metadata": {
    "collapsed": true
   },
   "outputs": [],
   "source": [
    "#create a mapping of state to abbreviation\n",
    "states = {\n",
    "    'Oregon': 'OR',\n",
    "    'Florida': 'FL',\n",
    "    'California': 'CA',\n",
    "    'New York': 'NY',\n",
    "    'Michigan': 'MI'\n",
    "}\n",
    "\n",
    "# create a basic set of states and some cities in them\n",
    "taxes = {\n",
    "    'CA': 500,\n",
    "    'MI': 300,\n",
    "    'FL': 200,\n",
    "    'OR': 100,\n",
    "    'NY': 40\n",
    "}\n"
   ]
  },
  {
   "cell_type": "code",
   "execution_count": 57,
   "metadata": {
    "collapsed": false
   },
   "outputs": [
    {
     "name": "stdout",
     "output_type": "stream",
     "text": [
      "{'Florida': {'FL': 200}, 'Michigan': {'MI': 300}, 'New York': {'NY': 40}, 'California': {'CA': 500}, 'Oregon': {'OR': 100}}\n"
     ]
    }
   ],
   "source": [
    "lut_expand3={}\n",
    "for state in states:\n",
    "    \n",
    "    lut_expand3[state]={}\n",
    "    lut_expand3[state][states[state]]=taxes[states[state]]\n",
    "    \n",
    "print lut_expand3"
   ]
  },
  {
   "cell_type": "code",
   "execution_count": 72,
   "metadata": {
    "collapsed": false
   },
   "outputs": [
    {
     "name": "stdout",
     "output_type": "stream",
     "text": [
      "lut_expand3.items()--- [('Florida', {'FL': 200}), ('Michigan', {'MI': 300}), ('New York', {'NY': 40}), ('California', {'CA': 500}), ('Oregon', {'OR': 100})]\n",
      "----------\n",
      "CA\n"
     ]
    }
   ],
   "source": [
    "print \"lut_expand3.items()---\",lut_expand3.items()\n",
    "print \"-\"*10\n",
    "print max(taxes.iteritems(), key=operator.itemgetter(1))[0]"
   ]
  },
  {
   "cell_type": "markdown",
   "metadata": {},
   "source": [
    "q_values_for_state = [self.q_table[(self.state, a)] for a in self.env.valid_actions]  \n",
    "argmax_function = lambda array: max(izip(array, xrange(len(array))))[1]  \n",
    "best_action_idx = argmax_function(q_values_for_state)  \n",
    "action = self.env.valid_actions[best_action_idx]\n",
    "\n",
    "OR\n",
    "\n",
    "\n",
    "action=argmax(self.Q[self.state].iteritems(), key=operator.itemgetter(1))[0]\n"
   ]
  },
  {
   "cell_type": "code",
   "execution_count": 84,
   "metadata": {
    "collapsed": false
   },
   "outputs": [
    {
     "name": "stdout",
     "output_type": "stream",
     "text": [
      " b\n",
      "c\n",
      "maxidx-- b\n",
      "maxval-- 3000\n"
     ]
    }
   ],
   "source": [
    "#argmax method 1\n",
    "import operator\n",
    "stats = {'a':1000, 'b':3000, 'c': 100}\n",
    "print max(stats.iteritems(), key=operator.itemgetter(1))[0]\n",
    "print max(stats, key=lambda i: [i])\n",
    "maxidx=max(stats, key=stats.get)\n",
    "print \"maxidx--\", maxidx\n",
    "print \"maxval--\", stats[maxidx]"
   ]
  },
  {
   "cell_type": "code",
   "execution_count": 69,
   "metadata": {
    "collapsed": false
   },
   "outputs": [
    {
     "ename": "NameError",
     "evalue": "name 'argmax' is not defined",
     "output_type": "error",
     "traceback": [
      "\u001b[0;31m---------------------------------------------------------------------------\u001b[0m",
      "\u001b[0;31mNameError\u001b[0m                                 Traceback (most recent call last)",
      "\u001b[0;32m<ipython-input-69-a9f378a2e191>\u001b[0m in \u001b[0;36m<module>\u001b[0;34m()\u001b[0m\n\u001b[1;32m      1\u001b[0m \u001b[0;31m#value_for_state=lut_expand3[(state,v)] for v\u001b[0m\u001b[0;34m\u001b[0m\u001b[0;34m\u001b[0m\u001b[0m\n\u001b[1;32m      2\u001b[0m \u001b[0;32mimport\u001b[0m \u001b[0mcollections\u001b[0m\u001b[0;34m\u001b[0m\u001b[0m\n\u001b[0;32m----> 3\u001b[0;31m \u001b[0;32mprint\u001b[0m \u001b[0margmax\u001b[0m\u001b[0;34m(\u001b[0m\u001b[0mtaxes\u001b[0m\u001b[0;34m.\u001b[0m\u001b[0miteritems\u001b[0m\u001b[0;34m(\u001b[0m\u001b[0;34m)\u001b[0m\u001b[0;34m,\u001b[0m \u001b[0mkey\u001b[0m\u001b[0;34m=\u001b[0m\u001b[0moperator\u001b[0m\u001b[0;34m.\u001b[0m\u001b[0mitemgetter\u001b[0m\u001b[0;34m(\u001b[0m\u001b[0;36m1\u001b[0m\u001b[0;34m)\u001b[0m\u001b[0;34m)\u001b[0m\u001b[0;34m[\u001b[0m\u001b[0;36m0\u001b[0m\u001b[0;34m]\u001b[0m\u001b[0;34m\u001b[0m\u001b[0m\n\u001b[0m",
      "\u001b[0;31mNameError\u001b[0m: name 'argmax' is not defined"
     ]
    }
   ],
   "source": [
    "#value_for_state=lut_expand3[(state,v)] for v \n"
   ]
  },
  {
   "cell_type": "code",
   "execution_count": 63,
   "metadata": {
    "collapsed": false
   },
   "outputs": [
    {
     "name": "stdout",
     "output_type": "stream",
     "text": [
      "{'foo': {'baz': {}, 'bar': {}}, 'primary': {'secondary': {'tertiary': {'quaternary': {}}}}, 'fizz': {'buzz': {}}}\n",
      "----------\n",
      "{'fizz': {'buzz': {}},\n",
      " 'foo': {'bar': {}, 'baz': {}},\n",
      " 'primary': {'secondary': {'tertiary': {'quaternary': {}}}}}\n"
     ]
    }
   ],
   "source": [
    "#pprint and nexted dictionary practice\n",
    "\n",
    "import pprint\n",
    "\n",
    "class Vividict(dict):\n",
    "    def __missing__(self, key):\n",
    "        value = self[key] = type(self)()\n",
    "        return value\n",
    "\n",
    "d = Vividict()\n",
    "\n",
    "d['foo']['bar']\n",
    "d['foo']['baz']\n",
    "d['fizz']['buzz']\n",
    "d['primary']['secondary']['tertiary']['quaternary']\n",
    "print d\n",
    "print \"-\"*10\n",
    "pprint.pprint(d)"
   ]
  },
  {
   "cell_type": "markdown",
   "metadata": {},
   "source": [
    "# How self.Q dict look like:\n",
    "\n",
    "        self.Q:---------\n",
    "{\n",
    "('left', 'red', 'forward'): {'forward': 0.0, 'None': 0.0, 'right': 0.0, 'left': 0.0},\n",
    "('left', 'red', 'right'): {'forward': 0.0, 'None': 0.0, 'right': 0.0, 'left': 0.0},\n",
    "('forward', 'red', None): {'forward': 0.0, 'None': 0.0, 'right': 0.0, 'left': 0.0},\n",
    "('left', 'green', 'forward'): {'forward': 0.0, 'None': 0.0, 'right': 0.0, 'left': 0.0},\n",
    "('forward', 'green', 'right'): {'forward': 0.0, 'None': 0.0, 'right': 0.0, 'left': 0.0},\n",
    "('left', 'green', None): {'forward': 0.0, 'None': 0.0, 'right': 0.0, 'left': 0.0},\n",
    "('right', 'green', None): {'forward': 0.0, 'None': 0.0, 'right': 0.0, 'left': 0.0},\n",
    "('forward', 'green', None): {'forward': 0.0, 'None': 0.0, 'right': 0.0, 'left': 0.0},\n",
    "('left', 'red', None): {'forward': 0.0, 'None': 0.0, 'right': 0.0, 'left': 0.0},\n",
    "('forward', 'green', 'left'): {'forward': 0.0, 'None': 0.0, 'right': 0.0, 'left': 0.0},\n",
    "('right', 'red', None): {'forward': 0.0, 'None': 0.0, 'right': 0.0, 'left': 0.0}\n",
    "}\n"
   ]
  },
  {
   "cell_type": "code",
   "execution_count": null,
   "metadata": {
    "collapsed": true
   },
   "outputs": [],
   "source": []
  },
  {
   "cell_type": "markdown",
   "metadata": {},
   "source": [
    "# How previous step_data or previous data look like:\n",
    "\n",
    "self.step_data--------- \n",
    "\n",
    "{'inputs': \n",
    "    {'light': 'green', 'oncoming': None, 'right': None, 'left': None}, \n",
    "'violation': 0, \n",
    "'light': 'green', \n",
    "'state': ('left', 'green', None), \n",
    "'deadline': 13, \n",
    "'t': 12, \n",
    "'action': 'forward', \n",
    "'reward': 0.03852040557666747, \n",
    "'waypoint': 'left'\n",
    "}\n",
    "\n",
    "\n",
    "Agent previous state: ----------\n",
    "('left', 'green', None)\n",
    "\n",
    "# Previous State\n",
    "status = self.env.step_data\n",
    " \n",
    "if status['state']:\n",
    "   self.screen.blit(self.font.render(\"Previous State: {}\".format(status['state']), True, self.colors['white'], self.bg_color), (350, 10))\n",
    "        \n"
   ]
  },
  {
   "cell_type": "code",
   "execution_count": 16,
   "metadata": {
    "collapsed": false
   },
   "outputs": [
    {
     "name": "stdout",
     "output_type": "stream",
     "text": [
      "Invalid action is ---- None [None, 'forward', 'left', 'right']\n",
      "type(action)--- <type 'str'>\n"
     ]
    },
    {
     "ename": "AssertionError",
     "evalue": "Invalid action!",
     "output_type": "error",
     "traceback": [
      "\u001b[0;31m---------------------------------------------------------------------------\u001b[0m",
      "\u001b[0;31mAssertionError\u001b[0m                            Traceback (most recent call last)",
      "\u001b[0;32m<ipython-input-16-f7697f8b0106>\u001b[0m in \u001b[0;36m<module>\u001b[0;34m()\u001b[0m\n\u001b[1;32m      3\u001b[0m \u001b[0;32mprint\u001b[0m \u001b[0;34m\"Invalid action is ----\"\u001b[0m\u001b[0;34m,\u001b[0m \u001b[0maction\u001b[0m\u001b[0;34m,\u001b[0m \u001b[0mvalid_actions\u001b[0m\u001b[0;34m\u001b[0m\u001b[0m\n\u001b[1;32m      4\u001b[0m \u001b[0;32mprint\u001b[0m \u001b[0;34m\"type(action)---\"\u001b[0m\u001b[0;34m,\u001b[0m \u001b[0mtype\u001b[0m\u001b[0;34m(\u001b[0m\u001b[0maction\u001b[0m\u001b[0;34m)\u001b[0m\u001b[0;34m\u001b[0m\u001b[0m\n\u001b[0;32m----> 5\u001b[0;31m \u001b[0;32massert\u001b[0m \u001b[0maction\u001b[0m \u001b[0;32min\u001b[0m \u001b[0mvalid_actions\u001b[0m\u001b[0;34m,\u001b[0m \u001b[0;34m\"Invalid action!\"\u001b[0m\u001b[0;34m\u001b[0m\u001b[0m\n\u001b[0m",
      "\u001b[0;31mAssertionError\u001b[0m: Invalid action!"
     ]
    }
   ],
   "source": [
    "valid_actions = [None, 'forward', 'left', 'right']\n",
    "action='None'\n",
    "print \"Invalid action is ----\", action, valid_actions\n",
    "print \"type(action)---\", type(action)\n",
    "assert action in valid_actions, \"Invalid action!\""
   ]
  },
  {
   "cell_type": "markdown",
   "metadata": {
    "collapsed": true
   },
   "source": [
    "# Plot alpha, epsilon, tolerrance in decay function"
   ]
  },
  {
   "cell_type": "code",
   "execution_count": 6,
   "metadata": {
    "collapsed": false
   },
   "outputs": [],
   "source": [
    "import math \n",
    "import pandas as pd\n",
    "import pylab as pl\n",
    "from IPython.display import display\n",
    "%matplotlib inline\n",
    "data=pd.read_csv('/Users/parksoy/Desktop/GoogleDrive_Soyoung/Udacity_nanoDegree_MachineLearning/smartcab/logs/sim_improved-learning.csv')"
   ]
  },
  {
   "cell_type": "code",
   "execution_count": 4,
   "metadata": {
    "collapsed": false
   },
   "outputs": [
    {
     "data": {
      "text/html": [
       "<div>\n",
       "<table border=\"1\" class=\"dataframe\">\n",
       "  <thead>\n",
       "    <tr style=\"text-align: right;\">\n",
       "      <th></th>\n",
       "      <th>trial</th>\n",
       "      <th>testing</th>\n",
       "      <th>parameters</th>\n",
       "      <th>initial_deadline</th>\n",
       "      <th>final_deadline</th>\n",
       "      <th>net_reward</th>\n",
       "      <th>actions</th>\n",
       "      <th>success</th>\n",
       "    </tr>\n",
       "  </thead>\n",
       "  <tbody>\n",
       "    <tr>\n",
       "      <th>0</th>\n",
       "      <td>1</td>\n",
       "      <td>False</td>\n",
       "      <td>{'a': 0.5, 'e': 0.95}</td>\n",
       "      <td>25</td>\n",
       "      <td>15</td>\n",
       "      <td>-17.169860</td>\n",
       "      <td>{0: 7, 1: 0, 2: 3, 3: 0, 4: 0}</td>\n",
       "      <td>1</td>\n",
       "    </tr>\n",
       "    <tr>\n",
       "      <th>1</th>\n",
       "      <td>2</td>\n",
       "      <td>False</td>\n",
       "      <td>{'a': 0.5, 'e': 0.8999999999999999}</td>\n",
       "      <td>20</td>\n",
       "      <td>15</td>\n",
       "      <td>-4.062665</td>\n",
       "      <td>{0: 4, 1: 0, 2: 1, 3: 0, 4: 0}</td>\n",
       "      <td>1</td>\n",
       "    </tr>\n",
       "    <tr>\n",
       "      <th>2</th>\n",
       "      <td>3</td>\n",
       "      <td>False</td>\n",
       "      <td>{'a': 0.5, 'e': 0.8499999999999999}</td>\n",
       "      <td>20</td>\n",
       "      <td>0</td>\n",
       "      <td>-2.092106</td>\n",
       "      <td>{0: 18, 1: 0, 2: 2, 3: 0, 4: 0}</td>\n",
       "      <td>0</td>\n",
       "    </tr>\n",
       "    <tr>\n",
       "      <th>3</th>\n",
       "      <td>4</td>\n",
       "      <td>False</td>\n",
       "      <td>{'a': 0.5, 'e': 0.7999999999999998}</td>\n",
       "      <td>20</td>\n",
       "      <td>0</td>\n",
       "      <td>0.818567</td>\n",
       "      <td>{0: 18, 1: 0, 2: 2, 3: 0, 4: 0}</td>\n",
       "      <td>0</td>\n",
       "    </tr>\n",
       "    <tr>\n",
       "      <th>4</th>\n",
       "      <td>5</td>\n",
       "      <td>False</td>\n",
       "      <td>{'a': 0.5, 'e': 0.7499999999999998}</td>\n",
       "      <td>20</td>\n",
       "      <td>0</td>\n",
       "      <td>13.403852</td>\n",
       "      <td>{0: 19, 1: 0, 2: 1, 3: 0, 4: 0}</td>\n",
       "      <td>0</td>\n",
       "    </tr>\n",
       "    <tr>\n",
       "      <th>5</th>\n",
       "      <td>6</td>\n",
       "      <td>False</td>\n",
       "      <td>{'a': 0.5, 'e': 0.6999999999999997}</td>\n",
       "      <td>20</td>\n",
       "      <td>10</td>\n",
       "      <td>20.765279</td>\n",
       "      <td>{0: 10, 1: 0, 2: 0, 3: 0, 4: 0}</td>\n",
       "      <td>1</td>\n",
       "    </tr>\n",
       "    <tr>\n",
       "      <th>6</th>\n",
       "      <td>7</td>\n",
       "      <td>False</td>\n",
       "      <td>{'a': 0.5, 'e': 0.6499999999999997}</td>\n",
       "      <td>30</td>\n",
       "      <td>9</td>\n",
       "      <td>9.377262</td>\n",
       "      <td>{0: 20, 1: 0, 2: 1, 3: 0, 4: 0}</td>\n",
       "      <td>1</td>\n",
       "    </tr>\n",
       "    <tr>\n",
       "      <th>7</th>\n",
       "      <td>8</td>\n",
       "      <td>False</td>\n",
       "      <td>{'a': 0.5, 'e': 0.5999999999999996}</td>\n",
       "      <td>20</td>\n",
       "      <td>0</td>\n",
       "      <td>8.765188</td>\n",
       "      <td>{0: 19, 1: 0, 2: 1, 3: 0, 4: 0}</td>\n",
       "      <td>1</td>\n",
       "    </tr>\n",
       "    <tr>\n",
       "      <th>8</th>\n",
       "      <td>9</td>\n",
       "      <td>False</td>\n",
       "      <td>{'a': 0.5, 'e': 0.5499999999999996}</td>\n",
       "      <td>35</td>\n",
       "      <td>7</td>\n",
       "      <td>30.825893</td>\n",
       "      <td>{0: 27, 1: 0, 2: 1, 3: 0, 4: 0}</td>\n",
       "      <td>1</td>\n",
       "    </tr>\n",
       "    <tr>\n",
       "      <th>9</th>\n",
       "      <td>10</td>\n",
       "      <td>False</td>\n",
       "      <td>{'a': 0.5, 'e': 0.4999999999999996}</td>\n",
       "      <td>25</td>\n",
       "      <td>0</td>\n",
       "      <td>29.003486</td>\n",
       "      <td>{0: 25, 1: 0, 2: 0, 3: 0, 4: 0}</td>\n",
       "      <td>0</td>\n",
       "    </tr>\n",
       "    <tr>\n",
       "      <th>10</th>\n",
       "      <td>11</td>\n",
       "      <td>False</td>\n",
       "      <td>{'a': 0.5, 'e': 0.4499999999999996}</td>\n",
       "      <td>30</td>\n",
       "      <td>19</td>\n",
       "      <td>20.312136</td>\n",
       "      <td>{0: 11, 1: 0, 2: 0, 3: 0, 4: 0}</td>\n",
       "      <td>1</td>\n",
       "    </tr>\n",
       "    <tr>\n",
       "      <th>11</th>\n",
       "      <td>12</td>\n",
       "      <td>False</td>\n",
       "      <td>{'a': 0.5, 'e': 0.39999999999999963}</td>\n",
       "      <td>20</td>\n",
       "      <td>10</td>\n",
       "      <td>13.309134</td>\n",
       "      <td>{0: 10, 1: 0, 2: 0, 3: 0, 4: 0}</td>\n",
       "      <td>1</td>\n",
       "    </tr>\n",
       "    <tr>\n",
       "      <th>12</th>\n",
       "      <td>13</td>\n",
       "      <td>False</td>\n",
       "      <td>{'a': 0.5, 'e': 0.34999999999999964}</td>\n",
       "      <td>25</td>\n",
       "      <td>0</td>\n",
       "      <td>18.213006</td>\n",
       "      <td>{0: 24, 1: 0, 2: 1, 3: 0, 4: 0}</td>\n",
       "      <td>0</td>\n",
       "    </tr>\n",
       "    <tr>\n",
       "      <th>13</th>\n",
       "      <td>14</td>\n",
       "      <td>False</td>\n",
       "      <td>{'a': 0.5, 'e': 0.29999999999999966}</td>\n",
       "      <td>20</td>\n",
       "      <td>0</td>\n",
       "      <td>13.489984</td>\n",
       "      <td>{0: 19, 1: 0, 2: 1, 3: 0, 4: 0}</td>\n",
       "      <td>0</td>\n",
       "    </tr>\n",
       "    <tr>\n",
       "      <th>14</th>\n",
       "      <td>15</td>\n",
       "      <td>False</td>\n",
       "      <td>{'a': 0.5, 'e': 0.24999999999999967}</td>\n",
       "      <td>20</td>\n",
       "      <td>11</td>\n",
       "      <td>3.412015</td>\n",
       "      <td>{0: 8, 1: 0, 2: 1, 3: 0, 4: 0}</td>\n",
       "      <td>1</td>\n",
       "    </tr>\n",
       "    <tr>\n",
       "      <th>15</th>\n",
       "      <td>16</td>\n",
       "      <td>False</td>\n",
       "      <td>{'a': 0.5, 'e': 0.19999999999999968}</td>\n",
       "      <td>30</td>\n",
       "      <td>23</td>\n",
       "      <td>9.123345</td>\n",
       "      <td>{0: 7, 1: 0, 2: 0, 3: 0, 4: 0}</td>\n",
       "      <td>1</td>\n",
       "    </tr>\n",
       "    <tr>\n",
       "      <th>16</th>\n",
       "      <td>17</td>\n",
       "      <td>False</td>\n",
       "      <td>{'a': 0.5, 'e': 0.1499999999999997}</td>\n",
       "      <td>20</td>\n",
       "      <td>8</td>\n",
       "      <td>5.802417</td>\n",
       "      <td>{0: 11, 1: 0, 2: 1, 3: 0, 4: 0}</td>\n",
       "      <td>1</td>\n",
       "    </tr>\n",
       "    <tr>\n",
       "      <th>17</th>\n",
       "      <td>18</td>\n",
       "      <td>False</td>\n",
       "      <td>{'a': 0.5, 'e': 0.09999999999999969}</td>\n",
       "      <td>20</td>\n",
       "      <td>0</td>\n",
       "      <td>29.240523</td>\n",
       "      <td>{0: 20, 1: 0, 2: 0, 3: 0, 4: 0}</td>\n",
       "      <td>0</td>\n",
       "    </tr>\n",
       "    <tr>\n",
       "      <th>18</th>\n",
       "      <td>19</td>\n",
       "      <td>False</td>\n",
       "      <td>{'a': 0.5, 'e': 0.049999999999999684}</td>\n",
       "      <td>20</td>\n",
       "      <td>12</td>\n",
       "      <td>12.978320</td>\n",
       "      <td>{0: 8, 1: 0, 2: 0, 3: 0, 4: 0}</td>\n",
       "      <td>1</td>\n",
       "    </tr>\n",
       "    <tr>\n",
       "      <th>19</th>\n",
       "      <td>20</td>\n",
       "      <td>False</td>\n",
       "      <td>{'a': 0.5, 'e': -3.191891195797325e-16}</td>\n",
       "      <td>20</td>\n",
       "      <td>11</td>\n",
       "      <td>17.833699</td>\n",
       "      <td>{0: 9, 1: 0, 2: 0, 3: 0, 4: 0}</td>\n",
       "      <td>1</td>\n",
       "    </tr>\n",
       "    <tr>\n",
       "      <th>20</th>\n",
       "      <td>1</td>\n",
       "      <td>True</td>\n",
       "      <td>{'a': 0, 'e': 0}</td>\n",
       "      <td>30</td>\n",
       "      <td>22</td>\n",
       "      <td>15.060970</td>\n",
       "      <td>{0: 8, 1: 0, 2: 0, 3: 0, 4: 0}</td>\n",
       "      <td>1</td>\n",
       "    </tr>\n",
       "    <tr>\n",
       "      <th>21</th>\n",
       "      <td>2</td>\n",
       "      <td>True</td>\n",
       "      <td>{'a': 0, 'e': 0}</td>\n",
       "      <td>25</td>\n",
       "      <td>15</td>\n",
       "      <td>16.968019</td>\n",
       "      <td>{0: 10, 1: 0, 2: 0, 3: 0, 4: 0}</td>\n",
       "      <td>1</td>\n",
       "    </tr>\n",
       "    <tr>\n",
       "      <th>22</th>\n",
       "      <td>3</td>\n",
       "      <td>True</td>\n",
       "      <td>{'a': 0, 'e': 0}</td>\n",
       "      <td>25</td>\n",
       "      <td>0</td>\n",
       "      <td>17.370422</td>\n",
       "      <td>{0: 24, 1: 0, 2: 1, 3: 0, 4: 0}</td>\n",
       "      <td>0</td>\n",
       "    </tr>\n",
       "    <tr>\n",
       "      <th>23</th>\n",
       "      <td>4</td>\n",
       "      <td>True</td>\n",
       "      <td>{'a': 0, 'e': 0}</td>\n",
       "      <td>30</td>\n",
       "      <td>0</td>\n",
       "      <td>-10.984472</td>\n",
       "      <td>{0: 28, 1: 0, 2: 1, 3: 0, 4: 1}</td>\n",
       "      <td>0</td>\n",
       "    </tr>\n",
       "    <tr>\n",
       "      <th>24</th>\n",
       "      <td>5</td>\n",
       "      <td>True</td>\n",
       "      <td>{'a': 0, 'e': 0}</td>\n",
       "      <td>20</td>\n",
       "      <td>6</td>\n",
       "      <td>-20.450508</td>\n",
       "      <td>{0: 13, 1: 0, 2: 0, 3: 0, 4: 1}</td>\n",
       "      <td>1</td>\n",
       "    </tr>\n",
       "  </tbody>\n",
       "</table>\n",
       "</div>"
      ],
      "text/plain": [
       "    trial testing                               parameters  initial_deadline  \\\n",
       "0       1   False                    {'a': 0.5, 'e': 0.95}                25   \n",
       "1       2   False      {'a': 0.5, 'e': 0.8999999999999999}                20   \n",
       "2       3   False      {'a': 0.5, 'e': 0.8499999999999999}                20   \n",
       "3       4   False      {'a': 0.5, 'e': 0.7999999999999998}                20   \n",
       "4       5   False      {'a': 0.5, 'e': 0.7499999999999998}                20   \n",
       "5       6   False      {'a': 0.5, 'e': 0.6999999999999997}                20   \n",
       "6       7   False      {'a': 0.5, 'e': 0.6499999999999997}                30   \n",
       "7       8   False      {'a': 0.5, 'e': 0.5999999999999996}                20   \n",
       "8       9   False      {'a': 0.5, 'e': 0.5499999999999996}                35   \n",
       "9      10   False      {'a': 0.5, 'e': 0.4999999999999996}                25   \n",
       "10     11   False      {'a': 0.5, 'e': 0.4499999999999996}                30   \n",
       "11     12   False     {'a': 0.5, 'e': 0.39999999999999963}                20   \n",
       "12     13   False     {'a': 0.5, 'e': 0.34999999999999964}                25   \n",
       "13     14   False     {'a': 0.5, 'e': 0.29999999999999966}                20   \n",
       "14     15   False     {'a': 0.5, 'e': 0.24999999999999967}                20   \n",
       "15     16   False     {'a': 0.5, 'e': 0.19999999999999968}                30   \n",
       "16     17   False      {'a': 0.5, 'e': 0.1499999999999997}                20   \n",
       "17     18   False     {'a': 0.5, 'e': 0.09999999999999969}                20   \n",
       "18     19   False    {'a': 0.5, 'e': 0.049999999999999684}                20   \n",
       "19     20   False  {'a': 0.5, 'e': -3.191891195797325e-16}                20   \n",
       "20      1    True                         {'a': 0, 'e': 0}                30   \n",
       "21      2    True                         {'a': 0, 'e': 0}                25   \n",
       "22      3    True                         {'a': 0, 'e': 0}                25   \n",
       "23      4    True                         {'a': 0, 'e': 0}                30   \n",
       "24      5    True                         {'a': 0, 'e': 0}                20   \n",
       "\n",
       "    final_deadline  net_reward                          actions  success  \n",
       "0               15  -17.169860   {0: 7, 1: 0, 2: 3, 3: 0, 4: 0}        1  \n",
       "1               15   -4.062665   {0: 4, 1: 0, 2: 1, 3: 0, 4: 0}        1  \n",
       "2                0   -2.092106  {0: 18, 1: 0, 2: 2, 3: 0, 4: 0}        0  \n",
       "3                0    0.818567  {0: 18, 1: 0, 2: 2, 3: 0, 4: 0}        0  \n",
       "4                0   13.403852  {0: 19, 1: 0, 2: 1, 3: 0, 4: 0}        0  \n",
       "5               10   20.765279  {0: 10, 1: 0, 2: 0, 3: 0, 4: 0}        1  \n",
       "6                9    9.377262  {0: 20, 1: 0, 2: 1, 3: 0, 4: 0}        1  \n",
       "7                0    8.765188  {0: 19, 1: 0, 2: 1, 3: 0, 4: 0}        1  \n",
       "8                7   30.825893  {0: 27, 1: 0, 2: 1, 3: 0, 4: 0}        1  \n",
       "9                0   29.003486  {0: 25, 1: 0, 2: 0, 3: 0, 4: 0}        0  \n",
       "10              19   20.312136  {0: 11, 1: 0, 2: 0, 3: 0, 4: 0}        1  \n",
       "11              10   13.309134  {0: 10, 1: 0, 2: 0, 3: 0, 4: 0}        1  \n",
       "12               0   18.213006  {0: 24, 1: 0, 2: 1, 3: 0, 4: 0}        0  \n",
       "13               0   13.489984  {0: 19, 1: 0, 2: 1, 3: 0, 4: 0}        0  \n",
       "14              11    3.412015   {0: 8, 1: 0, 2: 1, 3: 0, 4: 0}        1  \n",
       "15              23    9.123345   {0: 7, 1: 0, 2: 0, 3: 0, 4: 0}        1  \n",
       "16               8    5.802417  {0: 11, 1: 0, 2: 1, 3: 0, 4: 0}        1  \n",
       "17               0   29.240523  {0: 20, 1: 0, 2: 0, 3: 0, 4: 0}        0  \n",
       "18              12   12.978320   {0: 8, 1: 0, 2: 0, 3: 0, 4: 0}        1  \n",
       "19              11   17.833699   {0: 9, 1: 0, 2: 0, 3: 0, 4: 0}        1  \n",
       "20              22   15.060970   {0: 8, 1: 0, 2: 0, 3: 0, 4: 0}        1  \n",
       "21              15   16.968019  {0: 10, 1: 0, 2: 0, 3: 0, 4: 0}        1  \n",
       "22               0   17.370422  {0: 24, 1: 0, 2: 1, 3: 0, 4: 0}        0  \n",
       "23               0  -10.984472  {0: 28, 1: 0, 2: 1, 3: 0, 4: 1}        0  \n",
       "24               6  -20.450508  {0: 13, 1: 0, 2: 0, 3: 0, 4: 1}        1  "
      ]
     },
     "metadata": {},
     "output_type": "display_data"
    }
   ],
   "source": [
    "display(data)"
   ]
  },
  {
   "cell_type": "code",
   "execution_count": 79,
   "metadata": {
    "collapsed": false
   },
   "outputs": [
    {
     "name": "stdout",
     "output_type": "stream",
     "text": [
      "<class 'pandas.core.frame.DataFrame'>\n",
      "<class 'pandas.core.series.Series'>\n"
     ]
    }
   ],
   "source": [
    "print type(data)\n",
    "print type(data['parameters'])"
   ]
  },
  {
   "cell_type": "code",
   "execution_count": 54,
   "metadata": {
    "collapsed": false
   },
   "outputs": [
    {
     "data": {
      "text/plain": [
       "0                  {'a': 0.5, 'e': 0.95}\n",
       "1    {'a': 0.5, 'e': 0.8999999999999999}\n",
       "2    {'a': 0.5, 'e': 0.8499999999999999}\n",
       "Name: parameters, dtype: object"
      ]
     },
     "execution_count": 54,
     "metadata": {},
     "output_type": "execute_result"
    }
   ],
   "source": [
    "data['parameters'].head(3)"
   ]
  },
  {
   "cell_type": "code",
   "execution_count": 52,
   "metadata": {
    "collapsed": false
   },
   "outputs": [
    {
     "name": "stdout",
     "output_type": "stream",
     "text": [
      "<class 'pandas.core.series.Series'>\n"
     ]
    }
   ],
   "source": [
    "print type(data['trial'])"
   ]
  },
  {
   "cell_type": "code",
   "execution_count": 80,
   "metadata": {
    "collapsed": false
   },
   "outputs": [
    {
     "name": "stdout",
     "output_type": "stream",
     "text": [
      "<type 'dict'>\n",
      "0.95\n"
     ]
    }
   ],
   "source": [
    "a={'a': 0.5, 'e': 0.95} #key, value\n",
    "print type(a)\n",
    "print a['e']\n"
   ]
  },
  {
   "cell_type": "code",
   "execution_count": 61,
   "metadata": {
    "collapsed": false
   },
   "outputs": [
    {
     "name": "stdout",
     "output_type": "stream",
     "text": [
      "<type 'dict'>\n",
      "{0: \"{'a': 0.5, 'e': 0.95}\", 1: \"{'a': 0.5, 'e': 0.8999999999999999}\", 2: \"{'a': 0.5, 'e': 0.8499999999999999}\", 3: \"{'a': 0.5, 'e': 0.7999999999999998}\", 4: \"{'a': 0.5, 'e': 0.7499999999999998}\", 5: \"{'a': 0.5, 'e': 0.6999999999999997}\", 6: \"{'a': 0.5, 'e': 0.6499999999999997}\", 7: \"{'a': 0.5, 'e': 0.5999999999999996}\", 8: \"{'a': 0.5, 'e': 0.5499999999999996}\", 9: \"{'a': 0.5, 'e': 0.4999999999999996}\", 10: \"{'a': 0.5, 'e': 0.4499999999999996}\", 11: \"{'a': 0.5, 'e': 0.39999999999999963}\", 12: \"{'a': 0.5, 'e': 0.34999999999999964}\", 13: \"{'a': 0.5, 'e': 0.29999999999999966}\", 14: \"{'a': 0.5, 'e': 0.24999999999999967}\", 15: \"{'a': 0.5, 'e': 0.19999999999999968}\", 16: \"{'a': 0.5, 'e': 0.1499999999999997}\", 17: \"{'a': 0.5, 'e': 0.09999999999999969}\", 18: \"{'a': 0.5, 'e': 0.049999999999999684}\", 19: \"{'a': 0.5, 'e': -3.191891195797325e-16}\", 20: \"{'a': 0, 'e': 0}\", 21: \"{'a': 0, 'e': 0}\", 22: \"{'a': 0, 'e': 0}\", 23: \"{'a': 0, 'e': 0}\", 24: \"{'a': 0, 'e': 0}\"}\n"
     ]
    }
   ],
   "source": [
    "d=data['parameters'].to_dict()\n",
    "print type(d)\n",
    "print d"
   ]
  },
  {
   "cell_type": "code",
   "execution_count": 129,
   "metadata": {
    "collapsed": false
   },
   "outputs": [
    {
     "name": "stdout",
     "output_type": "stream",
     "text": [
      "[(0, \"{'a': 0.5, 'e': 0.95}\"), (1, \"{'a': 0.5, 'e': 0.8999999999999999}\"), (2, \"{'a': 0.5, 'e': 0.8499999999999999}\"), (3, \"{'a': 0.5, 'e': 0.7999999999999998}\"), (4, \"{'a': 0.5, 'e': 0.7499999999999998}\"), (5, \"{'a': 0.5, 'e': 0.6999999999999997}\"), (6, \"{'a': 0.5, 'e': 0.6499999999999997}\"), (7, \"{'a': 0.5, 'e': 0.5999999999999996}\"), (8, \"{'a': 0.5, 'e': 0.5499999999999996}\"), (9, \"{'a': 0.5, 'e': 0.4999999999999996}\"), (10, \"{'a': 0.5, 'e': 0.4499999999999996}\"), (11, \"{'a': 0.5, 'e': 0.39999999999999963}\"), (12, \"{'a': 0.5, 'e': 0.34999999999999964}\"), (13, \"{'a': 0.5, 'e': 0.29999999999999966}\"), (14, \"{'a': 0.5, 'e': 0.24999999999999967}\"), (15, \"{'a': 0.5, 'e': 0.19999999999999968}\"), (16, \"{'a': 0.5, 'e': 0.1499999999999997}\"), (17, \"{'a': 0.5, 'e': 0.09999999999999969}\"), (18, \"{'a': 0.5, 'e': 0.049999999999999684}\"), (19, \"{'a': 0.5, 'e': -3.191891195797325e-16}\"), (20, \"{'a': 0, 'e': 0}\"), (21, \"{'a': 0, 'e': 0}\"), (22, \"{'a': 0, 'e': 0}\"), (23, \"{'a': 0, 'e': 0}\"), (24, \"{'a': 0, 'e': 0}\")]\n"
     ]
    }
   ],
   "source": [
    "print d.items()"
   ]
  },
  {
   "cell_type": "code",
   "execution_count": 130,
   "metadata": {
    "collapsed": false
   },
   "outputs": [
    {
     "name": "stdout",
     "output_type": "stream",
     "text": [
      "[\"{'a': 0.5, 'e': 0.95}\", \"{'a': 0.5, 'e': 0.8999999999999999}\", \"{'a': 0.5, 'e': 0.8499999999999999}\", \"{'a': 0.5, 'e': 0.7999999999999998}\", \"{'a': 0.5, 'e': 0.7499999999999998}\", \"{'a': 0.5, 'e': 0.6999999999999997}\", \"{'a': 0.5, 'e': 0.6499999999999997}\", \"{'a': 0.5, 'e': 0.5999999999999996}\", \"{'a': 0.5, 'e': 0.5499999999999996}\", \"{'a': 0.5, 'e': 0.4999999999999996}\", \"{'a': 0.5, 'e': 0.4499999999999996}\", \"{'a': 0.5, 'e': 0.39999999999999963}\", \"{'a': 0.5, 'e': 0.34999999999999964}\", \"{'a': 0.5, 'e': 0.29999999999999966}\", \"{'a': 0.5, 'e': 0.24999999999999967}\", \"{'a': 0.5, 'e': 0.19999999999999968}\", \"{'a': 0.5, 'e': 0.1499999999999997}\", \"{'a': 0.5, 'e': 0.09999999999999969}\", \"{'a': 0.5, 'e': 0.049999999999999684}\", \"{'a': 0.5, 'e': -3.191891195797325e-16}\", \"{'a': 0, 'e': 0}\", \"{'a': 0, 'e': 0}\", \"{'a': 0, 'e': 0}\", \"{'a': 0, 'e': 0}\", \"{'a': 0, 'e': 0}\"]\n"
     ]
    }
   ],
   "source": [
    "print d.values()"
   ]
  },
  {
   "cell_type": "code",
   "execution_count": 131,
   "metadata": {
    "collapsed": false
   },
   "outputs": [
    {
     "name": "stdout",
     "output_type": "stream",
     "text": [
      "<type 'list'>\n"
     ]
    }
   ],
   "source": [
    "print type(d.values())"
   ]
  },
  {
   "cell_type": "code",
   "execution_count": 132,
   "metadata": {
    "collapsed": false
   },
   "outputs": [
    {
     "ename": "AttributeError",
     "evalue": "'list' object has no attribute 'to_dict'",
     "output_type": "error",
     "traceback": [
      "\u001b[0;31m---------------------------------------------------------------------------\u001b[0m",
      "\u001b[0;31mAttributeError\u001b[0m                            Traceback (most recent call last)",
      "\u001b[0;32m<ipython-input-132-9de2ec6ab06b>\u001b[0m in \u001b[0;36m<module>\u001b[0;34m()\u001b[0m\n\u001b[0;32m----> 1\u001b[0;31m \u001b[0mdd\u001b[0m\u001b[0;34m=\u001b[0m\u001b[0md\u001b[0m\u001b[0;34m.\u001b[0m\u001b[0mvalues\u001b[0m\u001b[0;34m(\u001b[0m\u001b[0;34m)\u001b[0m\u001b[0;34m.\u001b[0m\u001b[0mto_dict\u001b[0m\u001b[0;34m(\u001b[0m\u001b[0;34m)\u001b[0m\u001b[0;34m\u001b[0m\u001b[0m\n\u001b[0m",
      "\u001b[0;31mAttributeError\u001b[0m: 'list' object has no attribute 'to_dict'"
     ]
    }
   ],
   "source": [
    "dd=d.values().to_dict()"
   ]
  },
  {
   "cell_type": "code",
   "execution_count": 63,
   "metadata": {
    "collapsed": false
   },
   "outputs": [
    {
     "ename": "KeyError",
     "evalue": "'e'",
     "output_type": "error",
     "traceback": [
      "\u001b[0;31m---------------------------------------------------------------------------\u001b[0m",
      "\u001b[0;31mKeyError\u001b[0m                                  Traceback (most recent call last)",
      "\u001b[0;32m<ipython-input-63-bd6216a4a232>\u001b[0m in \u001b[0;36m<module>\u001b[0;34m()\u001b[0m\n\u001b[0;32m----> 1\u001b[0;31m \u001b[0;32mprint\u001b[0m \u001b[0md\u001b[0m\u001b[0;34m[\u001b[0m\u001b[0;34m'e'\u001b[0m\u001b[0;34m]\u001b[0m\u001b[0;34m\u001b[0m\u001b[0m\n\u001b[0m",
      "\u001b[0;31mKeyError\u001b[0m: 'e'"
     ]
    }
   ],
   "source": [
    "print d['e']"
   ]
  },
  {
   "cell_type": "code",
   "execution_count": 72,
   "metadata": {
    "collapsed": false
   },
   "outputs": [
    {
     "ename": "AttributeError",
     "evalue": "'dict' object has no attribute 'get_items'",
     "output_type": "error",
     "traceback": [
      "\u001b[0;31m---------------------------------------------------------------------------\u001b[0m",
      "\u001b[0;31mAttributeError\u001b[0m                            Traceback (most recent call last)",
      "\u001b[0;32m<ipython-input-72-a8d3400d092a>\u001b[0m in \u001b[0;36m<module>\u001b[0;34m()\u001b[0m\n\u001b[0;32m----> 1\u001b[0;31m \u001b[0;32mprint\u001b[0m \u001b[0md\u001b[0m\u001b[0;34m.\u001b[0m\u001b[0mget_items\u001b[0m\u001b[0;34m(\u001b[0m\u001b[0;34m)\u001b[0m\u001b[0;34m\u001b[0m\u001b[0m\n\u001b[0m",
      "\u001b[0;31mAttributeError\u001b[0m: 'dict' object has no attribute 'get_items'"
     ]
    }
   ],
   "source": [
    "print d.get_items()"
   ]
  },
  {
   "cell_type": "code",
   "execution_count": 71,
   "metadata": {
    "collapsed": false
   },
   "outputs": [
    {
     "name": "stdout",
     "output_type": "stream",
     "text": [
      "{0: \"{'a': 0.5, 'e': 0.95}\", 1: \"{'a': 0.5, 'e': 0.8999999999999999}\", 2: \"{'a': 0.5, 'e': 0.8499999999999999}\", 3: \"{'a': 0.5, 'e': 0.7999999999999998}\", 4: \"{'a': 0.5, 'e': 0.7499999999999998}\", 5: \"{'a': 0.5, 'e': 0.6999999999999997}\", 6: \"{'a': 0.5, 'e': 0.6499999999999997}\", 7: \"{'a': 0.5, 'e': 0.5999999999999996}\", 8: \"{'a': 0.5, 'e': 0.5499999999999996}\", 9: \"{'a': 0.5, 'e': 0.4999999999999996}\", 10: \"{'a': 0.5, 'e': 0.4499999999999996}\", 11: \"{'a': 0.5, 'e': 0.39999999999999963}\", 12: \"{'a': 0.5, 'e': 0.34999999999999964}\", 13: \"{'a': 0.5, 'e': 0.29999999999999966}\", 14: \"{'a': 0.5, 'e': 0.24999999999999967}\", 15: \"{'a': 0.5, 'e': 0.19999999999999968}\", 16: \"{'a': 0.5, 'e': 0.1499999999999997}\", 17: \"{'a': 0.5, 'e': 0.09999999999999969}\", 18: \"{'a': 0.5, 'e': 0.049999999999999684}\", 19: \"{'a': 0.5, 'e': -3.191891195797325e-16}\", 20: \"{'a': 0, 'e': 0}\", 21: \"{'a': 0, 'e': 0}\", 22: \"{'a': 0, 'e': 0}\", 23: \"{'a': 0, 'e': 0}\", 24: \"{'a': 0, 'e': 0}\"}\n"
     ]
    }
   ],
   "source": [
    "# Make a dictionary of all prices over 200\n",
    "de = { key:value for key, value in d.items() if value > 0 }\n",
    "print de"
   ]
  },
  {
   "cell_type": "code",
   "execution_count": 94,
   "metadata": {
    "collapsed": false
   },
   "outputs": [
    {
     "name": "stdout",
     "output_type": "stream",
     "text": [
      "data['parameters']---\n",
      "0                       {'a': 0.5, 'e': 0.95}\n",
      "1         {'a': 0.5, 'e': 0.8999999999999999}\n",
      "2         {'a': 0.5, 'e': 0.8499999999999999}\n",
      "3         {'a': 0.5, 'e': 0.7999999999999998}\n",
      "4         {'a': 0.5, 'e': 0.7499999999999998}\n",
      "5         {'a': 0.5, 'e': 0.6999999999999997}\n",
      "6         {'a': 0.5, 'e': 0.6499999999999997}\n",
      "7         {'a': 0.5, 'e': 0.5999999999999996}\n",
      "8         {'a': 0.5, 'e': 0.5499999999999996}\n",
      "9         {'a': 0.5, 'e': 0.4999999999999996}\n",
      "10        {'a': 0.5, 'e': 0.4499999999999996}\n",
      "11       {'a': 0.5, 'e': 0.39999999999999963}\n",
      "12       {'a': 0.5, 'e': 0.34999999999999964}\n",
      "13       {'a': 0.5, 'e': 0.29999999999999966}\n",
      "14       {'a': 0.5, 'e': 0.24999999999999967}\n",
      "15       {'a': 0.5, 'e': 0.19999999999999968}\n",
      "16        {'a': 0.5, 'e': 0.1499999999999997}\n",
      "17       {'a': 0.5, 'e': 0.09999999999999969}\n",
      "18      {'a': 0.5, 'e': 0.049999999999999684}\n",
      "19    {'a': 0.5, 'e': -3.191891195797325e-16}\n",
      "20                           {'a': 0, 'e': 0}\n",
      "21                           {'a': 0, 'e': 0}\n",
      "22                           {'a': 0, 'e': 0}\n",
      "23                           {'a': 0, 'e': 0}\n",
      "24                           {'a': 0, 'e': 0}\n",
      "Name: parameters, dtype: object\n",
      "--------------------\n",
      "type(data['parameters'])---- <class 'pandas.core.series.Series'>\n",
      "--------------------\n",
      "type(pd.DataFrame(data['parameters']))------ <class 'pandas.core.frame.DataFrame'>\n",
      "--------------------\n",
      "list(df)--- ['parameters']\n",
      "--------------------\n",
      "df--------\n",
      "                                 parameters\n",
      "0                     {'a': 0.5, 'e': 0.95}\n",
      "1       {'a': 0.5, 'e': 0.8999999999999999}\n",
      "2       {'a': 0.5, 'e': 0.8499999999999999}\n",
      "3       {'a': 0.5, 'e': 0.7999999999999998}\n",
      "4       {'a': 0.5, 'e': 0.7499999999999998}\n",
      "5       {'a': 0.5, 'e': 0.6999999999999997}\n",
      "6       {'a': 0.5, 'e': 0.6499999999999997}\n",
      "7       {'a': 0.5, 'e': 0.5999999999999996}\n",
      "8       {'a': 0.5, 'e': 0.5499999999999996}\n",
      "9       {'a': 0.5, 'e': 0.4999999999999996}\n",
      "10      {'a': 0.5, 'e': 0.4499999999999996}\n",
      "11     {'a': 0.5, 'e': 0.39999999999999963}\n",
      "12     {'a': 0.5, 'e': 0.34999999999999964}\n",
      "13     {'a': 0.5, 'e': 0.29999999999999966}\n",
      "14     {'a': 0.5, 'e': 0.24999999999999967}\n",
      "15     {'a': 0.5, 'e': 0.19999999999999968}\n",
      "16      {'a': 0.5, 'e': 0.1499999999999997}\n",
      "17     {'a': 0.5, 'e': 0.09999999999999969}\n",
      "18    {'a': 0.5, 'e': 0.049999999999999684}\n",
      "19  {'a': 0.5, 'e': -3.191891195797325e-16}\n",
      "20                         {'a': 0, 'e': 0}\n",
      "21                         {'a': 0, 'e': 0}\n",
      "22                         {'a': 0, 'e': 0}\n",
      "23                         {'a': 0, 'e': 0}\n",
      "24                         {'a': 0, 'e': 0}\n"
     ]
    }
   ],
   "source": [
    "print \"data['parameters']---\\n\", data['parameters']\n",
    "print \"--\"*10\n",
    "print \"type(data['parameters'])----\",type(data['parameters'])\n",
    "df=pd.DataFrame(data['parameters'])\n",
    "print \"--\"*10\n",
    "print \"type(pd.DataFrame(data['parameters']))------\",type(df)\n",
    "print \"--\"*10\n",
    "print \"list(df)---\",list(df)\n",
    "print \"--\"*10\n",
    "print \"df--------\\n\",df\n"
   ]
  },
  {
   "cell_type": "code",
   "execution_count": 95,
   "metadata": {
    "collapsed": false
   },
   "outputs": [
    {
     "data": {
      "text/html": [
       "<div>\n",
       "<table border=\"1\" class=\"dataframe\">\n",
       "  <thead>\n",
       "    <tr style=\"text-align: right;\">\n",
       "      <th></th>\n",
       "      <th>parameters</th>\n",
       "    </tr>\n",
       "  </thead>\n",
       "  <tbody>\n",
       "    <tr>\n",
       "      <th>0</th>\n",
       "      <td>{'a': 0.5, 'e': 0.95}</td>\n",
       "    </tr>\n",
       "    <tr>\n",
       "      <th>1</th>\n",
       "      <td>{'a': 0.5, 'e': 0.8999999999999999}</td>\n",
       "    </tr>\n",
       "    <tr>\n",
       "      <th>2</th>\n",
       "      <td>{'a': 0.5, 'e': 0.8499999999999999}</td>\n",
       "    </tr>\n",
       "    <tr>\n",
       "      <th>3</th>\n",
       "      <td>{'a': 0.5, 'e': 0.7999999999999998}</td>\n",
       "    </tr>\n",
       "    <tr>\n",
       "      <th>4</th>\n",
       "      <td>{'a': 0.5, 'e': 0.7499999999999998}</td>\n",
       "    </tr>\n",
       "    <tr>\n",
       "      <th>5</th>\n",
       "      <td>{'a': 0.5, 'e': 0.6999999999999997}</td>\n",
       "    </tr>\n",
       "    <tr>\n",
       "      <th>6</th>\n",
       "      <td>{'a': 0.5, 'e': 0.6499999999999997}</td>\n",
       "    </tr>\n",
       "    <tr>\n",
       "      <th>7</th>\n",
       "      <td>{'a': 0.5, 'e': 0.5999999999999996}</td>\n",
       "    </tr>\n",
       "    <tr>\n",
       "      <th>8</th>\n",
       "      <td>{'a': 0.5, 'e': 0.5499999999999996}</td>\n",
       "    </tr>\n",
       "    <tr>\n",
       "      <th>9</th>\n",
       "      <td>{'a': 0.5, 'e': 0.4999999999999996}</td>\n",
       "    </tr>\n",
       "    <tr>\n",
       "      <th>10</th>\n",
       "      <td>{'a': 0.5, 'e': 0.4499999999999996}</td>\n",
       "    </tr>\n",
       "    <tr>\n",
       "      <th>11</th>\n",
       "      <td>{'a': 0.5, 'e': 0.39999999999999963}</td>\n",
       "    </tr>\n",
       "    <tr>\n",
       "      <th>12</th>\n",
       "      <td>{'a': 0.5, 'e': 0.34999999999999964}</td>\n",
       "    </tr>\n",
       "    <tr>\n",
       "      <th>13</th>\n",
       "      <td>{'a': 0.5, 'e': 0.29999999999999966}</td>\n",
       "    </tr>\n",
       "    <tr>\n",
       "      <th>14</th>\n",
       "      <td>{'a': 0.5, 'e': 0.24999999999999967}</td>\n",
       "    </tr>\n",
       "    <tr>\n",
       "      <th>15</th>\n",
       "      <td>{'a': 0.5, 'e': 0.19999999999999968}</td>\n",
       "    </tr>\n",
       "    <tr>\n",
       "      <th>16</th>\n",
       "      <td>{'a': 0.5, 'e': 0.1499999999999997}</td>\n",
       "    </tr>\n",
       "    <tr>\n",
       "      <th>17</th>\n",
       "      <td>{'a': 0.5, 'e': 0.09999999999999969}</td>\n",
       "    </tr>\n",
       "    <tr>\n",
       "      <th>18</th>\n",
       "      <td>{'a': 0.5, 'e': 0.049999999999999684}</td>\n",
       "    </tr>\n",
       "    <tr>\n",
       "      <th>19</th>\n",
       "      <td>{'a': 0.5, 'e': -3.191891195797325e-16}</td>\n",
       "    </tr>\n",
       "    <tr>\n",
       "      <th>20</th>\n",
       "      <td>{'a': 0, 'e': 0}</td>\n",
       "    </tr>\n",
       "    <tr>\n",
       "      <th>21</th>\n",
       "      <td>{'a': 0, 'e': 0}</td>\n",
       "    </tr>\n",
       "    <tr>\n",
       "      <th>22</th>\n",
       "      <td>{'a': 0, 'e': 0}</td>\n",
       "    </tr>\n",
       "    <tr>\n",
       "      <th>23</th>\n",
       "      <td>{'a': 0, 'e': 0}</td>\n",
       "    </tr>\n",
       "    <tr>\n",
       "      <th>24</th>\n",
       "      <td>{'a': 0, 'e': 0}</td>\n",
       "    </tr>\n",
       "  </tbody>\n",
       "</table>\n",
       "</div>"
      ],
      "text/plain": [
       "                                 parameters\n",
       "0                     {'a': 0.5, 'e': 0.95}\n",
       "1       {'a': 0.5, 'e': 0.8999999999999999}\n",
       "2       {'a': 0.5, 'e': 0.8499999999999999}\n",
       "3       {'a': 0.5, 'e': 0.7999999999999998}\n",
       "4       {'a': 0.5, 'e': 0.7499999999999998}\n",
       "5       {'a': 0.5, 'e': 0.6999999999999997}\n",
       "6       {'a': 0.5, 'e': 0.6499999999999997}\n",
       "7       {'a': 0.5, 'e': 0.5999999999999996}\n",
       "8       {'a': 0.5, 'e': 0.5499999999999996}\n",
       "9       {'a': 0.5, 'e': 0.4999999999999996}\n",
       "10      {'a': 0.5, 'e': 0.4499999999999996}\n",
       "11     {'a': 0.5, 'e': 0.39999999999999963}\n",
       "12     {'a': 0.5, 'e': 0.34999999999999964}\n",
       "13     {'a': 0.5, 'e': 0.29999999999999966}\n",
       "14     {'a': 0.5, 'e': 0.24999999999999967}\n",
       "15     {'a': 0.5, 'e': 0.19999999999999968}\n",
       "16      {'a': 0.5, 'e': 0.1499999999999997}\n",
       "17     {'a': 0.5, 'e': 0.09999999999999969}\n",
       "18    {'a': 0.5, 'e': 0.049999999999999684}\n",
       "19  {'a': 0.5, 'e': -3.191891195797325e-16}\n",
       "20                         {'a': 0, 'e': 0}\n",
       "21                         {'a': 0, 'e': 0}\n",
       "22                         {'a': 0, 'e': 0}\n",
       "23                         {'a': 0, 'e': 0}\n",
       "24                         {'a': 0, 'e': 0}"
      ]
     },
     "metadata": {},
     "output_type": "display_data"
    }
   ],
   "source": [
    "display(df)"
   ]
  },
  {
   "cell_type": "code",
   "execution_count": 88,
   "metadata": {
    "collapsed": false
   },
   "outputs": [
    {
     "ename": "NameError",
     "evalue": "name 'features' is not defined",
     "output_type": "error",
     "traceback": [
      "\u001b[0;31m---------------------------------------------------------------------------\u001b[0m",
      "\u001b[0;31mNameError\u001b[0m                                 Traceback (most recent call last)",
      "\u001b[0;32m<ipython-input-88-fbfcf0c05216>\u001b[0m in \u001b[0;36m<module>\u001b[0;34m()\u001b[0m\n\u001b[1;32m      1\u001b[0m \u001b[0;32mimport\u001b[0m \u001b[0mmatplotlib\u001b[0m\u001b[0;34m.\u001b[0m\u001b[0mpyplot\u001b[0m \u001b[0;32mas\u001b[0m \u001b[0mplt\u001b[0m\u001b[0;34m\u001b[0m\u001b[0m\n\u001b[1;32m      2\u001b[0m \u001b[0mplt\u001b[0m\u001b[0;34m.\u001b[0m\u001b[0mfigure\u001b[0m\u001b[0;34m(\u001b[0m\u001b[0mfigsize\u001b[0m\u001b[0;34m=\u001b[0m\u001b[0;34m(\u001b[0m\u001b[0;36m4\u001b[0m\u001b[0;34m,\u001b[0m\u001b[0;36m3\u001b[0m\u001b[0;34m)\u001b[0m\u001b[0;34m)\u001b[0m\u001b[0;34m\u001b[0m\u001b[0m\n\u001b[0;32m----> 3\u001b[0;31m \u001b[0mplt\u001b[0m\u001b[0;34m.\u001b[0m\u001b[0mscatter\u001b[0m\u001b[0;34m(\u001b[0m\u001b[0mfeatures\u001b[0m\u001b[0;34m[\u001b[0m\u001b[0;34m'PTRATIO'\u001b[0m\u001b[0;34m]\u001b[0m\u001b[0;34m,\u001b[0m \u001b[0mdata\u001b[0m\u001b[0;34m[\u001b[0m\u001b[0;34m'MEDV'\u001b[0m\u001b[0;34m]\u001b[0m\u001b[0;34m,\u001b[0m\u001b[0mc\u001b[0m\u001b[0;34m=\u001b[0m\u001b[0;34m'k'\u001b[0m\u001b[0;34m,\u001b[0m \u001b[0mmarker\u001b[0m\u001b[0;34m=\u001b[0m\u001b[0;34m\"x\"\u001b[0m\u001b[0;34m,\u001b[0m \u001b[0mlabel\u001b[0m\u001b[0;34m=\u001b[0m\u001b[0;34m'PTRATIO'\u001b[0m\u001b[0;34m)\u001b[0m\u001b[0;34m\u001b[0m\u001b[0m\n\u001b[0m\u001b[1;32m      4\u001b[0m \u001b[0mplt\u001b[0m\u001b[0;34m.\u001b[0m\u001b[0mxlabel\u001b[0m\u001b[0;34m(\u001b[0m\u001b[0;34m'PTRATIO'\u001b[0m\u001b[0;34m)\u001b[0m\u001b[0;34m\u001b[0m\u001b[0m\n\u001b[1;32m      5\u001b[0m \u001b[0mplt\u001b[0m\u001b[0;34m.\u001b[0m\u001b[0mylabel\u001b[0m\u001b[0;34m(\u001b[0m\u001b[0;34m'Price'\u001b[0m\u001b[0;34m)\u001b[0m\u001b[0;34m\u001b[0m\u001b[0m\n",
      "\u001b[0;31mNameError\u001b[0m: name 'features' is not defined"
     ]
    },
    {
     "data": {
      "text/plain": [
       "<matplotlib.figure.Figure at 0x112d77ed0>"
      ]
     },
     "metadata": {},
     "output_type": "display_data"
    }
   ],
   "source": [
    "import matplotlib.pyplot as plt\n",
    "plt.figure(figsize=(4,3))\n",
    "plt.scatter(features['PTRATIO'], data['MEDV'],c='k', marker=\"x\", label='PTRATIO')\n",
    "plt.xlabel('PTRATIO')\n",
    "plt.ylabel('Price')\n",
    "plt.grid(True)"
   ]
  },
  {
   "cell_type": "code",
   "execution_count": 64,
   "metadata": {
    "collapsed": true
   },
   "outputs": [],
   "source": [
    "prices = {\n",
    "   'ACME': 45.23,\n",
    "   'AAPL': 612.78,\n",
    "   'IBM': 205.55,\n",
    "   'HPQ': 37.20,\n",
    "   'FB': 10.75\n",
    "}"
   ]
  },
  {
   "cell_type": "code",
   "execution_count": 66,
   "metadata": {
    "collapsed": false
   },
   "outputs": [
    {
     "name": "stdout",
     "output_type": "stream",
     "text": [
      "{'HPQ': 37.2, 'FB': 10.75, 'AAPL': 612.78, 'IBM': 205.55, 'ACME': 45.23}\n",
      "<type 'dict'>\n"
     ]
    }
   ],
   "source": [
    "print prices\n",
    "print type(prices)\n"
   ]
  },
  {
   "cell_type": "code",
   "execution_count": 67,
   "metadata": {
    "collapsed": false
   },
   "outputs": [
    {
     "name": "stdout",
     "output_type": "stream",
     "text": [
      "{'AAPL': 612.78, 'IBM': 205.55}\n",
      "{'HPQ': 37.2, 'AAPL': 612.78, 'IBM': 205.55}\n"
     ]
    }
   ],
   "source": [
    "# Make a dictionary of all prices over 200\n",
    "p1 = { key:value for key, value in prices.items() if value > 200 }\n",
    "# Make a dictionary of tech stocks\n",
    "tech_names = { 'AAPL', 'IBM', 'HPQ', 'MSFT' }\n",
    "p2 = { key:value for key,value in prices.items() if key in tech_names }\n",
    "\n",
    "print p1\n",
    "print p2"
   ]
  },
  {
   "cell_type": "code",
   "execution_count": 70,
   "metadata": {
    "collapsed": false
   },
   "outputs": [
    {
     "name": "stdout",
     "output_type": "stream",
     "text": [
      "{'AAPL': 612.78, 'IBM': 205.55}\n"
     ]
    }
   ],
   "source": [
    "p3 = dict((key, value) for key, value in prices.items() if value > 200)\n",
    "# Make a dictionary of tech stocks\n",
    "\n",
    "print p3\n"
   ]
  },
  {
   "cell_type": "code",
   "execution_count": 69,
   "metadata": {
    "collapsed": false
   },
   "outputs": [
    {
     "ename": "TypeError",
     "evalue": "unsupported operand type(s) for &: 'list' and 'set'",
     "output_type": "error",
     "traceback": [
      "\u001b[0;31m---------------------------------------------------------------------------\u001b[0m",
      "\u001b[0;31mTypeError\u001b[0m                                 Traceback (most recent call last)",
      "\u001b[0;32m<ipython-input-69-a34da2512614>\u001b[0m in \u001b[0;36m<module>\u001b[0;34m()\u001b[0m\n\u001b[1;32m      1\u001b[0m \u001b[0mtech_names\u001b[0m \u001b[0;34m=\u001b[0m \u001b[0;34m{\u001b[0m \u001b[0;34m'AAPL'\u001b[0m\u001b[0;34m,\u001b[0m \u001b[0;34m'IBM'\u001b[0m\u001b[0;34m,\u001b[0m \u001b[0;34m'HPQ'\u001b[0m\u001b[0;34m,\u001b[0m \u001b[0;34m'MSFT'\u001b[0m \u001b[0;34m}\u001b[0m\u001b[0;34m\u001b[0m\u001b[0m\n\u001b[0;32m----> 2\u001b[0;31m \u001b[0mp4\u001b[0m \u001b[0;34m=\u001b[0m \u001b[0;34m{\u001b[0m \u001b[0mkey\u001b[0m\u001b[0;34m:\u001b[0m\u001b[0mprices\u001b[0m\u001b[0;34m[\u001b[0m\u001b[0mkey\u001b[0m\u001b[0;34m]\u001b[0m \u001b[0;32mfor\u001b[0m \u001b[0mkey\u001b[0m \u001b[0;32min\u001b[0m \u001b[0mprices\u001b[0m\u001b[0;34m.\u001b[0m\u001b[0mkeys\u001b[0m\u001b[0;34m(\u001b[0m\u001b[0;34m)\u001b[0m \u001b[0;34m&\u001b[0m \u001b[0mtech_names\u001b[0m \u001b[0;34m}\u001b[0m\u001b[0;34m\u001b[0m\u001b[0m\n\u001b[0m\u001b[1;32m      3\u001b[0m \u001b[0;32mprint\u001b[0m \u001b[0mp4\u001b[0m\u001b[0;34m\u001b[0m\u001b[0m\n",
      "\u001b[0;31mTypeError\u001b[0m: unsupported operand type(s) for &: 'list' and 'set'"
     ]
    }
   ],
   "source": [
    "tech_names = { 'AAPL', 'IBM', 'HPQ', 'MSFT' }\n",
    "p4 = { key:prices[key] for key in prices.keys() & tech_names }\n",
    "print p4"
   ]
  },
  {
   "cell_type": "code",
   "execution_count": 100,
   "metadata": {
    "collapsed": false
   },
   "outputs": [
    {
     "name": "stdout",
     "output_type": "stream",
     "text": [
      "dfae----\n",
      "                                 parameters\n",
      "0                     {'a': 0.5, 'e': 0.95}\n",
      "1       {'a': 0.5, 'e': 0.8999999999999999}\n",
      "2       {'a': 0.5, 'e': 0.8499999999999999}\n",
      "3       {'a': 0.5, 'e': 0.7999999999999998}\n",
      "4       {'a': 0.5, 'e': 0.7499999999999998}\n",
      "5       {'a': 0.5, 'e': 0.6999999999999997}\n",
      "6       {'a': 0.5, 'e': 0.6499999999999997}\n",
      "7       {'a': 0.5, 'e': 0.5999999999999996}\n",
      "8       {'a': 0.5, 'e': 0.5499999999999996}\n",
      "9       {'a': 0.5, 'e': 0.4999999999999996}\n",
      "10      {'a': 0.5, 'e': 0.4499999999999996}\n",
      "11     {'a': 0.5, 'e': 0.39999999999999963}\n",
      "12     {'a': 0.5, 'e': 0.34999999999999964}\n",
      "13     {'a': 0.5, 'e': 0.29999999999999966}\n",
      "14     {'a': 0.5, 'e': 0.24999999999999967}\n",
      "15     {'a': 0.5, 'e': 0.19999999999999968}\n",
      "16      {'a': 0.5, 'e': 0.1499999999999997}\n",
      "17     {'a': 0.5, 'e': 0.09999999999999969}\n",
      "18    {'a': 0.5, 'e': 0.049999999999999684}\n",
      "19  {'a': 0.5, 'e': -3.191891195797325e-16}\n",
      "20                         {'a': 0, 'e': 0}\n",
      "21                         {'a': 0, 'e': 0}\n",
      "22                         {'a': 0, 'e': 0}\n",
      "23                         {'a': 0, 'e': 0}\n",
      "24                         {'a': 0, 'e': 0}\n",
      "--------------------\n",
      "dfae_stack---\n",
      "0   parameters                      {'a': 0.5, 'e': 0.95}\n",
      "1   parameters        {'a': 0.5, 'e': 0.8999999999999999}\n",
      "2   parameters        {'a': 0.5, 'e': 0.8499999999999999}\n",
      "3   parameters        {'a': 0.5, 'e': 0.7999999999999998}\n",
      "4   parameters        {'a': 0.5, 'e': 0.7499999999999998}\n",
      "5   parameters        {'a': 0.5, 'e': 0.6999999999999997}\n",
      "6   parameters        {'a': 0.5, 'e': 0.6499999999999997}\n",
      "7   parameters        {'a': 0.5, 'e': 0.5999999999999996}\n",
      "8   parameters        {'a': 0.5, 'e': 0.5499999999999996}\n",
      "9   parameters        {'a': 0.5, 'e': 0.4999999999999996}\n",
      "10  parameters        {'a': 0.5, 'e': 0.4499999999999996}\n",
      "11  parameters       {'a': 0.5, 'e': 0.39999999999999963}\n",
      "12  parameters       {'a': 0.5, 'e': 0.34999999999999964}\n",
      "13  parameters       {'a': 0.5, 'e': 0.29999999999999966}\n",
      "14  parameters       {'a': 0.5, 'e': 0.24999999999999967}\n",
      "15  parameters       {'a': 0.5, 'e': 0.19999999999999968}\n",
      "16  parameters        {'a': 0.5, 'e': 0.1499999999999997}\n",
      "17  parameters       {'a': 0.5, 'e': 0.09999999999999969}\n",
      "18  parameters      {'a': 0.5, 'e': 0.049999999999999684}\n",
      "19  parameters    {'a': 0.5, 'e': -3.191891195797325e-16}\n",
      "20  parameters                           {'a': 0, 'e': 0}\n",
      "21  parameters                           {'a': 0, 'e': 0}\n",
      "22  parameters                           {'a': 0, 'e': 0}\n",
      "23  parameters                           {'a': 0, 'e': 0}\n",
      "24  parameters                           {'a': 0, 'e': 0}\n",
      "dtype: object\n",
      "--------------------\n",
      "--------------------\n",
      "dfae_unstack---\n",
      "parameters  0                       {'a': 0.5, 'e': 0.95}\n",
      "            1         {'a': 0.5, 'e': 0.8999999999999999}\n",
      "            2         {'a': 0.5, 'e': 0.8499999999999999}\n",
      "            3         {'a': 0.5, 'e': 0.7999999999999998}\n",
      "            4         {'a': 0.5, 'e': 0.7499999999999998}\n",
      "            5         {'a': 0.5, 'e': 0.6999999999999997}\n",
      "            6         {'a': 0.5, 'e': 0.6499999999999997}\n",
      "            7         {'a': 0.5, 'e': 0.5999999999999996}\n",
      "            8         {'a': 0.5, 'e': 0.5499999999999996}\n",
      "            9         {'a': 0.5, 'e': 0.4999999999999996}\n",
      "            10        {'a': 0.5, 'e': 0.4499999999999996}\n",
      "            11       {'a': 0.5, 'e': 0.39999999999999963}\n",
      "            12       {'a': 0.5, 'e': 0.34999999999999964}\n",
      "            13       {'a': 0.5, 'e': 0.29999999999999966}\n",
      "            14       {'a': 0.5, 'e': 0.24999999999999967}\n",
      "            15       {'a': 0.5, 'e': 0.19999999999999968}\n",
      "            16        {'a': 0.5, 'e': 0.1499999999999997}\n",
      "            17       {'a': 0.5, 'e': 0.09999999999999969}\n",
      "            18      {'a': 0.5, 'e': 0.049999999999999684}\n",
      "            19    {'a': 0.5, 'e': -3.191891195797325e-16}\n",
      "            20                           {'a': 0, 'e': 0}\n",
      "            21                           {'a': 0, 'e': 0}\n",
      "            22                           {'a': 0, 'e': 0}\n",
      "            23                           {'a': 0, 'e': 0}\n",
      "            24                           {'a': 0, 'e': 0}\n",
      "dtype: object\n"
     ]
    }
   ],
   "source": [
    "dfae=pd.DataFrame(data['parameters'])\n",
    "\n",
    "print \"dfae----\\n\", dfae\n",
    "print \"--\"*10\n",
    "dfae_stack=dfae.stack()\n",
    "print \"dfae_stack---\\n\",dfae_stack\n",
    "print \"--\"*10\n",
    "dfae_unstack=dfae.unstack()\n",
    "print \"--\"*10\n",
    "print \"dfae_unstack---\\n\", dfae_unstack\n"
   ]
  },
  {
   "cell_type": "code",
   "execution_count": 108,
   "metadata": {
    "collapsed": false
   },
   "outputs": [
    {
     "name": "stdout",
     "output_type": "stream",
     "text": [
      "<class 'pandas.core.series.Series'>\n",
      "--------------------\n"
     ]
    }
   ],
   "source": [
    "print type(dfae_unstack)\n",
    "print \"--\"*10\n"
   ]
  },
  {
   "cell_type": "code",
   "execution_count": 115,
   "metadata": {
    "collapsed": false
   },
   "outputs": [],
   "source": [
    "dict4=dfae_unstack.to_dict().values()"
   ]
  },
  {
   "cell_type": "code",
   "execution_count": 121,
   "metadata": {
    "collapsed": false
   },
   "outputs": [
    {
     "name": "stdout",
     "output_type": "stream",
     "text": [
      "[\"{'a': 0.5, 'e': -3.191891195797325e-16}\",\n",
      " \"{'a': 0.5, 'e': 0.5499999999999996}\",\n",
      " \"{'a': 0.5, 'e': 0.8999999999999999}\",\n",
      " \"{'a': 0, 'e': 0}\",\n",
      " \"{'a': 0.5, 'e': 0.29999999999999966}\",\n",
      " \"{'a': 0.5, 'e': 0.1499999999999997}\",\n",
      " \"{'a': 0.5, 'e': 0.4999999999999996}\",\n",
      " \"{'a': 0.5, 'e': 0.6499999999999997}\",\n",
      " \"{'a': 0, 'e': 0}\",\n",
      " \"{'a': 0.5, 'e': 0.8499999999999999}\",\n",
      " \"{'a': 0, 'e': 0}\",\n",
      " \"{'a': 0.5, 'e': 0.09999999999999969}\",\n",
      " \"{'a': 0.5, 'e': 0.24999999999999967}\",\n",
      " \"{'a': 0.5, 'e': 0.5999999999999996}\",\n",
      " \"{'a': 0.5, 'e': 0.4499999999999996}\",\n",
      " \"{'a': 0.5, 'e': 0.7999999999999998}\",\n",
      " \"{'a': 0, 'e': 0}\",\n",
      " \"{'a': 0.5, 'e': 0.19999999999999968}\",\n",
      " \"{'a': 0.5, 'e': 0.7499999999999998}\",\n",
      " \"{'a': 0.5, 'e': 0.049999999999999684}\",\n",
      " \"{'a': 0.5, 'e': 0.39999999999999963}\",\n",
      " \"{'a': 0.5, 'e': 0.95}\",\n",
      " \"{'a': 0, 'e': 0}\",\n",
      " \"{'a': 0.5, 'e': 0.34999999999999964}\",\n",
      " \"{'a': 0.5, 'e': 0.6999999999999997}\"]\n"
     ]
    }
   ],
   "source": [
    "import pprint\n",
    "pprint.pprint(dict4)\n",
    "#import pylab as pl\n",
    "#pl.plot(dict4)"
   ]
  },
  {
   "cell_type": "code",
   "execution_count": 122,
   "metadata": {
    "collapsed": false
   },
   "outputs": [
    {
     "data": {
      "text/plain": [
       "list"
      ]
     },
     "execution_count": 122,
     "metadata": {},
     "output_type": "execute_result"
    }
   ],
   "source": [
    "type(dict4)"
   ]
  },
  {
   "cell_type": "code",
   "execution_count": 128,
   "metadata": {
    "collapsed": false
   },
   "outputs": [
    {
     "data": {
      "text/plain": [
       "25"
      ]
     },
     "execution_count": 128,
     "metadata": {},
     "output_type": "execute_result"
    }
   ],
   "source": [
    "len(dict4)"
   ]
  },
  {
   "cell_type": "code",
   "execution_count": 135,
   "metadata": {
    "collapsed": false
   },
   "outputs": [
    {
     "ename": "TypeError",
     "evalue": "string indices must be integers, not str",
     "output_type": "error",
     "traceback": [
      "\u001b[0;31m---------------------------------------------------------------------------\u001b[0m",
      "\u001b[0;31mTypeError\u001b[0m                                 Traceback (most recent call last)",
      "\u001b[0;32m<ipython-input-135-8cf5cb129180>\u001b[0m in \u001b[0;36m<module>\u001b[0;34m()\u001b[0m\n\u001b[0;32m----> 1\u001b[0;31m \u001b[0mdict4\u001b[0m\u001b[0;34m[\u001b[0m\u001b[0;36m0\u001b[0m\u001b[0;34m]\u001b[0m\u001b[0;34m[\u001b[0m\u001b[0;34m'a'\u001b[0m\u001b[0;34m]\u001b[0m\u001b[0;34m\u001b[0m\u001b[0m\n\u001b[0m",
      "\u001b[0;31mTypeError\u001b[0m: string indices must be integers, not str"
     ]
    }
   ],
   "source": [
    "dict4[0]['a']"
   ]
  },
  {
   "cell_type": "code",
   "execution_count": 136,
   "metadata": {
    "collapsed": false
   },
   "outputs": [
    {
     "data": {
      "text/plain": [
       "\"{'a': 0.5, 'e': -3.191891195797325e-16}\""
      ]
     },
     "execution_count": 136,
     "metadata": {},
     "output_type": "execute_result"
    }
   ],
   "source": [
    "dict4[0]"
   ]
  },
  {
   "cell_type": "code",
   "execution_count": 137,
   "metadata": {
    "collapsed": false
   },
   "outputs": [
    {
     "name": "stdout",
     "output_type": "stream",
     "text": [
      "<type 'str'>\n"
     ]
    }
   ],
   "source": [
    "print type(dict4[0])"
   ]
  },
  {
   "cell_type": "code",
   "execution_count": 143,
   "metadata": {
    "collapsed": false
   },
   "outputs": [
    {
     "name": "stdout",
     "output_type": "stream",
     "text": [
      "{'a': 0.5, 'e': -3.191891195797325e-16}\n",
      "-3.1918911958e-16\n"
     ]
    }
   ],
   "source": [
    "import ast #https://docs.python.org/3/library/ast.html\n",
    "converttodict= ast.literal_eval(dict4[0])\n",
    "print converttodict\n",
    "print converttodict['e']"
   ]
  },
  {
   "cell_type": "code",
   "execution_count": 144,
   "metadata": {
    "collapsed": false
   },
   "outputs": [
    {
     "ename": "ValueError",
     "evalue": "malformed string",
     "output_type": "error",
     "traceback": [
      "\u001b[0;31m---------------------------------------------------------------------------\u001b[0m",
      "\u001b[0;31mValueError\u001b[0m                                Traceback (most recent call last)",
      "\u001b[0;32m<ipython-input-144-b436139c258a>\u001b[0m in \u001b[0;36m<module>\u001b[0;34m()\u001b[0m\n\u001b[0;32m----> 1\u001b[0;31m \u001b[0mast\u001b[0m\u001b[0;34m.\u001b[0m\u001b[0mliteral_eval\u001b[0m\u001b[0;34m(\u001b[0m\u001b[0mdict4\u001b[0m\u001b[0;34m)\u001b[0m\u001b[0;34m\u001b[0m\u001b[0m\n\u001b[0m",
      "\u001b[0;32m/Users/parksoy/anaconda/lib/python2.7/ast.pyc\u001b[0m in \u001b[0;36mliteral_eval\u001b[0;34m(node_or_string)\u001b[0m\n\u001b[1;32m     78\u001b[0m                 \u001b[0;32mreturn\u001b[0m \u001b[0mleft\u001b[0m \u001b[0;34m-\u001b[0m \u001b[0mright\u001b[0m\u001b[0;34m\u001b[0m\u001b[0m\n\u001b[1;32m     79\u001b[0m         \u001b[0;32mraise\u001b[0m \u001b[0mValueError\u001b[0m\u001b[0;34m(\u001b[0m\u001b[0;34m'malformed string'\u001b[0m\u001b[0;34m)\u001b[0m\u001b[0;34m\u001b[0m\u001b[0m\n\u001b[0;32m---> 80\u001b[0;31m     \u001b[0;32mreturn\u001b[0m \u001b[0m_convert\u001b[0m\u001b[0;34m(\u001b[0m\u001b[0mnode_or_string\u001b[0m\u001b[0;34m)\u001b[0m\u001b[0;34m\u001b[0m\u001b[0m\n\u001b[0m\u001b[1;32m     81\u001b[0m \u001b[0;34m\u001b[0m\u001b[0m\n\u001b[1;32m     82\u001b[0m \u001b[0;34m\u001b[0m\u001b[0m\n",
      "\u001b[0;32m/Users/parksoy/anaconda/lib/python2.7/ast.pyc\u001b[0m in \u001b[0;36m_convert\u001b[0;34m(node)\u001b[0m\n\u001b[1;32m     77\u001b[0m             \u001b[0;32melse\u001b[0m\u001b[0;34m:\u001b[0m\u001b[0;34m\u001b[0m\u001b[0m\n\u001b[1;32m     78\u001b[0m                 \u001b[0;32mreturn\u001b[0m \u001b[0mleft\u001b[0m \u001b[0;34m-\u001b[0m \u001b[0mright\u001b[0m\u001b[0;34m\u001b[0m\u001b[0m\n\u001b[0;32m---> 79\u001b[0;31m         \u001b[0;32mraise\u001b[0m \u001b[0mValueError\u001b[0m\u001b[0;34m(\u001b[0m\u001b[0;34m'malformed string'\u001b[0m\u001b[0;34m)\u001b[0m\u001b[0;34m\u001b[0m\u001b[0m\n\u001b[0m\u001b[1;32m     80\u001b[0m     \u001b[0;32mreturn\u001b[0m \u001b[0m_convert\u001b[0m\u001b[0;34m(\u001b[0m\u001b[0mnode_or_string\u001b[0m\u001b[0;34m)\u001b[0m\u001b[0;34m\u001b[0m\u001b[0m\n\u001b[1;32m     81\u001b[0m \u001b[0;34m\u001b[0m\u001b[0m\n",
      "\u001b[0;31mValueError\u001b[0m: malformed string"
     ]
    }
   ],
   "source": [
    "ast.literal_eval(dict4)"
   ]
  },
  {
   "cell_type": "code",
   "execution_count": 140,
   "metadata": {
    "collapsed": false
   },
   "outputs": [
    {
     "name": "stdout",
     "output_type": "stream",
     "text": [
      "['apple', 'orange', 'banana']\n"
     ]
    }
   ],
   "source": [
    "fruits = \"['apple', 'orange', 'banana']\"\n",
    "import ast\n",
    "fruits = ast.literal_eval(fruits)\n",
    "print fruits"
   ]
  },
  {
   "cell_type": "code",
   "execution_count": 141,
   "metadata": {
    "collapsed": false
   },
   "outputs": [
    {
     "data": {
      "text/plain": [
       "'orange'"
      ]
     },
     "execution_count": 141,
     "metadata": {},
     "output_type": "execute_result"
    }
   ],
   "source": [
    "fruits[1]\n"
   ]
  },
  {
   "cell_type": "code",
   "execution_count": 145,
   "metadata": {
    "collapsed": false
   },
   "outputs": [
    {
     "name": "stdout",
     "output_type": "stream",
     "text": [
      "[\"{'a': 0.5, 'e': -3.191891195797325e-16}\", \"{'a': 0.5, 'e': 0.5499999999999996}\", \"{'a': 0.5, 'e': 0.8999999999999999}\", \"{'a': 0, 'e': 0}\", \"{'a': 0.5, 'e': 0.29999999999999966}\", \"{'a': 0.5, 'e': 0.1499999999999997}\", \"{'a': 0.5, 'e': 0.4999999999999996}\", \"{'a': 0.5, 'e': 0.6499999999999997}\", \"{'a': 0, 'e': 0}\", \"{'a': 0.5, 'e': 0.8499999999999999}\", \"{'a': 0, 'e': 0}\", \"{'a': 0.5, 'e': 0.09999999999999969}\", \"{'a': 0.5, 'e': 0.24999999999999967}\", \"{'a': 0.5, 'e': 0.5999999999999996}\", \"{'a': 0.5, 'e': 0.4499999999999996}\", \"{'a': 0.5, 'e': 0.7999999999999998}\", \"{'a': 0, 'e': 0}\", \"{'a': 0.5, 'e': 0.19999999999999968}\", \"{'a': 0.5, 'e': 0.7499999999999998}\", \"{'a': 0.5, 'e': 0.049999999999999684}\", \"{'a': 0.5, 'e': 0.39999999999999963}\", \"{'a': 0.5, 'e': 0.95}\", \"{'a': 0, 'e': 0}\", \"{'a': 0.5, 'e': 0.34999999999999964}\", \"{'a': 0.5, 'e': 0.6999999999999997}\"]\n"
     ]
    }
   ],
   "source": [
    "print dict4"
   ]
  },
  {
   "cell_type": "code",
   "execution_count": 150,
   "metadata": {
    "collapsed": true
   },
   "outputs": [],
   "source": [
    "from functools import reduce  # forward compatibility for Python 3\n",
    "#https://docs.python.org/2/library/functions.html#reduce\n",
    "import operator #https://docs.python.org/2/library/operator.html\n",
    "\n",
    "\n",
    "def getFromDict(dataDict, mapList):\n",
    "    return reduce(operator.getitem, mapList, dataDict)\n",
    "\n"
   ]
  },
  {
   "cell_type": "code",
   "execution_count": 154,
   "metadata": {
    "collapsed": false
   },
   "outputs": [
    {
     "data": {
      "text/html": [
       "<div>\n",
       "<table border=\"1\" class=\"dataframe\">\n",
       "  <thead>\n",
       "    <tr style=\"text-align: right;\">\n",
       "      <th></th>\n",
       "      <th>trial</th>\n",
       "      <th>testing</th>\n",
       "      <th>parameters</th>\n",
       "      <th>initial_deadline</th>\n",
       "      <th>final_deadline</th>\n",
       "      <th>net_reward</th>\n",
       "      <th>actions</th>\n",
       "      <th>success</th>\n",
       "    </tr>\n",
       "  </thead>\n",
       "  <tbody>\n",
       "    <tr>\n",
       "      <th>0</th>\n",
       "      <td>1</td>\n",
       "      <td>False</td>\n",
       "      <td>{'a': 0.5, 'e': 0.95}</td>\n",
       "      <td>25</td>\n",
       "      <td>15</td>\n",
       "      <td>-17.169860</td>\n",
       "      <td>{0: 7, 1: 0, 2: 3, 3: 0, 4: 0}</td>\n",
       "      <td>1</td>\n",
       "    </tr>\n",
       "    <tr>\n",
       "      <th>1</th>\n",
       "      <td>2</td>\n",
       "      <td>False</td>\n",
       "      <td>{'a': 0.5, 'e': 0.8999999999999999}</td>\n",
       "      <td>20</td>\n",
       "      <td>15</td>\n",
       "      <td>-4.062665</td>\n",
       "      <td>{0: 4, 1: 0, 2: 1, 3: 0, 4: 0}</td>\n",
       "      <td>1</td>\n",
       "    </tr>\n",
       "  </tbody>\n",
       "</table>\n",
       "</div>"
      ],
      "text/plain": [
       "   trial testing                           parameters  initial_deadline  \\\n",
       "0      1   False                {'a': 0.5, 'e': 0.95}                25   \n",
       "1      2   False  {'a': 0.5, 'e': 0.8999999999999999}                20   \n",
       "\n",
       "   final_deadline  net_reward                         actions  success  \n",
       "0              15  -17.169860  {0: 7, 1: 0, 2: 3, 3: 0, 4: 0}        1  \n",
       "1              15   -4.062665  {0: 4, 1: 0, 2: 1, 3: 0, 4: 0}        1  "
      ]
     },
     "metadata": {},
     "output_type": "display_data"
    }
   ],
   "source": [
    "display(data[:2])"
   ]
  },
  {
   "cell_type": "code",
   "execution_count": 155,
   "metadata": {
    "collapsed": false
   },
   "outputs": [
    {
     "ename": "KeyError",
     "evalue": "'a'",
     "output_type": "error",
     "traceback": [
      "\u001b[0;31m---------------------------------------------------------------------------\u001b[0m",
      "\u001b[0;31mKeyError\u001b[0m                                  Traceback (most recent call last)",
      "\u001b[0;32m<ipython-input-155-3a94b449e10f>\u001b[0m in \u001b[0;36m<module>\u001b[0;34m()\u001b[0m\n\u001b[0;32m----> 1\u001b[0;31m \u001b[0mgetFromDict\u001b[0m\u001b[0;34m(\u001b[0m\u001b[0mdata\u001b[0m\u001b[0;34m,\u001b[0m \u001b[0;34m[\u001b[0m\u001b[0;34m\"parameters\"\u001b[0m\u001b[0;34m,\u001b[0m\u001b[0;34m'a'\u001b[0m\u001b[0;34m]\u001b[0m\u001b[0;34m)\u001b[0m\u001b[0;34m\u001b[0m\u001b[0m\n\u001b[0m\u001b[1;32m      2\u001b[0m \u001b[0;34m\u001b[0m\u001b[0m\n\u001b[1;32m      3\u001b[0m \u001b[0;31m#getFromDict(dataDict, [\"b\", \"v\", \"y\"])\u001b[0m\u001b[0;34m\u001b[0m\u001b[0;34m\u001b[0m\u001b[0m\n",
      "\u001b[0;32m<ipython-input-150-40eeaf924082>\u001b[0m in \u001b[0;36mgetFromDict\u001b[0;34m(dataDict, mapList)\u001b[0m\n\u001b[1;32m      5\u001b[0m \u001b[0;34m\u001b[0m\u001b[0m\n\u001b[1;32m      6\u001b[0m \u001b[0;32mdef\u001b[0m \u001b[0mgetFromDict\u001b[0m\u001b[0;34m(\u001b[0m\u001b[0mdataDict\u001b[0m\u001b[0;34m,\u001b[0m \u001b[0mmapList\u001b[0m\u001b[0;34m)\u001b[0m\u001b[0;34m:\u001b[0m\u001b[0;34m\u001b[0m\u001b[0m\n\u001b[0;32m----> 7\u001b[0;31m     \u001b[0;32mreturn\u001b[0m \u001b[0mreduce\u001b[0m\u001b[0;34m(\u001b[0m\u001b[0moperator\u001b[0m\u001b[0;34m.\u001b[0m\u001b[0mgetitem\u001b[0m\u001b[0;34m,\u001b[0m \u001b[0mmapList\u001b[0m\u001b[0;34m,\u001b[0m \u001b[0mdataDict\u001b[0m\u001b[0;34m)\u001b[0m\u001b[0;34m\u001b[0m\u001b[0m\n\u001b[0m\u001b[1;32m      8\u001b[0m \u001b[0;34m\u001b[0m\u001b[0m\n",
      "\u001b[0;32m/Users/parksoy/anaconda/lib/python2.7/site-packages/pandas/core/series.pyc\u001b[0m in \u001b[0;36m__getitem__\u001b[0;34m(self, key)\u001b[0m\n\u001b[1;32m    581\u001b[0m         \u001b[0mkey\u001b[0m \u001b[0;34m=\u001b[0m \u001b[0mcom\u001b[0m\u001b[0;34m.\u001b[0m\u001b[0m_apply_if_callable\u001b[0m\u001b[0;34m(\u001b[0m\u001b[0mkey\u001b[0m\u001b[0;34m,\u001b[0m \u001b[0mself\u001b[0m\u001b[0;34m)\u001b[0m\u001b[0;34m\u001b[0m\u001b[0m\n\u001b[1;32m    582\u001b[0m         \u001b[0;32mtry\u001b[0m\u001b[0;34m:\u001b[0m\u001b[0;34m\u001b[0m\u001b[0m\n\u001b[0;32m--> 583\u001b[0;31m             \u001b[0mresult\u001b[0m \u001b[0;34m=\u001b[0m \u001b[0mself\u001b[0m\u001b[0;34m.\u001b[0m\u001b[0mindex\u001b[0m\u001b[0;34m.\u001b[0m\u001b[0mget_value\u001b[0m\u001b[0;34m(\u001b[0m\u001b[0mself\u001b[0m\u001b[0;34m,\u001b[0m \u001b[0mkey\u001b[0m\u001b[0;34m)\u001b[0m\u001b[0;34m\u001b[0m\u001b[0m\n\u001b[0m\u001b[1;32m    584\u001b[0m \u001b[0;34m\u001b[0m\u001b[0m\n\u001b[1;32m    585\u001b[0m             \u001b[0;32mif\u001b[0m \u001b[0;32mnot\u001b[0m \u001b[0mlib\u001b[0m\u001b[0;34m.\u001b[0m\u001b[0misscalar\u001b[0m\u001b[0;34m(\u001b[0m\u001b[0mresult\u001b[0m\u001b[0;34m)\u001b[0m\u001b[0;34m:\u001b[0m\u001b[0;34m\u001b[0m\u001b[0m\n",
      "\u001b[0;32m/Users/parksoy/anaconda/lib/python2.7/site-packages/pandas/indexes/base.pyc\u001b[0m in \u001b[0;36mget_value\u001b[0;34m(self, series, key)\u001b[0m\n\u001b[1;32m   1978\u001b[0m         \u001b[0;32mtry\u001b[0m\u001b[0;34m:\u001b[0m\u001b[0;34m\u001b[0m\u001b[0m\n\u001b[1;32m   1979\u001b[0m             return self._engine.get_value(s, k,\n\u001b[0;32m-> 1980\u001b[0;31m                                           tz=getattr(series.dtype, 'tz', None))\n\u001b[0m\u001b[1;32m   1981\u001b[0m         \u001b[0;32mexcept\u001b[0m \u001b[0mKeyError\u001b[0m \u001b[0;32mas\u001b[0m \u001b[0me1\u001b[0m\u001b[0;34m:\u001b[0m\u001b[0;34m\u001b[0m\u001b[0m\n\u001b[1;32m   1982\u001b[0m             \u001b[0;32mif\u001b[0m \u001b[0mlen\u001b[0m\u001b[0;34m(\u001b[0m\u001b[0mself\u001b[0m\u001b[0;34m)\u001b[0m \u001b[0;34m>\u001b[0m \u001b[0;36m0\u001b[0m \u001b[0;32mand\u001b[0m \u001b[0mself\u001b[0m\u001b[0;34m.\u001b[0m\u001b[0minferred_type\u001b[0m \u001b[0;32min\u001b[0m \u001b[0;34m[\u001b[0m\u001b[0;34m'integer'\u001b[0m\u001b[0;34m,\u001b[0m \u001b[0;34m'boolean'\u001b[0m\u001b[0;34m]\u001b[0m\u001b[0;34m:\u001b[0m\u001b[0;34m\u001b[0m\u001b[0m\n",
      "\u001b[0;32mpandas/index.pyx\u001b[0m in \u001b[0;36mpandas.index.IndexEngine.get_value (pandas/index.c:3332)\u001b[0;34m()\u001b[0m\n",
      "\u001b[0;32mpandas/index.pyx\u001b[0m in \u001b[0;36mpandas.index.IndexEngine.get_value (pandas/index.c:3035)\u001b[0;34m()\u001b[0m\n",
      "\u001b[0;32mpandas/index.pyx\u001b[0m in \u001b[0;36mpandas.index.IndexEngine.get_loc (pandas/index.c:4084)\u001b[0;34m()\u001b[0m\n",
      "\u001b[0;31mKeyError\u001b[0m: 'a'"
     ]
    }
   ],
   "source": [
    "getFromDict(data, [\"parameters\",'a'])\n",
    "\n",
    "#getFromDict(dataDict, [\"b\", \"v\", \"y\"])\n"
   ]
  },
  {
   "cell_type": "code",
   "execution_count": 156,
   "metadata": {
    "collapsed": false
   },
   "outputs": [
    {
     "data": {
      "text/html": [
       "<div>\n",
       "<table border=\"1\" class=\"dataframe\">\n",
       "  <thead>\n",
       "    <tr style=\"text-align: right;\">\n",
       "      <th></th>\n",
       "      <th>trial</th>\n",
       "      <th>testing</th>\n",
       "      <th>parameters</th>\n",
       "      <th>initial_deadline</th>\n",
       "      <th>final_deadline</th>\n",
       "      <th>net_reward</th>\n",
       "      <th>actions</th>\n",
       "      <th>success</th>\n",
       "    </tr>\n",
       "  </thead>\n",
       "  <tbody>\n",
       "    <tr>\n",
       "      <th>0</th>\n",
       "      <td>1</td>\n",
       "      <td>False</td>\n",
       "      <td>{'a': 0.5, 'e': 0.95}</td>\n",
       "      <td>25</td>\n",
       "      <td>15</td>\n",
       "      <td>-17.169860</td>\n",
       "      <td>{0: 7, 1: 0, 2: 3, 3: 0, 4: 0}</td>\n",
       "      <td>1</td>\n",
       "    </tr>\n",
       "    <tr>\n",
       "      <th>1</th>\n",
       "      <td>2</td>\n",
       "      <td>False</td>\n",
       "      <td>{'a': 0.5, 'e': 0.8999999999999999}</td>\n",
       "      <td>20</td>\n",
       "      <td>15</td>\n",
       "      <td>-4.062665</td>\n",
       "      <td>{0: 4, 1: 0, 2: 1, 3: 0, 4: 0}</td>\n",
       "      <td>1</td>\n",
       "    </tr>\n",
       "  </tbody>\n",
       "</table>\n",
       "</div>"
      ],
      "text/plain": [
       "   trial testing                           parameters  initial_deadline  \\\n",
       "0      1   False                {'a': 0.5, 'e': 0.95}                25   \n",
       "1      2   False  {'a': 0.5, 'e': 0.8999999999999999}                20   \n",
       "\n",
       "   final_deadline  net_reward                         actions  success  \n",
       "0              15  -17.169860  {0: 7, 1: 0, 2: 3, 3: 0, 4: 0}        1  \n",
       "1              15   -4.062665  {0: 4, 1: 0, 2: 1, 3: 0, 4: 0}        1  "
      ]
     },
     "metadata": {},
     "output_type": "display_data"
    }
   ],
   "source": [
    "display(data[:2])\n"
   ]
  },
  {
   "cell_type": "code",
   "execution_count": 208,
   "metadata": {
    "collapsed": false
   },
   "outputs": [
    {
     "ename": "SyntaxError",
     "evalue": "invalid syntax (<ipython-input-208-3249cf160af7>, line 1)",
     "output_type": "error",
     "traceback": [
      "\u001b[0;36m  File \u001b[0;32m\"<ipython-input-208-3249cf160af7>\"\u001b[0;36m, line \u001b[0;32m1\u001b[0m\n\u001b[0;31m    data['parameters'].get_values(if value > 200)\u001b[0m\n\u001b[0m                                   ^\u001b[0m\n\u001b[0;31mSyntaxError\u001b[0m\u001b[0;31m:\u001b[0m invalid syntax\n"
     ]
    }
   ],
   "source": [
    "data['parameters'].get_values(if value > 200)"
   ]
  },
  {
   "cell_type": "code",
   "execution_count": 195,
   "metadata": {
    "collapsed": false
   },
   "outputs": [],
   "source": [
    "strr=data['parameters'].get_values()[0]"
   ]
  },
  {
   "cell_type": "code",
   "execution_count": 196,
   "metadata": {
    "collapsed": false
   },
   "outputs": [
    {
     "name": "stdout",
     "output_type": "stream",
     "text": [
      "{'a': 0.5, 'e': 0.95}\n"
     ]
    }
   ],
   "source": [
    "import ast\n",
    "stripped = ast.literal_eval(strr)\n",
    "print stripped"
   ]
  },
  {
   "cell_type": "code",
   "execution_count": 240,
   "metadata": {
    "collapsed": false
   },
   "outputs": [
    {
     "name": "stdout",
     "output_type": "stream",
     "text": [
      "--- 0.5 0.95\n",
      "--- 0.5 0.9\n",
      "--- 0.5 0.85\n",
      "--- 0.5 0.8\n",
      "--- 0.5 0.75\n",
      "--- 0.5 0.7\n",
      "--- 0.5 0.65\n",
      "--- 0.5 0.6\n",
      "--- 0.5 0.55\n",
      "--- 0.5 0.5\n",
      "--- 0.5 0.45\n",
      "--- 0.5 0.4\n",
      "--- 0.5 0.35\n",
      "--- 0.5 0.3\n",
      "--- 0.5 0.25\n",
      "--- 0.5 0.2\n",
      "--- 0.5 0.15\n",
      "--- 0.5 0.1\n",
      "--- 0.5 0.05\n",
      "--- 0.5 -3.1918911958e-16\n",
      "--- 0 0\n",
      "--- 0 0\n",
      "--- 0 0\n",
      "--- 0 0\n",
      "--- 0 0\n",
      "--------------------\n",
      "[0.5, 0.5, 0.5, 0.5, 0.5, 0.5, 0.5, 0.5, 0.5, 0.5, 0.5, 0.5, 0.5, 0.5, 0.5, 0.5, 0.5, 0.5, 0.5, 0.5, 0, 0, 0, 0, 0]\n",
      "--------------------\n",
      "[0.95, 0.8999999999999999, 0.8499999999999999, 0.7999999999999998, 0.7499999999999998, 0.6999999999999997, 0.6499999999999997, 0.5999999999999996, 0.5499999999999996, 0.4999999999999996, 0.4499999999999996, 0.39999999999999963, 0.34999999999999964, 0.29999999999999966, 0.24999999999999967, 0.19999999999999968, 0.1499999999999997, 0.09999999999999969, 0.049999999999999684, -3.191891195797325e-16, 0, 0, 0, 0, 0]\n"
     ]
    }
   ],
   "source": [
    "a=[]\n",
    "e=[]\n",
    "for dic in data['parameters'].get_values():\n",
    "    key=ast.literal_eval(dic)['a']\n",
    "    val=ast.literal_eval(dic)['e']\n",
    "    print \"---\",key,val\n",
    "    \n",
    "    a.append(key)\n",
    "    e.append(val)\n",
    "\n",
    "print '--'*10\n",
    "print a\n",
    "print '--'*10\n",
    "print e\n",
    "    \n",
    "#default_data['item3'] = 3    \n",
    "#default_data.update({'item3': 3})"
   ]
  },
  {
   "cell_type": "code",
   "execution_count": 237,
   "metadata": {
    "collapsed": false
   },
   "outputs": [
    {
     "data": {
      "text/plain": [
       "<matplotlib.text.Text at 0x1168ec490>"
      ]
     },
     "execution_count": 237,
     "metadata": {},
     "output_type": "execute_result"
    },
    {
     "data": {
      "image/png": "[encoded data removed]",
      "text/plain": [
       "<matplotlib.figure.Figure at 0x115f9a490>"
      ]
     },
     "metadata": {},
     "output_type": "display_data"
    }
   ],
   "source": [
    "pl.plot(a,e,'g')\n",
    "pl.title('Plot of e vs. a')\n",
    "pl.xlabel('a')\n",
    "pl.ylabel('e')"
   ]
  },
  {
   "cell_type": "code",
   "execution_count": null,
   "metadata": {
    "collapsed": true
   },
   "outputs": [],
   "source": []
  }
 ],
 "metadata": {
  "anaconda-cloud": {},
  "kernelspec": {
   "display_name": "Python [default]",
   "language": "python",
   "name": "python2"
  },
  "language_info": {
   "codemirror_mode": {
    "name": "ipython",
    "version": 2
   },
   "file_extension": ".py",
   "mimetype": "text/x-python",
   "name": "python",
   "nbconvert_exporter": "python",
   "pygments_lexer": "ipython2",
   "version": "2.7.12"
  }
 },
 "nbformat": 4,
 "nbformat_minor": 1
}
