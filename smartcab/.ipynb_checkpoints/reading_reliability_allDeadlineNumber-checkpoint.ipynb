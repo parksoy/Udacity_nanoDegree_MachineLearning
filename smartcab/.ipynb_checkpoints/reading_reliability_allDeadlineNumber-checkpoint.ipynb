{
 "cells": [
  {
   "cell_type": "code",
   "execution_count": 32,
   "metadata": {
    "collapsed": false
   },
   "outputs": [
    {
     "name": "stdout",
     "output_type": "stream",
     "text": [
      "success_ratio== 0.433333333333\n",
      "data['reliability_rate'] ==\n",
      "0      NaN\n",
      "1      NaN\n",
      "2      NaN\n",
      "3      NaN\n",
      "4      NaN\n",
      "5      NaN\n",
      "6      NaN\n",
      "7      NaN\n",
      "8      NaN\n",
      "9     20.0\n",
      "10    30.0\n",
      "11    20.0\n",
      "12    30.0\n",
      "13    30.0\n",
      "14    40.0\n",
      "15    50.0\n",
      "16    60.0\n",
      "17    50.0\n",
      "18    60.0\n",
      "19    70.0\n",
      "20    70.0\n",
      "21    80.0\n",
      "22    70.0\n",
      "23    70.0\n",
      "24    60.0\n",
      "25    50.0\n",
      "26    50.0\n",
      "27    60.0\n",
      "28    50.0\n",
      "29    40.0\n",
      "Name: reliability_rate, dtype: float64\n"
     ]
    }
   ],
   "source": [
    "import pandas as pd\n",
    "#import os \n",
    "\n",
    "#print os.getcwd()\n",
    "path='/Users/parksoy/Desktop/GoogleDrive_Soyoung/Udacity_nanoDegree_MachineLearning/smartcab/logs/'\n",
    "filename='sim_improved-learning_exp_a_0p9_tolerance_0.001.csv'\n",
    "\n",
    "array = filename.split(\"_\")\n",
    "#print array\n",
    "model=array[2]\n",
    "a=array[4]\n",
    "a=float(a.replace('p','.'))\n",
    "tolerance=float(array[6].strip(\".csv\"))\n",
    "\n",
    "#print model\n",
    "#print a\n",
    "#print tolerance\n",
    "\n",
    "\n",
    "data = pd.read_csv(path+filename)\n",
    "#print 'len(data)==',len(data) \n",
    "score=data['success'].sum()\n",
    "data['reliability_rate'] = (data['success']*100).rolling(window=10, center=False).mean()  # compute avg. net reward with window=10\n",
    "\n",
    "#print 'data[\\'success\\'].sum()==',score\n",
    "success_ratio = data['success'].sum() * 1.0 / len(data)\n",
    "print 'success_ratio==', success_ratio\n",
    "print \"data['reliability_rate'] ==\\n\", data['reliability_rate'] "
   ]
  },
  {
   "cell_type": "code",
   "execution_count": 91,
   "metadata": {
    "collapsed": false
   },
   "outputs": [
    {
     "name": "stdout",
     "output_type": "stream",
     "text": [
      "[9, 14, 12, 20, 3, 10, 8, 4, 2, 18, 16, 11, 35, 17, 5, 7, 34, 13, 19, 6, 1, 15]\n",
      "35\n"
     ]
    }
   ],
   "source": [
    "filename_txt='sim_improved-learning_Slow0p001linear_a_0p9_tolerance_0.0001_Deadline.txt'\n",
    "deadline=[]\n",
    "linearray=[]\n",
    "\n",
    "f = open(path+filename_txt,'r')\n",
    "for line in f:\n",
    "    if line.startswith('('):\n",
    "        #print line\n",
    "        linearray=line.split(',')\n",
    "        deadline_string=linearray[5]\n",
    "        deadline_number=int(deadline_string[:-2])\n",
    "        deadline.append(deadline_number)\n",
    "    \n",
    "print deadline\n",
    "print max(deadline)\n",
    "\n",
    "#state=txt['success'].sum()\n",
    "f.close()"
   ]
  },
  {
   "cell_type": "code",
   "execution_count": 89,
   "metadata": {
    "collapsed": false
   },
   "outputs": [
    {
     "name": "stdout",
     "output_type": "stream",
     "text": [
      "distance1\n",
      "distance2\n",
      "distance2\n",
      "distance0\n",
      "distance1\n",
      "distance1\n",
      "distance0\n",
      "distance0\n",
      "distance2\n",
      "distance0\n",
      "distance1\n",
      "distance2\n",
      "distance1\n",
      "distance0\n",
      "distance2\n"
     ]
    }
   ],
   "source": [
    "for element in deadline:\n",
    "    if element>=0 and element<=5:\n",
    "        print \"distance0\"\n",
    "    elif element>5 and element<=10:\n",
    "        print \"distance1\"\n",
    "    elif element>10 and element<=15:\n",
    "        print \"distance2\"\n",
    "    elif element>15 and element<=20:\n",
    "        print \"distance3\""
   ]
  },
  {
   "cell_type": "code",
   "execution_count": null,
   "metadata": {
    "collapsed": true
   },
   "outputs": [],
   "source": []
  }
 ],
 "metadata": {
  "kernelspec": {
   "display_name": "Python [default]",
   "language": "python",
   "name": "python2"
  },
  "language_info": {
   "codemirror_mode": {
    "name": "ipython",
    "version": 2
   },
   "file_extension": ".py",
   "mimetype": "text/x-python",
   "name": "python",
   "nbconvert_exporter": "python",
   "pygments_lexer": "ipython2",
   "version": "2.7.12"
  }
 },
 "nbformat": 4,
 "nbformat_minor": 1
}
