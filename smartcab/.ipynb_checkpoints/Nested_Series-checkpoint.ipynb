{
 "cells": [
  {
   "cell_type": "code",
   "execution_count": 16,
   "metadata": {
    "collapsed": false
   },
   "outputs": [
    {
     "name": "stdout",
     "output_type": "stream",
     "text": [
      "type d <type 'dict'>\n",
      "--------------------\n",
      "pd.Series(d)--\n",
      "cantor       {u'score': 0.10681356781, u'ping': 88}\n",
      "godel       {u'score': 0.724306444216, u'ping': 19}\n",
      "russell    {u'score': 0.0730361751991, u'ping': 23}\n",
      "dtype: object\n",
      "--------------------\n",
      "df---\n",
      "          cantor      godel    russell\n",
      "ping   88.000000  19.000000  23.000000\n",
      "score   0.106814   0.724306   0.073036\n",
      "--------------------\n",
      "df_unstack---\n",
      "cantor   ping     88.000000\n",
      "         score     0.106814\n",
      "godel    ping     19.000000\n",
      "         score     0.724306\n",
      "russell  ping     23.000000\n",
      "         score     0.073036\n",
      "dtype: float64\n"
     ]
    }
   ],
   "source": [
    "import pandas as pd\n",
    "import numpy as np\n",
    "\n",
    "d = {\"russell\": {\"score\": np.random.rand(), \"ping\": np.random.randint(10, 100)},\n",
    "    \"cantor\": {\"score\": np.random.rand(), \"ping\": np.random.randint(10, 100)},\n",
    "    \"godel\": {\"score\": np.random.rand(), \"ping\": np.random.randint(10, 100)}}\n",
    "\n",
    "print \"type d\", type(d)\n",
    "print \"--\"*10\n",
    "\n",
    "print \"pd.Series(d)--\\n\", pd.Series(d)\n",
    "print \"--\"*10\n",
    "\n",
    "df=pd.DataFrame(d)\n",
    "\n",
    "print \"df---\\n\",df\n",
    "print \"--\"*10\n",
    "df_unstack=df.unstack()\n",
    "print \"df_unstack---\\n\",df_unstack\n"
   ]
  },
  {
   "cell_type": "code",
   "execution_count": 17,
   "metadata": {
    "collapsed": false
   },
   "outputs": [
    {
     "name": "stdout",
     "output_type": "stream",
     "text": [
      "df---\n",
      "          cantor      godel    russell\n",
      "ping   88.000000  19.000000  23.000000\n",
      "score   0.106814   0.724306   0.073036\n",
      "--------------------\n",
      "df_stack-----\n",
      "ping   cantor     88.000000\n",
      "       godel      19.000000\n",
      "       russell    23.000000\n",
      "score  cantor      0.106814\n",
      "       godel       0.724306\n",
      "       russell     0.073036\n",
      "dtype: float64\n"
     ]
    }
   ],
   "source": [
    "#To swap levels in MultiIndex\n",
    "print \"df---\\n\",df\n",
    "print \"--\"*10\n",
    "df_stack=df.stack()\n",
    "print \"df_stack-----\\n\", df_stack"
   ]
  },
  {
   "cell_type": "code",
   "execution_count": 20,
   "metadata": {
    "collapsed": false
   },
   "outputs": [
    {
     "data": {
      "text/plain": [
       "cantor     88.0\n",
       "godel      19.0\n",
       "russell    23.0\n",
       "dtype: float64"
      ]
     },
     "execution_count": 20,
     "metadata": {},
     "output_type": "execute_result"
    }
   ],
   "source": [
    "df_stack['ping']"
   ]
  },
  {
   "cell_type": "code",
   "execution_count": 22,
   "metadata": {
    "collapsed": false
   },
   "outputs": [
    {
     "name": "stdout",
     "output_type": "stream",
     "text": [
      "<class 'pandas.core.series.Series'>\n"
     ]
    }
   ],
   "source": [
    "print type(df_stack['score'])"
   ]
  },
  {
   "cell_type": "code",
   "execution_count": 76,
   "metadata": {
    "collapsed": false
   },
   "outputs": [
    {
     "data": {
      "text/plain": [
       "[0.72430644421641488, 0.10681356781015272, 0.073036175199064801]"
      ]
     },
     "execution_count": 76,
     "metadata": {},
     "output_type": "execute_result"
    }
   ],
   "source": [
    "df_stack['score'].to_dict().values()"
   ]
  },
  {
   "cell_type": "code",
   "execution_count": 79,
   "metadata": {
    "collapsed": false
   },
   "outputs": [
    {
     "data": {
      "text/plain": [
       "[<matplotlib.lines.Line2D at 0x114eb2f10>]"
      ]
     },
     "execution_count": 79,
     "metadata": {},
     "output_type": "execute_result"
    },
    {
     "data": {
      "image/png": "[encoded data removed]",
      "text/plain": [
       "<matplotlib.figure.Figure at 0x111f9c250>"
      ]
     },
     "metadata": {},
     "output_type": "display_data"
    }
   ],
   "source": [
    "#can I plot with these two colums?\n",
    "import math \n",
    "import pandas as pd\n",
    "import pylab as pl\n",
    "from IPython.display import display\n",
    "%matplotlib inline\n",
    "\n",
    "pl.plot (df_stack['ping'].to_dict().values(), df_stack['score'].to_dict().values())"
   ]
  },
  {
   "cell_type": "markdown",
   "metadata": {},
   "source": [
    "# Access nested dictionary items via a list of keys?\n",
    "\n",
    "http://stackoverflow.com/questions/14692690/access-nested-dictionary-items-via-a-list-of-keys"
   ]
  },
  {
   "cell_type": "code",
   "execution_count": 29,
   "metadata": {
    "collapsed": true
   },
   "outputs": [],
   "source": [
    "dataDict = {\n",
    "    \"a\":{\n",
    "        \"r\": 1,\n",
    "        \"s\": 2,\n",
    "        \"t\": 3\n",
    "        },\n",
    "    \"b\":{\n",
    "        \"u\": 1,\n",
    "        \"v\": {\n",
    "            \"x\": 1,\n",
    "            \"y\": 2,\n",
    "            \"z\": 3\n",
    "        },\n",
    "        \"w\": 3\n",
    "        }\n",
    "}    \n",
    "\n",
    "maplist = [\"a\", \"r\"]"
   ]
  },
  {
   "cell_type": "code",
   "execution_count": 71,
   "metadata": {
    "collapsed": false
   },
   "outputs": [
    {
     "name": "stdout",
     "output_type": "stream",
     "text": [
      "{'a': {'r': 1, 's': 2, 't': 3},\n",
      " 'b': {'u': 1, 'v': {'w': 4, 'x': 1, 'y': 2, 'z': 3}, 'w': 3}}\n",
      "['a', 'b']\n"
     ]
    }
   ],
   "source": [
    "import pprint\n",
    "pprint.pprint(dataDict)\n",
    "print dataDict.keys()"
   ]
  },
  {
   "cell_type": "code",
   "execution_count": null,
   "metadata": {
    "collapsed": true
   },
   "outputs": [],
   "source": [
    "from functools import reduce  # forward compatibility for Python 3\n",
    "#https://docs.python.org/2/library/functions.html#reduce\n",
    "import operator #https://docs.python.org/2/library/operator.html\n"
   ]
  },
  {
   "cell_type": "code",
   "execution_count": 73,
   "metadata": {
    "collapsed": false
   },
   "outputs": [
    {
     "ename": "TypeError",
     "evalue": "'int' object has no attribute '__getitem__'",
     "output_type": "error",
     "traceback": [
      "\u001b[0;31m---------------------------------------------------------------------------\u001b[0m",
      "\u001b[0;31mTypeError\u001b[0m                                 Traceback (most recent call last)",
      "\u001b[0;32m<ipython-input-73-8de833e51d13>\u001b[0m in \u001b[0;36m<module>\u001b[0;34m()\u001b[0m\n\u001b[1;32m      2\u001b[0m \u001b[0;31m#Return the value of a at index b.\u001b[0m\u001b[0;34m\u001b[0m\u001b[0;34m\u001b[0m\u001b[0m\n\u001b[1;32m      3\u001b[0m \u001b[0;34m\u001b[0m\u001b[0m\n\u001b[0;32m----> 4\u001b[0;31m \u001b[0moperator\u001b[0m\u001b[0;34m.\u001b[0m\u001b[0mgetitem\u001b[0m\u001b[0;34m(\u001b[0m\u001b[0;36m0\u001b[0m\u001b[0;34m,\u001b[0m\u001b[0mdataDict\u001b[0m\u001b[0;34m)\u001b[0m\u001b[0;34m\u001b[0m\u001b[0m\n\u001b[0m",
      "\u001b[0;31mTypeError\u001b[0m: 'int' object has no attribute '__getitem__'"
     ]
    }
   ],
   "source": [
    "#operator.getitem(a, b)\n",
    "#Return the value of a at index b.\n",
    "\n",
    "operator.getitem(0,dataDict)\n"
   ]
  },
  {
   "cell_type": "code",
   "execution_count": 36,
   "metadata": {
    "collapsed": true
   },
   "outputs": [],
   "source": [
    "\n",
    "def getFromDict(dataDict, mapList):\n",
    "    return reduce(operator.getitem, mapList, dataDict)\n",
    "\n",
    "def setInDict(dataDict, mapList, value): \n",
    "    for k in mapList[:-1]: dataDict = dataDict[k]\n",
    "    dataDict[mapList[-1]] = value"
   ]
  },
  {
   "cell_type": "code",
   "execution_count": 37,
   "metadata": {
    "collapsed": false
   },
   "outputs": [
    {
     "data": {
      "text/plain": [
       "1"
      ]
     },
     "execution_count": 37,
     "metadata": {},
     "output_type": "execute_result"
    }
   ],
   "source": [
    "getFromDict(dataDict, [\"a\", \"r\"])"
   ]
  },
  {
   "cell_type": "code",
   "execution_count": 38,
   "metadata": {
    "collapsed": false
   },
   "outputs": [
    {
     "data": {
      "text/plain": [
       "2"
      ]
     },
     "execution_count": 38,
     "metadata": {},
     "output_type": "execute_result"
    }
   ],
   "source": [
    "getFromDict(dataDict, [\"b\", \"v\", \"y\"])\n"
   ]
  },
  {
   "cell_type": "code",
   "execution_count": 40,
   "metadata": {
    "collapsed": false
   },
   "outputs": [],
   "source": [
    "setInDict(dataDict, [\"b\", \"v\", \"w\"], 4)"
   ]
  },
  {
   "cell_type": "code",
   "execution_count": 42,
   "metadata": {
    "collapsed": false
   },
   "outputs": [
    {
     "name": "stdout",
     "output_type": "stream",
     "text": [
      "{'a': {'r': 1, 's': 2, 't': 3},\n",
      " 'b': {'u': 1, 'v': {'w': 4, 'x': 1, 'y': 2, 'z': 3}, 'w': 3}}\n"
     ]
    }
   ],
   "source": [
    "import pprint\n",
    "pprint.pprint(dataDict)"
   ]
  },
  {
   "cell_type": "markdown",
   "metadata": {},
   "source": [
    "# Understand \n",
    "maxQidx=max(self.Q[self.state].iteritems(), key=operator.itemgetter(1))[0]"
   ]
  },
  {
   "cell_type": "code",
   "execution_count": 43,
   "metadata": {
    "collapsed": false
   },
   "outputs": [
    {
     "name": "stdout",
     "output_type": "stream",
     "text": [
      "{('forward', 'green', None, None, None): {None: 0.0,\n",
      "                                          'forward': 19.044206782279666,\n",
      "                                          'left': 0.0,\n",
      "                                          'right': 0.0},\n",
      " ('forward', 'green', None, 'forward', None): {None: 0.0,\n",
      "                                               'forward': 0.884939212763202,\n",
      "                                               'left': 0.0,\n",
      "                                               'right': 0.0},\n",
      " ('forward', 'green', 'forward', None, None): {None: 0.0,\n",
      "                                               'forward': 1.2179544999686898,\n",
      "                                               'left': 0.0,\n",
      "                                               'right': 0.0}}\n"
     ]
    }
   ],
   "source": [
    "Q={('forward', 'green', None, None, None): {None: 0.0,\n",
    "                                          'forward': 19.044206782279666,\n",
    "                                          'left': 0.0,\n",
    "                                          'right': 0.0},\n",
    " ('forward', 'green', None, 'forward', None): {None: 0.0,\n",
    "                                               'forward': 0.884939212763202,\n",
    "                                               'left': 0.0,\n",
    "                                               'right': 0.0},\n",
    " ('forward', 'green', 'forward', None, None): {None: 0.0,\n",
    "                                               'forward': 1.2179544999686898,\n",
    "                                               'left': 0.0,\n",
    "                                               'right': 0.0}\n",
    "}\n",
    "\n",
    "import pprint\n",
    "pprint.pprint(Q)"
   ]
  },
  {
   "cell_type": "code",
   "execution_count": 52,
   "metadata": {
    "collapsed": false
   },
   "outputs": [
    {
     "name": "stdout",
     "output_type": "stream",
     "text": [
      "<type 'dict'>\n",
      "[('forward', 'green', None, None, None), ('forward', 'green', 'forward', None, None), ('forward', 'green', None, 'forward', None)]\n"
     ]
    }
   ],
   "source": [
    "#maxQidx=max(self.Q[self.state].iteritems(), key=operator.itemgetter(1))[0]\n",
    "print type(Q)\n",
    "print Q.keys()"
   ]
  },
  {
   "cell_type": "code",
   "execution_count": 56,
   "metadata": {
    "collapsed": false
   },
   "outputs": [
    {
     "data": {
      "text/plain": [
       "{None: 0.0, 'forward': 19.044206782279666, 'left': 0.0, 'right': 0.0}"
      ]
     },
     "execution_count": 56,
     "metadata": {},
     "output_type": "execute_result"
    }
   ],
   "source": [
    "dict1=Q[('forward', 'green', None, None, None)]"
   ]
  },
  {
   "cell_type": "code",
   "execution_count": 59,
   "metadata": {
    "collapsed": false
   },
   "outputs": [
    {
     "name": "stdout",
     "output_type": "stream",
     "text": [
      "[19.044206782279666, 0.0, 0.0, 0.0]\n"
     ]
    }
   ],
   "source": [
    "dict2=Q[('forward', 'green', None, None, None)].values()\n",
    "print dict2"
   ]
  },
  {
   "cell_type": "code",
   "execution_count": 62,
   "metadata": {
    "collapsed": false
   },
   "outputs": [
    {
     "ename": "AttributeError",
     "evalue": "'dictionary-itemiterator' object has no attribute 'values'",
     "output_type": "error",
     "traceback": [
      "\u001b[0;31m---------------------------------------------------------------------------\u001b[0m",
      "\u001b[0;31mAttributeError\u001b[0m                            Traceback (most recent call last)",
      "\u001b[0;32m<ipython-input-62-b85bccf37101>\u001b[0m in \u001b[0;36m<module>\u001b[0;34m()\u001b[0m\n\u001b[0;32m----> 1\u001b[0;31m \u001b[0mdict3\u001b[0m\u001b[0;34m=\u001b[0m\u001b[0mQ\u001b[0m\u001b[0;34m[\u001b[0m\u001b[0;34m(\u001b[0m\u001b[0;34m'forward'\u001b[0m\u001b[0;34m,\u001b[0m \u001b[0;34m'green'\u001b[0m\u001b[0;34m,\u001b[0m \u001b[0mNone\u001b[0m\u001b[0;34m,\u001b[0m \u001b[0mNone\u001b[0m\u001b[0;34m,\u001b[0m \u001b[0mNone\u001b[0m\u001b[0;34m)\u001b[0m\u001b[0;34m]\u001b[0m\u001b[0;34m.\u001b[0m\u001b[0miteritems\u001b[0m\u001b[0;34m(\u001b[0m\u001b[0;34m)\u001b[0m\u001b[0;34m.\u001b[0m\u001b[0mvalues\u001b[0m\u001b[0;34m(\u001b[0m\u001b[0;34m)\u001b[0m\u001b[0;34m\u001b[0m\u001b[0m\n\u001b[0m\u001b[1;32m      2\u001b[0m \u001b[0;32mprint\u001b[0m \u001b[0mdict3\u001b[0m\u001b[0;34m\u001b[0m\u001b[0m\n",
      "\u001b[0;31mAttributeError\u001b[0m: 'dictionary-itemiterator' object has no attribute 'values'"
     ]
    }
   ],
   "source": [
    "dict3=Q[('forward', 'green', None, None, None)].iteritems()\n",
    "print dict3"
   ]
  },
  {
   "cell_type": "code",
   "execution_count": 60,
   "metadata": {
    "collapsed": false
   },
   "outputs": [
    {
     "ename": "TypeError",
     "evalue": "'float' object has no attribute '__getitem__'",
     "output_type": "error",
     "traceback": [
      "\u001b[0;31m---------------------------------------------------------------------------\u001b[0m",
      "\u001b[0;31mTypeError\u001b[0m                                 Traceback (most recent call last)",
      "\u001b[0;32m<ipython-input-60-47e327099c47>\u001b[0m in \u001b[0;36m<module>\u001b[0;34m()\u001b[0m\n\u001b[0;32m----> 1\u001b[0;31m \u001b[0;32mprint\u001b[0m \u001b[0mmax\u001b[0m\u001b[0;34m(\u001b[0m\u001b[0mdict2\u001b[0m\u001b[0;34m,\u001b[0m\u001b[0mkey\u001b[0m\u001b[0;34m=\u001b[0m\u001b[0moperator\u001b[0m\u001b[0;34m.\u001b[0m\u001b[0mitemgetter\u001b[0m\u001b[0;34m(\u001b[0m\u001b[0;36m1\u001b[0m\u001b[0;34m)\u001b[0m\u001b[0;34m)\u001b[0m\u001b[0;34m[\u001b[0m\u001b[0;36m0\u001b[0m\u001b[0;34m]\u001b[0m\u001b[0;34m\u001b[0m\u001b[0m\n\u001b[0m",
      "\u001b[0;31mTypeError\u001b[0m: 'float' object has no attribute '__getitem__'"
     ]
    }
   ],
   "source": [
    "print max(dict2,key=operator.itemgetter(1))[0]"
   ]
  },
  {
   "cell_type": "code",
   "execution_count": 64,
   "metadata": {
    "collapsed": false
   },
   "outputs": [
    {
     "name": "stdout",
     "output_type": "stream",
     "text": [
      "{u'1': 2,\n",
      " u'10': 1,\n",
      " u'2': 2,\n",
      " u'3': 2,\n",
      " u'4': 2,\n",
      " u'5': 2,\n",
      " u'6': 2,\n",
      " u'7': 2,\n",
      " u'8': 2,\n",
      " u'9': 2}\n"
     ]
    }
   ],
   "source": [
    "MyCount= {u'10': 1, u'1': 2, u'3': 2, u'2': 2, u'5': 2, u'4': 2, u'7': 2, u'6': 2, u'9': 2, u'8': 2}\n",
    "pprint.pprint(MyCount)"
   ]
  },
  {
   "cell_type": "code",
   "execution_count": 65,
   "metadata": {
    "collapsed": false
   },
   "outputs": [
    {
     "name": "stdout",
     "output_type": "stream",
     "text": [
      "[u'1', u'10', u'3', u'2', u'5', u'4', u'7', u'6', u'9', u'8']\n"
     ]
    }
   ],
   "source": [
    "print MyCount.keys()"
   ]
  },
  {
   "cell_type": "code",
   "execution_count": 66,
   "metadata": {
    "collapsed": false
   },
   "outputs": [
    {
     "data": {
      "text/plain": [
       "u'10'"
      ]
     },
     "execution_count": 66,
     "metadata": {},
     "output_type": "execute_result"
    }
   ],
   "source": [
    "max(MyCount.keys(), key=int)"
   ]
  },
  {
   "cell_type": "code",
   "execution_count": 67,
   "metadata": {
    "collapsed": false
   },
   "outputs": [
    {
     "data": {
      "text/plain": [
       "'b'"
      ]
     },
     "execution_count": 67,
     "metadata": {},
     "output_type": "execute_result"
    }
   ],
   "source": [
    "import operator\n",
    "stats = {'a':1000, 'b':3000, 'c': 100}\n",
    "max(stats.iteritems(), key=operator.itemgetter(1))[0]"
   ]
  },
  {
   "cell_type": "code",
   "execution_count": 70,
   "metadata": {
    "collapsed": false
   },
   "outputs": [
    {
     "data": {
      "text/plain": [
       "<operator.itemgetter at 0x111f9c090>"
      ]
     },
     "execution_count": 70,
     "metadata": {},
     "output_type": "execute_result"
    }
   ],
   "source": [
    "operator.itemgetter(1)"
   ]
  },
  {
   "cell_type": "code",
   "execution_count": null,
   "metadata": {
    "collapsed": true
   },
   "outputs": [],
   "source": []
  }
 ],
 "metadata": {
  "kernelspec": {
   "display_name": "Python [default]",
   "language": "python",
   "name": "python2"
  },
  "language_info": {
   "codemirror_mode": {
    "name": "ipython",
    "version": 2
   },
   "file_extension": ".py",
   "mimetype": "text/x-python",
   "name": "python",
   "nbconvert_exporter": "python",
   "pygments_lexer": "ipython2",
   "version": "2.7.12"
  }
 },
 "nbformat": 4,
 "nbformat_minor": 1
}
