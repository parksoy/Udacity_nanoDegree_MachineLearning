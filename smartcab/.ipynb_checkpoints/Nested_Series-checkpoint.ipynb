{
 "cells": [
  {
   "cell_type": "code",
   "execution_count": 16,
   "metadata": {
    "collapsed": false
   },
   "outputs": [
    {
     "name": "stdout",
     "output_type": "stream",
     "text": [
      "type d <type 'dict'>\n",
      "--------------------\n",
      "pd.Series(d)--\n",
      "cantor       {u'score': 0.10681356781, u'ping': 88}\n",
      "godel       {u'score': 0.724306444216, u'ping': 19}\n",
      "russell    {u'score': 0.0730361751991, u'ping': 23}\n",
      "dtype: object\n",
      "--------------------\n",
      "df---\n",
      "          cantor      godel    russell\n",
      "ping   88.000000  19.000000  23.000000\n",
      "score   0.106814   0.724306   0.073036\n",
      "--------------------\n",
      "df_unstack---\n",
      "cantor   ping     88.000000\n",
      "         score     0.106814\n",
      "godel    ping     19.000000\n",
      "         score     0.724306\n",
      "russell  ping     23.000000\n",
      "         score     0.073036\n",
      "dtype: float64\n"
     ]
    }
   ],
   "source": [
    "import pandas as pd\n",
    "import numpy as np\n",
    "\n",
    "d = {\"russell\": {\"score\": np.random.rand(), \"ping\": np.random.randint(10, 100)},\n",
    "    \"cantor\": {\"score\": np.random.rand(), \"ping\": np.random.randint(10, 100)},\n",
    "    \"godel\": {\"score\": np.random.rand(), \"ping\": np.random.randint(10, 100)}}\n",
    "\n",
    "print \"type d\", type(d)\n",
    "print \"--\"*10\n",
    "\n",
    "print \"pd.Series(d)--\\n\", pd.Series(d)\n",
    "print \"--\"*10\n",
    "\n",
    "df=pd.DataFrame(d)\n",
    "\n",
    "print \"df---\\n\",df\n",
    "print \"--\"*10\n",
    "df_unstack=df.unstack()\n",
    "print \"df_unstack---\\n\",df_unstack\n"
   ]
  },
  {
   "cell_type": "code",
   "execution_count": 17,
   "metadata": {
    "collapsed": false
   },
   "outputs": [
    {
     "name": "stdout",
     "output_type": "stream",
     "text": [
      "df---\n",
      "          cantor      godel    russell\n",
      "ping   88.000000  19.000000  23.000000\n",
      "score   0.106814   0.724306   0.073036\n",
      "--------------------\n",
      "df_stack-----\n",
      "ping   cantor     88.000000\n",
      "       godel      19.000000\n",
      "       russell    23.000000\n",
      "score  cantor      0.106814\n",
      "       godel       0.724306\n",
      "       russell     0.073036\n",
      "dtype: float64\n"
     ]
    }
   ],
   "source": [
    "#To swap levels in MultiIndex\n",
    "print \"df---\\n\",df\n",
    "print \"--\"*10\n",
    "df_stack=df.stack()\n",
    "print \"df_stack-----\\n\", df_stack"
   ]
  },
  {
   "cell_type": "code",
   "execution_count": null,
   "metadata": {
    "collapsed": true
   },
   "outputs": [],
   "source": []
  },
  {
   "cell_type": "code",
   "execution_count": null,
   "metadata": {
    "collapsed": true
   },
   "outputs": [],
   "source": []
  }
 ],
 "metadata": {
  "kernelspec": {
   "display_name": "Python [default]",
   "language": "python",
   "name": "python2"
  },
  "language_info": {
   "codemirror_mode": {
    "name": "ipython",
    "version": 2
   },
   "file_extension": ".py",
   "mimetype": "text/x-python",
   "name": "python",
   "nbconvert_exporter": "python",
   "pygments_lexer": "ipython2",
   "version": "2.7.12"
  }
 },
 "nbformat": 4,
 "nbformat_minor": 1
}
