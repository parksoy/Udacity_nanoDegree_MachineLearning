{
 "cells": [
  {
   "cell_type": "markdown",
   "metadata": {
    "collapsed": true
   },
   "source": [
    "https://github.com/KuangyiYang/P4-smartcab/blob/master/smartcab/Qlearning.py\n",
    "\n",
    "https://github.com/KuangyiYang/P4-smartcab/blob/master/smartcab/simulator.py\n",
    "\n",
    "\n",
    "https://github.com/Edderic/udacity-machine-learning-nanodegree/blob/master/p4-smartcab/smartcab/simulator.py\n",
    "\n",
    "\n",
    "GA Tech course https://www.omscs.gatech.edu/cs-8803-special-topics-reinforcement-learning  \n",
    "\n",
    "The textbook :\n",
    "http://webdocs.cs.ualberta.ca/~sutton/book/ebook/the-book.html\n",
    "\n",
    "\n",
    "\n",
    "Quiz came from here: Chapter 17\n",
    "shortest path, reliability  \n",
    "http://aima.cs.berkeley.edu/\n",
    "\n"
   ]
  },
  {
   "cell_type": "markdown",
   "metadata": {},
   "source": [
    "Markov Decision Process\n",
    "(No condition from the past, only present matters)\n",
    "\n",
    "Defines a problem:  \n",
    "\n",
    "- State S  \n",
    "- Model T(s,a,s')  \n",
    "- Action A(s)  \n",
    "- Reward R(s), R(s,a), R(s,a,s') : scalar  \n",
    "\n",
    "Solution of solving MDP:  \n",
    "\n",
    "- Policy pi(s)->a  \n",
    "- optimal policy pi' : over your lifetime  \n",
    "\n",
    "\n"
   ]
  },
  {
   "cell_type": "markdown",
   "metadata": {},
   "source": [
    "A proof of the convergence of Value Iteration:  \n",
    "https://s3.amazonaws.com/ml-class/notes/MDPIntro.pdf\n",
    "\n"
   ]
  },
  {
   "cell_type": "markdown",
   "metadata": {},
   "source": [
    "BURLAP:   \n",
    "http://burlap.cs.brown.edu/doc/  \n",
    "\n",
    "BURLAP .jar file: http://burlap.cs.brown.edu/burlap.jar\n",
    "\n"
   ]
  },
  {
   "cell_type": "markdown",
   "metadata": {},
   "source": [
    "Temporal Difference Learning\"\n",
    "\n",
    "http://webdocs.cs.ualberta.ca/~sutton/papers/sutton-88-with-erratum.pdf\n",
    "\n"
   ]
  },
  {
   "cell_type": "markdown",
   "metadata": {},
   "source": []
  }
 ],
 "metadata": {
  "anaconda-cloud": {},
  "kernelspec": {
   "display_name": "Python [default]",
   "language": "python",
   "name": "python2"
  },
  "language_info": {
   "codemirror_mode": {
    "name": "ipython",
    "version": 2
   },
   "file_extension": ".py",
   "mimetype": "text/x-python",
   "name": "python",
   "nbconvert_exporter": "python",
   "pygments_lexer": "ipython2",
   "version": "2.7.12"
  }
 },
 "nbformat": 4,
 "nbformat_minor": 1
}
